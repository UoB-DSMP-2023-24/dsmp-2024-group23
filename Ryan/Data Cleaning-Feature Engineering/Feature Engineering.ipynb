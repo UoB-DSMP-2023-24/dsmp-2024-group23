{
 "cells": [
  {
   "cell_type": "markdown",
   "source": [
    "# Feature Engineering\n",
    "Now we try to extract some features from the data that we have. Then we can use the new features to train our model.\n",
    "\n",
    "For Tape data we use the combined tape data `Tapes_all.csv`;\n",
    "\n",
    "For the LOB, I have already applied the same process to the whole dataset and saved the new features to a new csv file. The code is in `ParsingLOB.py` and `Parsing_LOB3.0.py`."
   ],
   "metadata": {
    "collapsed": false
   },
   "id": "ab84a221406d9258"
  },
  {
   "cell_type": "code",
   "outputs": [],
   "source": [
    "import pandas as pd\n",
    "import numpy as np\n",
    "import matplotlib.pyplot as plt\n",
    "import seaborn as sns"
   ],
   "metadata": {
    "collapsed": false,
    "ExecuteTime": {
     "end_time": "2024-02-13T13:43:34.976335900Z",
     "start_time": "2024-02-13T13:43:34.960315500Z"
    }
   },
   "id": "de759660382d9c03",
   "execution_count": 1
  },
  {
   "cell_type": "code",
   "outputs": [],
   "source": [
    "tape_data= pd.read_csv('../datasets/Tapes_all.csv')\n",
    "lob_df= pd.read_csv('../datasets/lob_expanded_clean.csv')"
   ],
   "metadata": {
    "collapsed": false,
    "ExecuteTime": {
     "end_time": "2024-02-13T13:43:36.940102100Z",
     "start_time": "2024-02-13T13:43:35.620449200Z"
    }
   },
   "id": "a139ce49b13c05b0",
   "execution_count": 2
  },
  {
   "cell_type": "markdown",
   "source": [
    "## 1. Tape Data\n",
    "We have convert the `Timestamp` to datetime and extract the hour and minute from it, which are two columns in the dataframe.\n",
    "\n",
    "It is important to make a correct time series as index so that we can use fixed time window to calculate the rolling statistics. This prevents the actual time interval between data points from being potentially uneven, resulting in the actual length of time covered by the window potentially varying based on specific timestamp changes."
   ],
   "metadata": {
    "collapsed": false
   },
   "id": "1328597c8acaa22f"
  },
  {
   "cell_type": "markdown",
   "source": [
    "### Convert time data\n",
    "From `Timestamp` we can extract `Hour` and `Minute` as new columns.\n",
    "Then we create `Datetime` and use it as the index."
   ],
   "metadata": {
    "collapsed": false
   },
   "id": "c611adb2d1f02a21"
  },
  {
   "cell_type": "code",
   "outputs": [],
   "source": [
    "# 1. convert datetime\n",
    "tape_data['Date'] = pd.to_datetime(tape_data['Date'])\n",
    "tape_data['Hour'] = (tape_data['Timestamp'] // 3600).astype(int)\n",
    "tape_data['Minute'] = (tape_data['Timestamp'] // 60).astype(int) % 60\n",
    "tape_data['Timestamp'] = tape_data['Timestamp'].astype(float)\n",
    "\n",
    "# Generate a new column for datetime as index\n",
    "tape_data['Datetime'] = pd.to_datetime(tape_data['Date']) + pd.to_timedelta(tape_data['Hour'], unit='h') + pd.to_timedelta(tape_data['Minute'], unit='m')\n",
    "\n",
    "tape_data.set_index('Datetime', inplace=True)\n",
    "\n",
    "tape_data.head()\n",
    "\n",
    "# save the tape data\n",
    "tape_data.to_csv('Tapes_all_time_converted.csv')\n"
   ],
   "metadata": {
    "collapsed": false,
    "ExecuteTime": {
     "end_time": "2024-02-13T13:44:33.505302200Z",
     "start_time": "2024-02-13T13:44:25.463652500Z"
    }
   },
   "id": "c6f8fe8f4130283",
   "execution_count": 5
  },
  {
   "cell_type": "markdown",
   "source": [
    "### Rolling Statistics\n",
    "1. **Rolling Mean**: Also known as moving average, it calculates the average value of data points within a time window and updates as the time window moves. In financial data analysis, the rolling mean helps to smooth out price data, reducing short-term fluctuations, thereby revealing the long-term trend of prices.\n",
    "\n",
    "2. **Rolling Standard Deviation**: Rolling standard deviation measures the variability or volatility of data points within a time window. In the financial markets, a higher rolling standard deviation indicates greater volatility in asset prices, which may signify higher risk.\n",
    "\n",
    "3. **Rolling Max and Min**: These metrics represent the highest and lowest prices within the time window, respectively. They help identify extreme price changes within a given time window, useful for identifying potential support and resistance levels.\n",
    "\n",
    "### Historical Differences\n",
    "1. **Price Change**: The historical difference in prices (i.e., the difference between consecutive prices) reflects the change in price from one point in time to another. This is very useful for capturing short-term momentum in prices and can help analyze upward or downward price trends.\n",
    "\n",
    "2. **Volume Change**: The historical difference in trading volume represents the change in volume between consecutive time points. An increase in trading volume typically indicates an increase in the strength of the trend, while a decrease in volume may indicate a weakening of the trend.\n"
   ],
   "metadata": {
    "collapsed": false
   },
   "id": "80b76d036c880c52"
  },
  {
   "cell_type": "code",
   "outputs": [],
   "source": [
    "# This is a function to calculate the rolling statistics and diff for specified column\n",
    "def calculate_rolling_stats_diff(data, column_name, time_windows):\n",
    "    \"\"\"\n",
    "    计算给定列的滚动统计量和历史差分，并只返回这些计算结果。\n",
    "\n",
    "    :param\n",
    "    data: pd.DataFrame, 包含时间序列数据的DataFrame，索引应为DatetimeIndex。\n",
    "    column_name: str, 要计算滚动统计量的列名。\n",
    "    time_windows: list of str, \n",
    "    # SET time window sizes\n",
    "    # T = minute, H = hour, D = day.\n",
    "\n",
    "    :return\n",
    "    pd.DataFrame, 包含给定列的滚动统计量和历史差分的DataFrame。\n",
    "    \"\"\"\n",
    "    # initialize a empty dataframe to store the result\n",
    "    result_df = pd.DataFrame(index=data.index)\n",
    "    \n",
    "    # rolling statistics\n",
    "    for window in time_windows:\n",
    "        result_df[f'{column_name}_RollingMean_{window}'] = data[column_name].rolling(window=window, min_periods=1).mean()\n",
    "        result_df[f'{column_name}_RollingStd_{window}'] = data[column_name].rolling(window=window, min_periods=1).std()\n",
    "        result_df[f'{column_name}_RollingMax_{window}'] = data[column_name].rolling(window=window, min_periods=1).max()\n",
    "        result_df[f'{column_name}_RollingMin_{window}'] = data[column_name].rolling(window=window, min_periods=1).min()\n",
    "\n",
    "    # historical diff\n",
    "    result_df[f'{column_name}_Diff'] = data[column_name].diff()\n",
    "    \n",
    "    return result_df"
   ],
   "metadata": {
    "collapsed": false,
    "ExecuteTime": {
     "end_time": "2024-02-12T23:12:06.122137100Z",
     "start_time": "2024-02-12T23:12:06.109171200Z"
    }
   },
   "id": "584acba250a90b5d",
   "execution_count": 8
  },
  {
   "cell_type": "markdown",
   "source": [],
   "metadata": {
    "collapsed": false
   },
   "id": "1c67ee55ef5fe252"
  },
  {
   "cell_type": "code",
   "outputs": [
    {
     "data": {
      "text/plain": "            Price_RollingMean_5T  Price_RollingStd_5T  Price_RollingMax_5T  \\\nDatetime                                                                     \n2025-01-02            267.000000                  NaN                267.0   \n2025-01-02            268.000000             1.414214                269.0   \n2025-01-02            267.666667             1.154701                269.0   \n2025-01-02            268.250000             1.500000                270.0   \n2025-01-02            268.000000             1.414214                270.0   \n2025-01-02            267.500000             1.760682                270.0   \n2025-01-02            267.285714             1.704336                270.0   \n2025-01-02            266.875000             1.959410                270.0   \n2025-01-02            266.222222             2.682246                270.0   \n2025-01-02            266.000000             2.624669                270.0   \n2025-01-02            265.818182             2.561959                270.0   \n2025-01-02            265.583333             2.574643                270.0   \n2025-01-02            265.384615             2.567050                270.0   \n2025-01-02            265.571429             2.563480                270.0   \n2025-01-02            265.666667             2.497618                270.0   \n2025-01-02            265.500000             2.503331                270.0   \n2025-01-02            265.235294             2.658228                270.0   \n2025-01-02            265.500000             2.812786                270.0   \n2025-01-02            265.368421             2.793057                270.0   \n2025-01-02            265.150000             2.888726                270.0   \n2025-01-02            264.904762             3.031580                270.0   \n2025-01-02            264.681818             3.137885                270.0   \n2025-01-02            264.434783             3.286696                270.0   \n2025-01-02            264.208333             3.400501                270.0   \n2025-01-02            264.000000             3.488075                270.0   \n2025-01-02            263.730769             3.683017                270.0   \n2025-01-02            263.407407             3.983227                270.0   \n2025-01-02            263.000000             4.463847                270.0   \n2025-01-02            262.758621             4.572083                270.0   \n2025-01-02            262.566667             4.613947                270.0   \n2025-01-02            262.387097             4.645266                270.0   \n2025-01-02            262.250000             4.635070                270.0   \n2025-01-02            262.121212             4.621672                270.0   \n2025-01-02            262.235294             4.599465                270.0   \n2025-01-02            262.285714             4.541129                270.0   \n2025-01-02            262.333333             4.484895                270.0   \n2025-01-02            262.351351             4.423524                270.0   \n2025-01-02            262.368421             4.364606                270.0   \n2025-01-02            262.384615             4.307981                270.0   \n2025-01-02            262.350000             4.258024                270.0   \n\n            Price_RollingMin_5T  Price_Diff  \nDatetime                                     \n2025-01-02                267.0         NaN  \n2025-01-02                267.0         2.0  \n2025-01-02                267.0        -2.0  \n2025-01-02                267.0         3.0  \n2025-01-02                267.0        -3.0  \n2025-01-02                265.0        -2.0  \n2025-01-02                265.0         1.0  \n2025-01-02                264.0        -2.0  \n2025-01-02                261.0        -3.0  \n2025-01-02                261.0         3.0  \n2025-01-02                261.0         0.0  \n2025-01-02                261.0        -1.0  \n2025-01-02                261.0         0.0  \n2025-01-02                261.0         5.0  \n2025-01-02                261.0        -1.0  \n2025-01-02                261.0        -4.0  \n2025-01-02                261.0        -2.0  \n2025-01-02                261.0         9.0  \n2025-01-02                261.0        -7.0  \n2025-01-02                261.0        -2.0  \n2025-01-02                260.0        -1.0  \n2025-01-02                260.0         0.0  \n2025-01-02                259.0        -1.0  \n2025-01-02                259.0         0.0  \n2025-01-02                259.0         0.0  \n2025-01-02                257.0        -2.0  \n2025-01-02                255.0        -2.0  \n2025-01-02                252.0        -3.0  \n2025-01-02                252.0         4.0  \n2025-01-02                252.0         1.0  \n2025-01-02                252.0         0.0  \n2025-01-02                252.0         1.0  \n2025-01-02                252.0         0.0  \n2025-01-02                252.0         8.0  \n2025-01-02                252.0        -2.0  \n2025-01-02                252.0         0.0  \n2025-01-02                252.0        -1.0  \n2025-01-02                252.0         0.0  \n2025-01-02                252.0         0.0  \n2025-01-02                252.0        -2.0  ",
      "text/html": "<div>\n<style scoped>\n    .dataframe tbody tr th:only-of-type {\n        vertical-align: middle;\n    }\n\n    .dataframe tbody tr th {\n        vertical-align: top;\n    }\n\n    .dataframe thead th {\n        text-align: right;\n    }\n</style>\n<table border=\"1\" class=\"dataframe\">\n  <thead>\n    <tr style=\"text-align: right;\">\n      <th></th>\n      <th>Price_RollingMean_5T</th>\n      <th>Price_RollingStd_5T</th>\n      <th>Price_RollingMax_5T</th>\n      <th>Price_RollingMin_5T</th>\n      <th>Price_Diff</th>\n    </tr>\n    <tr>\n      <th>Datetime</th>\n      <th></th>\n      <th></th>\n      <th></th>\n      <th></th>\n      <th></th>\n    </tr>\n  </thead>\n  <tbody>\n    <tr>\n      <th>2025-01-02</th>\n      <td>267.000000</td>\n      <td>NaN</td>\n      <td>267.0</td>\n      <td>267.0</td>\n      <td>NaN</td>\n    </tr>\n    <tr>\n      <th>2025-01-02</th>\n      <td>268.000000</td>\n      <td>1.414214</td>\n      <td>269.0</td>\n      <td>267.0</td>\n      <td>2.0</td>\n    </tr>\n    <tr>\n      <th>2025-01-02</th>\n      <td>267.666667</td>\n      <td>1.154701</td>\n      <td>269.0</td>\n      <td>267.0</td>\n      <td>-2.0</td>\n    </tr>\n    <tr>\n      <th>2025-01-02</th>\n      <td>268.250000</td>\n      <td>1.500000</td>\n      <td>270.0</td>\n      <td>267.0</td>\n      <td>3.0</td>\n    </tr>\n    <tr>\n      <th>2025-01-02</th>\n      <td>268.000000</td>\n      <td>1.414214</td>\n      <td>270.0</td>\n      <td>267.0</td>\n      <td>-3.0</td>\n    </tr>\n    <tr>\n      <th>2025-01-02</th>\n      <td>267.500000</td>\n      <td>1.760682</td>\n      <td>270.0</td>\n      <td>265.0</td>\n      <td>-2.0</td>\n    </tr>\n    <tr>\n      <th>2025-01-02</th>\n      <td>267.285714</td>\n      <td>1.704336</td>\n      <td>270.0</td>\n      <td>265.0</td>\n      <td>1.0</td>\n    </tr>\n    <tr>\n      <th>2025-01-02</th>\n      <td>266.875000</td>\n      <td>1.959410</td>\n      <td>270.0</td>\n      <td>264.0</td>\n      <td>-2.0</td>\n    </tr>\n    <tr>\n      <th>2025-01-02</th>\n      <td>266.222222</td>\n      <td>2.682246</td>\n      <td>270.0</td>\n      <td>261.0</td>\n      <td>-3.0</td>\n    </tr>\n    <tr>\n      <th>2025-01-02</th>\n      <td>266.000000</td>\n      <td>2.624669</td>\n      <td>270.0</td>\n      <td>261.0</td>\n      <td>3.0</td>\n    </tr>\n    <tr>\n      <th>2025-01-02</th>\n      <td>265.818182</td>\n      <td>2.561959</td>\n      <td>270.0</td>\n      <td>261.0</td>\n      <td>0.0</td>\n    </tr>\n    <tr>\n      <th>2025-01-02</th>\n      <td>265.583333</td>\n      <td>2.574643</td>\n      <td>270.0</td>\n      <td>261.0</td>\n      <td>-1.0</td>\n    </tr>\n    <tr>\n      <th>2025-01-02</th>\n      <td>265.384615</td>\n      <td>2.567050</td>\n      <td>270.0</td>\n      <td>261.0</td>\n      <td>0.0</td>\n    </tr>\n    <tr>\n      <th>2025-01-02</th>\n      <td>265.571429</td>\n      <td>2.563480</td>\n      <td>270.0</td>\n      <td>261.0</td>\n      <td>5.0</td>\n    </tr>\n    <tr>\n      <th>2025-01-02</th>\n      <td>265.666667</td>\n      <td>2.497618</td>\n      <td>270.0</td>\n      <td>261.0</td>\n      <td>-1.0</td>\n    </tr>\n    <tr>\n      <th>2025-01-02</th>\n      <td>265.500000</td>\n      <td>2.503331</td>\n      <td>270.0</td>\n      <td>261.0</td>\n      <td>-4.0</td>\n    </tr>\n    <tr>\n      <th>2025-01-02</th>\n      <td>265.235294</td>\n      <td>2.658228</td>\n      <td>270.0</td>\n      <td>261.0</td>\n      <td>-2.0</td>\n    </tr>\n    <tr>\n      <th>2025-01-02</th>\n      <td>265.500000</td>\n      <td>2.812786</td>\n      <td>270.0</td>\n      <td>261.0</td>\n      <td>9.0</td>\n    </tr>\n    <tr>\n      <th>2025-01-02</th>\n      <td>265.368421</td>\n      <td>2.793057</td>\n      <td>270.0</td>\n      <td>261.0</td>\n      <td>-7.0</td>\n    </tr>\n    <tr>\n      <th>2025-01-02</th>\n      <td>265.150000</td>\n      <td>2.888726</td>\n      <td>270.0</td>\n      <td>261.0</td>\n      <td>-2.0</td>\n    </tr>\n    <tr>\n      <th>2025-01-02</th>\n      <td>264.904762</td>\n      <td>3.031580</td>\n      <td>270.0</td>\n      <td>260.0</td>\n      <td>-1.0</td>\n    </tr>\n    <tr>\n      <th>2025-01-02</th>\n      <td>264.681818</td>\n      <td>3.137885</td>\n      <td>270.0</td>\n      <td>260.0</td>\n      <td>0.0</td>\n    </tr>\n    <tr>\n      <th>2025-01-02</th>\n      <td>264.434783</td>\n      <td>3.286696</td>\n      <td>270.0</td>\n      <td>259.0</td>\n      <td>-1.0</td>\n    </tr>\n    <tr>\n      <th>2025-01-02</th>\n      <td>264.208333</td>\n      <td>3.400501</td>\n      <td>270.0</td>\n      <td>259.0</td>\n      <td>0.0</td>\n    </tr>\n    <tr>\n      <th>2025-01-02</th>\n      <td>264.000000</td>\n      <td>3.488075</td>\n      <td>270.0</td>\n      <td>259.0</td>\n      <td>0.0</td>\n    </tr>\n    <tr>\n      <th>2025-01-02</th>\n      <td>263.730769</td>\n      <td>3.683017</td>\n      <td>270.0</td>\n      <td>257.0</td>\n      <td>-2.0</td>\n    </tr>\n    <tr>\n      <th>2025-01-02</th>\n      <td>263.407407</td>\n      <td>3.983227</td>\n      <td>270.0</td>\n      <td>255.0</td>\n      <td>-2.0</td>\n    </tr>\n    <tr>\n      <th>2025-01-02</th>\n      <td>263.000000</td>\n      <td>4.463847</td>\n      <td>270.0</td>\n      <td>252.0</td>\n      <td>-3.0</td>\n    </tr>\n    <tr>\n      <th>2025-01-02</th>\n      <td>262.758621</td>\n      <td>4.572083</td>\n      <td>270.0</td>\n      <td>252.0</td>\n      <td>4.0</td>\n    </tr>\n    <tr>\n      <th>2025-01-02</th>\n      <td>262.566667</td>\n      <td>4.613947</td>\n      <td>270.0</td>\n      <td>252.0</td>\n      <td>1.0</td>\n    </tr>\n    <tr>\n      <th>2025-01-02</th>\n      <td>262.387097</td>\n      <td>4.645266</td>\n      <td>270.0</td>\n      <td>252.0</td>\n      <td>0.0</td>\n    </tr>\n    <tr>\n      <th>2025-01-02</th>\n      <td>262.250000</td>\n      <td>4.635070</td>\n      <td>270.0</td>\n      <td>252.0</td>\n      <td>1.0</td>\n    </tr>\n    <tr>\n      <th>2025-01-02</th>\n      <td>262.121212</td>\n      <td>4.621672</td>\n      <td>270.0</td>\n      <td>252.0</td>\n      <td>0.0</td>\n    </tr>\n    <tr>\n      <th>2025-01-02</th>\n      <td>262.235294</td>\n      <td>4.599465</td>\n      <td>270.0</td>\n      <td>252.0</td>\n      <td>8.0</td>\n    </tr>\n    <tr>\n      <th>2025-01-02</th>\n      <td>262.285714</td>\n      <td>4.541129</td>\n      <td>270.0</td>\n      <td>252.0</td>\n      <td>-2.0</td>\n    </tr>\n    <tr>\n      <th>2025-01-02</th>\n      <td>262.333333</td>\n      <td>4.484895</td>\n      <td>270.0</td>\n      <td>252.0</td>\n      <td>0.0</td>\n    </tr>\n    <tr>\n      <th>2025-01-02</th>\n      <td>262.351351</td>\n      <td>4.423524</td>\n      <td>270.0</td>\n      <td>252.0</td>\n      <td>-1.0</td>\n    </tr>\n    <tr>\n      <th>2025-01-02</th>\n      <td>262.368421</td>\n      <td>4.364606</td>\n      <td>270.0</td>\n      <td>252.0</td>\n      <td>0.0</td>\n    </tr>\n    <tr>\n      <th>2025-01-02</th>\n      <td>262.384615</td>\n      <td>4.307981</td>\n      <td>270.0</td>\n      <td>252.0</td>\n      <td>0.0</td>\n    </tr>\n    <tr>\n      <th>2025-01-02</th>\n      <td>262.350000</td>\n      <td>4.258024</td>\n      <td>270.0</td>\n      <td>252.0</td>\n      <td>-2.0</td>\n    </tr>\n  </tbody>\n</table>\n</div>"
     },
     "execution_count": 16,
     "metadata": {},
     "output_type": "execute_result"
    }
   ],
   "source": [
    "# Now we only use 5 minutes as an example window size\n",
    "time_window_sizes = ['5T']\n",
    "\n",
    "rolling_stats_price = calculate_rolling_stats_diff(tape_data, 'Price', time_window_sizes)\n",
    "\n",
    "# 查询2025年1月2日第一分钟内的数据\n",
    "# check the data in the first minute\n",
    "selected_data = rolling_stats_price['2025-01-02 00:00':'2025-01-02 00:00']\n",
    "selected_data"
   ],
   "metadata": {
    "collapsed": false,
    "ExecuteTime": {
     "end_time": "2024-02-12T23:17:34.472803300Z",
     "start_time": "2024-02-12T23:17:33.958700300Z"
    }
   },
   "id": "7797d83c88a505b3",
   "execution_count": 16
  },
  {
   "cell_type": "markdown",
   "source": [
    "In summary, these moving statistics and historical difference indicators provide rich information for feature extraction in time series data. In financial market analysis, these features help to better understand market behavior, providing a foundation for modeling and forecasting. By combining these features, more refined and predictive models can be constructed to forecast future price movements or identify trading signals."
   ],
   "metadata": {
    "collapsed": false
   },
   "id": "97ed49488d9abb5"
  },
  {
   "cell_type": "markdown",
   "source": [
    "### RSI, MACD, VWAP, Bollinger Bands"
   ],
   "metadata": {
    "collapsed": false
   },
   "id": "dfc44e0c82a06c35"
  },
  {
   "cell_type": "code",
   "outputs": [
    {
     "name": "stderr",
     "output_type": "stream",
     "text": [
      "\n",
      "KeyboardInterrupt\n",
      "\n"
     ]
    }
   ],
   "source": [
    "from Ryan.packages.Feature_extraction_tapes import calculate_MACD, calculate_RSI,calculate_VWAP,calculate_bollinger_bands\n",
    "\n",
    "# calculate RSI\n",
    "RSI= calculate_RSI(tape_data)\n",
    "macd_line, signal_line, histogram= calculate_MACD(tape_data,fast_period=12, slow_period=26, signal_period=9)\n",
    "VWAP= calculate_VWAP(tape_data)\n",
    "Bollinger_Bands= calculate_bollinger_bands(tape_data)"
   ],
   "metadata": {
    "collapsed": false,
    "is_executing": true,
    "ExecuteTime": {
     "start_time": "2024-02-13T13:33:47.453903400Z"
    }
   },
   "id": "4901cce9fcf76109",
   "execution_count": null
  },
  {
   "cell_type": "markdown",
   "source": [
    "# 2. Limit Order Book Data\n",
    "## 1. Add New Features\n",
    "We try to extract more information from `Orders` column in the dataframe. We will calculate the following features: (for each row)\n",
    "- Total Bid Quantity: The total quantity of all bid orders\n",
    "- Total Ask Quantity: The total quantity of all ask orders\n",
    "- Max Bid Price: The highest bid price\n",
    "- Min Ask Price: The lowest ask price\n",
    "- Spread: The difference between the lowest ask price and the highest bid price\n",
    "- Weighted Avg Bid Price: The weighted average of all bid prices\n",
    "- Weighted Avg Ask Price: The weighted average of all ask prices\n",
    "- Bid-Ask Quantity Ratio: The ratio of total bid quantity to total ask quantity\n",
    "\n",
    "This is just an example for one LOB data. We will later use the `Parsing_LOB.py` and `Parsing_LOB3.0.py` to make the process on all LOB files and combine them into one dataset."
   ],
   "metadata": {
    "collapsed": false
   },
   "id": "d43cdf3672c66c41"
  },
  {
   "cell_type": "code",
   "outputs": [
    {
     "name": "stdout",
     "output_type": "stream",
     "text": [
      "   Timestamp Exchange                                             Orders  \\\n",
      "0      1.333    Exch0           [['bid', [[1, 6]]], ['ask', [[800, 1]]]]   \n",
      "1      1.581    Exch0           [['bid', [[1, 6]]], ['ask', [[799, 1]]]]   \n",
      "2      1.643    Exch0           [['bid', [[1, 6]]], ['ask', [[798, 1]]]]   \n",
      "3      1.736    Exch0  [['bid', [[261, 1], [1, 6]]], ['ask', [[798, 1...   \n",
      "4      1.984    Exch0  [['bid', [[261, 1], [1, 6]]], ['ask', [[797, 1...   \n",
      "\n",
      "   Bid Price  Bid Quantity  Ask Price  Ask Quantity  Total Bid Quantity  \\\n",
      "0        1.0           6.0      800.0           1.0                 6.0   \n",
      "1        1.0           6.0      799.0           1.0                 6.0   \n",
      "2        1.0           6.0      798.0           1.0                 6.0   \n",
      "3      261.0           1.0      798.0           1.0                 7.0   \n",
      "4      261.0           1.0      797.0           1.0                 7.0   \n",
      "\n",
      "   Total Ask Quantity  Max Bid Price  Min Ask Price  Spread  \\\n",
      "0                 1.0            1.0          800.0   799.0   \n",
      "1                 1.0            1.0          799.0   798.0   \n",
      "2                 1.0            1.0          798.0   797.0   \n",
      "3                 1.0          261.0          798.0   537.0   \n",
      "4                 1.0          261.0          797.0   536.0   \n",
      "\n",
      "   Weighted Avg Bid Price  Weighted Avg Ask Price  Bid-Ask Quantity Ratio  \n",
      "0                1.000000                   800.0                     6.0  \n",
      "1                1.000000                   799.0                     6.0  \n",
      "2                1.000000                   798.0                     6.0  \n",
      "3               38.142857                   798.0                     7.0  \n",
      "4               38.142857                   797.0                     7.0  \n"
     ]
    }
   ],
   "source": [
    "import ast  # parse string representation of list to list\n",
    "\n",
    "# read the cleaned LOB data\n",
    "lob_cleaned_path = './datasets/lob_expanded_clean.csv'\n",
    "lob_cleaned = pd.read_csv(lob_cleaned_path)\n",
    "\n",
    "# Function to parse the orders and calculate the features\n",
    "def parse_orders(row):\n",
    "    orders = ast.literal_eval(row['Orders'])  \n",
    "    bid_orders = orders[0][1]  \n",
    "    ask_orders = orders[1][1]  \n",
    "\n",
    "    # Initialize variables\n",
    "    total_bid_quantity, total_ask_quantity = 0, 0 # total bid and ask quantities\n",
    "    total_bid_value, total_ask_value = 0, 0 # total bid and ask values,values= price * quantity\n",
    "    max_bid_price, min_ask_price = float('-inf'), float('inf') # max bid and min ask prices\n",
    "\n",
    "    for price, quantity in bid_orders:\n",
    "        total_bid_quantity += quantity\n",
    "        total_bid_value += price * quantity\n",
    "        max_bid_price = max(max_bid_price, price)\n",
    "\n",
    "    for price, quantity in ask_orders:\n",
    "        total_ask_quantity += quantity\n",
    "        total_ask_value += price * quantity\n",
    "        min_ask_price = min(min_ask_price, price)\n",
    "\n",
    "    # Calculate additional features\n",
    "    spread = min_ask_price - max_bid_price  # spread: difference between the lowest ask price and the highest bid price\n",
    "    weighted_avg_bid_price = total_bid_value / total_bid_quantity if total_bid_quantity > 0 else 0  \n",
    "    weighted_avg_ask_price = total_ask_value / total_ask_quantity if total_ask_quantity > 0 else 0 \n",
    "    bid_ask_quantity_ratio = total_bid_quantity / total_ask_quantity if total_ask_quantity > 0 else 0 \n",
    "\n",
    "    return pd.Series([total_bid_quantity, total_ask_quantity, max_bid_price, min_ask_price, spread, weighted_avg_bid_price, weighted_avg_ask_price, bid_ask_quantity_ratio])\n",
    "\n",
    "# add the new features to the dataframe\n",
    "lob_cleaned[['Total Bid Quantity', 'Total Ask Quantity', 'Max Bid Price', 'Min Ask Price', 'Spread', 'Weighted Avg Bid Price', 'Weighted Avg Ask Price', 'Bid-Ask Quantity Ratio']] = lob_cleaned.apply(parse_orders, axis=1)\n",
    "\n",
    "print(lob_cleaned.head())"
   ],
   "metadata": {
    "collapsed": false,
    "ExecuteTime": {
     "end_time": "2024-02-08T12:28:26.590188Z",
     "start_time": "2024-02-08T12:27:42.396594700Z"
    }
   },
   "id": "99dc92dedb2b73f3",
   "execution_count": 11
  },
  {
   "cell_type": "code",
   "outputs": [
    {
     "name": "stdout",
     "output_type": "stream",
     "text": [
      "   Timestamp Exchange  Total Bid Quantity  Total Ask Quantity  Max Bid Price  \\\n",
      "0      1.333    Exch0                 6.0                 1.0            1.0   \n",
      "1      1.581    Exch0                 6.0                 1.0            1.0   \n",
      "2      1.643    Exch0                 6.0                 1.0            1.0   \n",
      "3      1.736    Exch0                 7.0                 1.0          261.0   \n",
      "4      1.984    Exch0                 7.0                 1.0          261.0   \n",
      "\n",
      "   Min Ask Price  Spread  Weighted Avg Bid Price  Weighted Avg Ask Price  \\\n",
      "0          800.0   799.0                1.000000                   800.0   \n",
      "1          799.0   798.0                1.000000                   799.0   \n",
      "2          798.0   797.0                1.000000                   798.0   \n",
      "3          798.0   537.0               38.142857                   798.0   \n",
      "4          797.0   536.0               38.142857                   797.0   \n",
      "\n",
      "   Bid-Ask Quantity Ratio  \n",
      "0                     6.0  \n",
      "1                     6.0  \n",
      "2                     6.0  \n",
      "3                     7.0  \n",
      "4                     7.0  \n"
     ]
    }
   ],
   "source": [
    "# save the new features to a new csv file\n",
    "selected_columns = ['Timestamp', 'Exchange', 'Total Bid Quantity', 'Total Ask Quantity', \n",
    "                    'Max Bid Price', 'Min Ask Price', 'Spread', \n",
    "                    'Weighted Avg Bid Price', 'Weighted Avg Ask Price', \n",
    "                    'Bid-Ask Quantity Ratio']\n",
    "\n",
    "new_df = lob_cleaned[selected_columns].copy()\n",
    "print(new_df.head())\n",
    "\n",
    "new_df.to_csv('lob_only_features.csv', index=False)"
   ],
   "metadata": {
    "collapsed": false,
    "ExecuteTime": {
     "end_time": "2024-02-08T12:36:30.183390500Z",
     "start_time": "2024-02-08T12:36:28.403528400Z"
    }
   },
   "id": "6c99c05aa35a3cc1",
   "execution_count": 15
  }
 ],
 "metadata": {
  "kernelspec": {
   "display_name": "Python 3",
   "language": "python",
   "name": "python3"
  },
  "language_info": {
   "codemirror_mode": {
    "name": "ipython",
    "version": 2
   },
   "file_extension": ".py",
   "mimetype": "text/x-python",
   "name": "python",
   "nbconvert_exporter": "python",
   "pygments_lexer": "ipython2",
   "version": "2.7.6"
  }
 },
 "nbformat": 4,
 "nbformat_minor": 5
}

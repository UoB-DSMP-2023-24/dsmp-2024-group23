{
 "cells": [
  {
   "cell_type": "markdown",
   "source": [
    "# Feature Engineering\n",
    "Now we try to extract some features from the data that we have. Then we can use the new features to train our model.\n",
    "\n",
    "Now just use one file to demonstrate the feature engineering process.\n",
    "\n",
    "For the LOB, I have already applied the same process to the whole dataset and saved the new features to a new csv file. The code is in ParsingLOB.py and Parsing_LOB3.0.py"
   ],
   "metadata": {
    "collapsed": false
   },
   "id": "ab84a221406d9258"
  },
  {
   "cell_type": "code",
   "outputs": [],
   "source": [
    "import pandas as pd\n",
    "import numpy as np\n",
    "import matplotlib.pyplot as plt\n",
    "import seaborn as sns\n",
    "tape_df= pd.read_csv('datasets/tape1.csv')\n",
    "lob_df= pd.read_csv('datasets/lob_expanded_clean.csv')"
   ],
   "metadata": {
    "collapsed": false,
    "ExecuteTime": {
     "end_time": "2024-02-08T12:07:35.545702300Z",
     "start_time": "2024-02-08T12:07:34.911293300Z"
    }
   },
   "id": "de759660382d9c03",
   "execution_count": 8
  },
  {
   "cell_type": "markdown",
   "source": [],
   "metadata": {
    "collapsed": false
   },
   "id": "2f39b4a8a81d99b1"
  },
  {
   "cell_type": "markdown",
   "source": [
    "## 1. Tape Data\n",
    "We have convert the `Timestamp` to datetime and extract the hour and minute from it, which are two columns in the dataframe."
   ],
   "metadata": {
    "collapsed": false
   },
   "id": "1328597c8acaa22f"
  },
  {
   "cell_type": "code",
   "outputs": [
    {
     "data": {
      "text/plain": "                       Timestamp  Price  Volume  time_bin  Hour  Minute\n0  1970-01-01 00:00:11.067000000    269       1         0     0       0\n1  1970-01-01 00:00:11.222000000    267       2         0     0       0\n2  1970-01-01 00:00:12.338000000    270       2         0     0       0\n3  1970-01-01 00:00:13.733000000    267       3         0     0       0\n4  1970-01-01 00:00:18.321000000    265       2         0     0       0",
      "text/html": "<div>\n<style scoped>\n    .dataframe tbody tr th:only-of-type {\n        vertical-align: middle;\n    }\n\n    .dataframe tbody tr th {\n        vertical-align: top;\n    }\n\n    .dataframe thead th {\n        text-align: right;\n    }\n</style>\n<table border=\"1\" class=\"dataframe\">\n  <thead>\n    <tr style=\"text-align: right;\">\n      <th></th>\n      <th>Timestamp</th>\n      <th>Price</th>\n      <th>Volume</th>\n      <th>time_bin</th>\n      <th>Hour</th>\n      <th>Minute</th>\n    </tr>\n  </thead>\n  <tbody>\n    <tr>\n      <th>0</th>\n      <td>1970-01-01 00:00:11.067000000</td>\n      <td>269</td>\n      <td>1</td>\n      <td>0</td>\n      <td>0</td>\n      <td>0</td>\n    </tr>\n    <tr>\n      <th>1</th>\n      <td>1970-01-01 00:00:11.222000000</td>\n      <td>267</td>\n      <td>2</td>\n      <td>0</td>\n      <td>0</td>\n      <td>0</td>\n    </tr>\n    <tr>\n      <th>2</th>\n      <td>1970-01-01 00:00:12.338000000</td>\n      <td>270</td>\n      <td>2</td>\n      <td>0</td>\n      <td>0</td>\n      <td>0</td>\n    </tr>\n    <tr>\n      <th>3</th>\n      <td>1970-01-01 00:00:13.733000000</td>\n      <td>267</td>\n      <td>3</td>\n      <td>0</td>\n      <td>0</td>\n      <td>0</td>\n    </tr>\n    <tr>\n      <th>4</th>\n      <td>1970-01-01 00:00:18.321000000</td>\n      <td>265</td>\n      <td>2</td>\n      <td>0</td>\n      <td>0</td>\n      <td>0</td>\n    </tr>\n  </tbody>\n</table>\n</div>"
     },
     "execution_count": 2,
     "metadata": {},
     "output_type": "execute_result"
    }
   ],
   "source": [
    "tape_df.head()"
   ],
   "metadata": {
    "collapsed": false,
    "ExecuteTime": {
     "end_time": "2024-02-08T11:47:51.860812700Z",
     "start_time": "2024-02-08T11:47:51.836201900Z"
    }
   },
   "id": "1bb79eaa1f9bde7c",
   "execution_count": 2
  },
  {
   "cell_type": "markdown",
   "source": [
    "### Rolling Statistics\n",
    "1. **Rolling Mean**: Also known as moving average, it calculates the average value of data points within a time window and updates as the time window moves. In financial data analysis, the rolling mean helps to smooth out price data, reducing short-term fluctuations, thereby revealing the long-term trend of prices.\n",
    "\n",
    "2. **Rolling Standard Deviation**: Rolling standard deviation measures the variability or volatility of data points within a time window. In the financial markets, a higher rolling standard deviation indicates greater volatility in asset prices, which may signify higher risk.\n",
    "\n",
    "3. **Rolling Max and Min**: These metrics represent the highest and lowest prices within the time window, respectively. They help identify extreme price changes within a given time window, useful for identifying potential support and resistance levels.\n"
   ],
   "metadata": {
    "collapsed": false
   },
   "id": "80b76d036c880c52"
  },
  {
   "cell_type": "code",
   "outputs": [
    {
     "data": {
      "text/plain": "   Price  Price_Rolling_Mean  Price_Rolling_Std  Price_Rolling_Max  \\\n0    269                 NaN                NaN                NaN   \n1    267                 NaN                NaN                NaN   \n2    270                 NaN                NaN                NaN   \n3    267                 NaN                NaN                NaN   \n4    265               267.6           1.949359              270.0   \n5    266               267.0           1.870829              270.0   \n6    264               266.4           2.302173              270.0   \n7    261               264.6           2.302173              267.0   \n8    264               264.0           1.870829              266.0   \n9    264               263.8           1.788854              266.0   \n\n   Price_Rolling_Min  Volume  Volume_Rolling_Mean  Volume_Rolling_Std  \\\n0                NaN       1                  NaN                 NaN   \n1                NaN       2                  NaN                 NaN   \n2                NaN       2                  NaN                 NaN   \n3                NaN       3                  NaN                 NaN   \n4              265.0       2                  2.0            0.707107   \n5              265.0       1                  2.0            0.707107   \n6              264.0       1                  1.8            0.836660   \n7              261.0       1                  1.6            0.894427   \n8              261.0       1                  1.2            0.447214   \n9              261.0       4                  1.6            1.341641   \n\n   Volume_Rolling_Max  Volume_Rolling_Min  \n0                 NaN                 NaN  \n1                 NaN                 NaN  \n2                 NaN                 NaN  \n3                 NaN                 NaN  \n4                 3.0                 1.0  \n5                 3.0                 1.0  \n6                 3.0                 1.0  \n7                 3.0                 1.0  \n8                 2.0                 1.0  \n9                 4.0                 1.0  ",
      "text/html": "<div>\n<style scoped>\n    .dataframe tbody tr th:only-of-type {\n        vertical-align: middle;\n    }\n\n    .dataframe tbody tr th {\n        vertical-align: top;\n    }\n\n    .dataframe thead th {\n        text-align: right;\n    }\n</style>\n<table border=\"1\" class=\"dataframe\">\n  <thead>\n    <tr style=\"text-align: right;\">\n      <th></th>\n      <th>Price</th>\n      <th>Price_Rolling_Mean</th>\n      <th>Price_Rolling_Std</th>\n      <th>Price_Rolling_Max</th>\n      <th>Price_Rolling_Min</th>\n      <th>Volume</th>\n      <th>Volume_Rolling_Mean</th>\n      <th>Volume_Rolling_Std</th>\n      <th>Volume_Rolling_Max</th>\n      <th>Volume_Rolling_Min</th>\n    </tr>\n  </thead>\n  <tbody>\n    <tr>\n      <th>0</th>\n      <td>269</td>\n      <td>NaN</td>\n      <td>NaN</td>\n      <td>NaN</td>\n      <td>NaN</td>\n      <td>1</td>\n      <td>NaN</td>\n      <td>NaN</td>\n      <td>NaN</td>\n      <td>NaN</td>\n    </tr>\n    <tr>\n      <th>1</th>\n      <td>267</td>\n      <td>NaN</td>\n      <td>NaN</td>\n      <td>NaN</td>\n      <td>NaN</td>\n      <td>2</td>\n      <td>NaN</td>\n      <td>NaN</td>\n      <td>NaN</td>\n      <td>NaN</td>\n    </tr>\n    <tr>\n      <th>2</th>\n      <td>270</td>\n      <td>NaN</td>\n      <td>NaN</td>\n      <td>NaN</td>\n      <td>NaN</td>\n      <td>2</td>\n      <td>NaN</td>\n      <td>NaN</td>\n      <td>NaN</td>\n      <td>NaN</td>\n    </tr>\n    <tr>\n      <th>3</th>\n      <td>267</td>\n      <td>NaN</td>\n      <td>NaN</td>\n      <td>NaN</td>\n      <td>NaN</td>\n      <td>3</td>\n      <td>NaN</td>\n      <td>NaN</td>\n      <td>NaN</td>\n      <td>NaN</td>\n    </tr>\n    <tr>\n      <th>4</th>\n      <td>265</td>\n      <td>267.6</td>\n      <td>1.949359</td>\n      <td>270.0</td>\n      <td>265.0</td>\n      <td>2</td>\n      <td>2.0</td>\n      <td>0.707107</td>\n      <td>3.0</td>\n      <td>1.0</td>\n    </tr>\n    <tr>\n      <th>5</th>\n      <td>266</td>\n      <td>267.0</td>\n      <td>1.870829</td>\n      <td>270.0</td>\n      <td>265.0</td>\n      <td>1</td>\n      <td>2.0</td>\n      <td>0.707107</td>\n      <td>3.0</td>\n      <td>1.0</td>\n    </tr>\n    <tr>\n      <th>6</th>\n      <td>264</td>\n      <td>266.4</td>\n      <td>2.302173</td>\n      <td>270.0</td>\n      <td>264.0</td>\n      <td>1</td>\n      <td>1.8</td>\n      <td>0.836660</td>\n      <td>3.0</td>\n      <td>1.0</td>\n    </tr>\n    <tr>\n      <th>7</th>\n      <td>261</td>\n      <td>264.6</td>\n      <td>2.302173</td>\n      <td>267.0</td>\n      <td>261.0</td>\n      <td>1</td>\n      <td>1.6</td>\n      <td>0.894427</td>\n      <td>3.0</td>\n      <td>1.0</td>\n    </tr>\n    <tr>\n      <th>8</th>\n      <td>264</td>\n      <td>264.0</td>\n      <td>1.870829</td>\n      <td>266.0</td>\n      <td>261.0</td>\n      <td>1</td>\n      <td>1.2</td>\n      <td>0.447214</td>\n      <td>2.0</td>\n      <td>1.0</td>\n    </tr>\n    <tr>\n      <th>9</th>\n      <td>264</td>\n      <td>263.8</td>\n      <td>1.788854</td>\n      <td>266.0</td>\n      <td>261.0</td>\n      <td>4</td>\n      <td>1.6</td>\n      <td>1.341641</td>\n      <td>4.0</td>\n      <td>1.0</td>\n    </tr>\n  </tbody>\n</table>\n</div>"
     },
     "execution_count": 3,
     "metadata": {},
     "output_type": "execute_result"
    }
   ],
   "source": [
    "# Define the rolling window size\n",
    "window_size = 5\n",
    "\n",
    "# Calculate rolling statistics for price\n",
    "tape_df['Price_Rolling_Mean'] = tape_df['Price'].rolling(window=window_size).mean()\n",
    "tape_df['Price_Rolling_Std'] = tape_df['Price'].rolling(window=window_size).std()\n",
    "tape_df['Price_Rolling_Max'] = tape_df['Price'].rolling(window=window_size).max()\n",
    "tape_df['Price_Rolling_Min'] = tape_df['Price'].rolling(window=window_size).min()\n",
    "\n",
    "# Calculate rolling statistics for volume\n",
    "tape_df['Volume_Rolling_Mean'] = tape_df['Volume'].rolling(window=window_size).mean()\n",
    "tape_df['Volume_Rolling_Std'] = tape_df['Volume'].rolling(window=window_size).std()\n",
    "tape_df['Volume_Rolling_Max'] = tape_df['Volume'].rolling(window=window_size).max()\n",
    "tape_df['Volume_Rolling_Min'] = tape_df['Volume'].rolling(window=window_size).min()\n",
    "\n",
    "# Display the dataframe to verify the rolling statistics\n",
    "tape_df[['Price', 'Price_Rolling_Mean', 'Price_Rolling_Std', 'Price_Rolling_Max', 'Price_Rolling_Min', 'Volume', 'Volume_Rolling_Mean', 'Volume_Rolling_Std', 'Volume_Rolling_Max', 'Volume_Rolling_Min']].head(10)  # Displaying the first 10 rows to see some of the NaN values and then the filled values\n"
   ],
   "metadata": {
    "collapsed": false,
    "ExecuteTime": {
     "end_time": "2024-02-08T11:47:51.912603800Z",
     "start_time": "2024-02-08T11:47:51.852344900Z"
    }
   },
   "id": "584acba250a90b5d",
   "execution_count": 3
  },
  {
   "cell_type": "markdown",
   "source": [
    "### Historical Differences\n",
    "1. **Price Change**: The historical difference in prices (i.e., the difference between consecutive prices) reflects the change in price from one point in time to another. This is very useful for capturing short-term momentum in prices and can help analyze upward or downward price trends.\n",
    "\n",
    "2. **Volume Change**: The historical difference in trading volume represents the change in volume between consecutive time points. An increase in trading volume typically indicates an increase in the strength of the trend, while a decrease in volume may indicate a weakening of the trend.\n"
   ],
   "metadata": {
    "collapsed": false
   },
   "id": "1c67ee55ef5fe252"
  },
  {
   "cell_type": "code",
   "outputs": [
    {
     "data": {
      "text/plain": "   Price  Price_Change  Volume  Volume_Change\n0    269           NaN       1            NaN\n1    267          -2.0       2            1.0\n2    270           3.0       2            0.0\n3    267          -3.0       3            1.0\n4    265          -2.0       2           -1.0\n5    266           1.0       1           -1.0\n6    264          -2.0       1            0.0\n7    261          -3.0       1            0.0\n8    264           3.0       1            0.0\n9    264           0.0       4            3.0",
      "text/html": "<div>\n<style scoped>\n    .dataframe tbody tr th:only-of-type {\n        vertical-align: middle;\n    }\n\n    .dataframe tbody tr th {\n        vertical-align: top;\n    }\n\n    .dataframe thead th {\n        text-align: right;\n    }\n</style>\n<table border=\"1\" class=\"dataframe\">\n  <thead>\n    <tr style=\"text-align: right;\">\n      <th></th>\n      <th>Price</th>\n      <th>Price_Change</th>\n      <th>Volume</th>\n      <th>Volume_Change</th>\n    </tr>\n  </thead>\n  <tbody>\n    <tr>\n      <th>0</th>\n      <td>269</td>\n      <td>NaN</td>\n      <td>1</td>\n      <td>NaN</td>\n    </tr>\n    <tr>\n      <th>1</th>\n      <td>267</td>\n      <td>-2.0</td>\n      <td>2</td>\n      <td>1.0</td>\n    </tr>\n    <tr>\n      <th>2</th>\n      <td>270</td>\n      <td>3.0</td>\n      <td>2</td>\n      <td>0.0</td>\n    </tr>\n    <tr>\n      <th>3</th>\n      <td>267</td>\n      <td>-3.0</td>\n      <td>3</td>\n      <td>1.0</td>\n    </tr>\n    <tr>\n      <th>4</th>\n      <td>265</td>\n      <td>-2.0</td>\n      <td>2</td>\n      <td>-1.0</td>\n    </tr>\n    <tr>\n      <th>5</th>\n      <td>266</td>\n      <td>1.0</td>\n      <td>1</td>\n      <td>-1.0</td>\n    </tr>\n    <tr>\n      <th>6</th>\n      <td>264</td>\n      <td>-2.0</td>\n      <td>1</td>\n      <td>0.0</td>\n    </tr>\n    <tr>\n      <th>7</th>\n      <td>261</td>\n      <td>-3.0</td>\n      <td>1</td>\n      <td>0.0</td>\n    </tr>\n    <tr>\n      <th>8</th>\n      <td>264</td>\n      <td>3.0</td>\n      <td>1</td>\n      <td>0.0</td>\n    </tr>\n    <tr>\n      <th>9</th>\n      <td>264</td>\n      <td>0.0</td>\n      <td>4</td>\n      <td>3.0</td>\n    </tr>\n  </tbody>\n</table>\n</div>"
     },
     "execution_count": 4,
     "metadata": {},
     "output_type": "execute_result"
    }
   ],
   "source": [
    "# Calculate historical price change\n",
    "tape_df['Price_Change'] = tape_df['Price'].diff()\n",
    "\n",
    "# Calculate historical volume change\n",
    "tape_df['Volume_Change'] = tape_df['Volume'].diff()\n",
    "\n",
    "# Display the dataframe to verify the historical changes\n",
    "tape_df[['Price', 'Price_Change', 'Volume', 'Volume_Change']].head(10)  # Displaying the first 10 rows to see some of the NaN values and then the filled values"
   ],
   "metadata": {
    "collapsed": false,
    "ExecuteTime": {
     "end_time": "2024-02-08T11:47:51.926438300Z",
     "start_time": "2024-02-08T11:47:51.883343600Z"
    }
   },
   "id": "7797d83c88a505b3",
   "execution_count": 4
  },
  {
   "cell_type": "markdown",
   "source": [
    "\n",
    "\n",
    "In summary, these moving statistics and historical difference indicators provide rich information for feature extraction in time series data. In financial market analysis, these features help to better understand market behavior, providing a foundation for modeling and forecasting. By combining these features, more refined and predictive models can be constructed to forecast future price movements or identify trading signals."
   ],
   "metadata": {
    "collapsed": false
   },
   "id": "97ed49488d9abb5"
  },
  {
   "cell_type": "markdown",
   "source": [
    "# 2. Limit Order Book Data\n",
    "## 1. Add New Features\n",
    "We try to extract more information from `Orders` column in the dataframe. We will calculate the following features: (for each row)\n",
    "- Total Bid Quantity: The total quantity of all bid orders\n",
    "- Total Ask Quantity: The total quantity of all ask orders\n",
    "- Max Bid Price: The highest bid price\n",
    "- Min Ask Price: The lowest ask price\n",
    "- Spread: The difference between the lowest ask price and the highest bid price\n",
    "- Weighted Avg Bid Price: The weighted average of all bid prices\n",
    "- Weighted Avg Ask Price: The weighted average of all ask prices\n",
    "- Bid-Ask Quantity Ratio: The ratio of total bid quantity to total ask quantity"
   ],
   "metadata": {
    "collapsed": false
   },
   "id": "d43cdf3672c66c41"
  },
  {
   "cell_type": "code",
   "outputs": [
    {
     "name": "stdout",
     "output_type": "stream",
     "text": [
      "   Timestamp Exchange                                             Orders  \\\n",
      "0      1.333    Exch0           [['bid', [[1, 6]]], ['ask', [[800, 1]]]]   \n",
      "1      1.581    Exch0           [['bid', [[1, 6]]], ['ask', [[799, 1]]]]   \n",
      "2      1.643    Exch0           [['bid', [[1, 6]]], ['ask', [[798, 1]]]]   \n",
      "3      1.736    Exch0  [['bid', [[261, 1], [1, 6]]], ['ask', [[798, 1...   \n",
      "4      1.984    Exch0  [['bid', [[261, 1], [1, 6]]], ['ask', [[797, 1...   \n",
      "\n",
      "   Bid Price  Bid Quantity  Ask Price  Ask Quantity  Total Bid Quantity  \\\n",
      "0        1.0           6.0      800.0           1.0                 6.0   \n",
      "1        1.0           6.0      799.0           1.0                 6.0   \n",
      "2        1.0           6.0      798.0           1.0                 6.0   \n",
      "3      261.0           1.0      798.0           1.0                 7.0   \n",
      "4      261.0           1.0      797.0           1.0                 7.0   \n",
      "\n",
      "   Total Ask Quantity  Max Bid Price  Min Ask Price  Spread  \\\n",
      "0                 1.0            1.0          800.0   799.0   \n",
      "1                 1.0            1.0          799.0   798.0   \n",
      "2                 1.0            1.0          798.0   797.0   \n",
      "3                 1.0          261.0          798.0   537.0   \n",
      "4                 1.0          261.0          797.0   536.0   \n",
      "\n",
      "   Weighted Avg Bid Price  Weighted Avg Ask Price  Bid-Ask Quantity Ratio  \n",
      "0                1.000000                   800.0                     6.0  \n",
      "1                1.000000                   799.0                     6.0  \n",
      "2                1.000000                   798.0                     6.0  \n",
      "3               38.142857                   798.0                     7.0  \n",
      "4               38.142857                   797.0                     7.0  \n"
     ]
    }
   ],
   "source": [
    "import ast  # parse string representation of list to list\n",
    "\n",
    "# read the cleaned LOB data\n",
    "lob_cleaned_path = './datasets/lob_expanded_clean.csv'\n",
    "lob_cleaned = pd.read_csv(lob_cleaned_path)\n",
    "\n",
    "# Function to parse the orders and calculate the features\n",
    "def parse_orders(row):\n",
    "    orders = ast.literal_eval(row['Orders'])  \n",
    "    bid_orders = orders[0][1]  \n",
    "    ask_orders = orders[1][1]  \n",
    "\n",
    "    # Initialize variables\n",
    "    total_bid_quantity, total_ask_quantity = 0, 0 # total bid and ask quantities\n",
    "    total_bid_value, total_ask_value = 0, 0 # total bid and ask values,values= price * quantity\n",
    "    max_bid_price, min_ask_price = float('-inf'), float('inf') # max bid and min ask prices\n",
    "\n",
    "    for price, quantity in bid_orders:\n",
    "        total_bid_quantity += quantity\n",
    "        total_bid_value += price * quantity\n",
    "        max_bid_price = max(max_bid_price, price)\n",
    "\n",
    "    for price, quantity in ask_orders:\n",
    "        total_ask_quantity += quantity\n",
    "        total_ask_value += price * quantity\n",
    "        min_ask_price = min(min_ask_price, price)\n",
    "\n",
    "    # Calculate additional features\n",
    "    spread = min_ask_price - max_bid_price  # spread: difference between the lowest ask price and the highest bid price\n",
    "    weighted_avg_bid_price = total_bid_value / total_bid_quantity if total_bid_quantity > 0 else 0  \n",
    "    weighted_avg_ask_price = total_ask_value / total_ask_quantity if total_ask_quantity > 0 else 0 \n",
    "    bid_ask_quantity_ratio = total_bid_quantity / total_ask_quantity if total_ask_quantity > 0 else 0 \n",
    "\n",
    "    return pd.Series([total_bid_quantity, total_ask_quantity, max_bid_price, min_ask_price, spread, weighted_avg_bid_price, weighted_avg_ask_price, bid_ask_quantity_ratio])\n",
    "\n",
    "# add the new features to the dataframe\n",
    "lob_cleaned[['Total Bid Quantity', 'Total Ask Quantity', 'Max Bid Price', 'Min Ask Price', 'Spread', 'Weighted Avg Bid Price', 'Weighted Avg Ask Price', 'Bid-Ask Quantity Ratio']] = lob_cleaned.apply(parse_orders, axis=1)\n",
    "\n",
    "print(lob_cleaned.head())"
   ],
   "metadata": {
    "collapsed": false,
    "ExecuteTime": {
     "end_time": "2024-02-08T12:28:26.590188Z",
     "start_time": "2024-02-08T12:27:42.396594700Z"
    }
   },
   "id": "99dc92dedb2b73f3",
   "execution_count": 11
  },
  {
   "cell_type": "code",
   "outputs": [
    {
     "name": "stdout",
     "output_type": "stream",
     "text": [
      "   Timestamp Exchange  Total Bid Quantity  Total Ask Quantity  Max Bid Price  \\\n",
      "0      1.333    Exch0                 6.0                 1.0            1.0   \n",
      "1      1.581    Exch0                 6.0                 1.0            1.0   \n",
      "2      1.643    Exch0                 6.0                 1.0            1.0   \n",
      "3      1.736    Exch0                 7.0                 1.0          261.0   \n",
      "4      1.984    Exch0                 7.0                 1.0          261.0   \n",
      "\n",
      "   Min Ask Price  Spread  Weighted Avg Bid Price  Weighted Avg Ask Price  \\\n",
      "0          800.0   799.0                1.000000                   800.0   \n",
      "1          799.0   798.0                1.000000                   799.0   \n",
      "2          798.0   797.0                1.000000                   798.0   \n",
      "3          798.0   537.0               38.142857                   798.0   \n",
      "4          797.0   536.0               38.142857                   797.0   \n",
      "\n",
      "   Bid-Ask Quantity Ratio  \n",
      "0                     6.0  \n",
      "1                     6.0  \n",
      "2                     6.0  \n",
      "3                     7.0  \n",
      "4                     7.0  \n"
     ]
    }
   ],
   "source": [
    "# save the new features to a new csv file\n",
    "selected_columns = ['Timestamp', 'Exchange', 'Total Bid Quantity', 'Total Ask Quantity', \n",
    "                    'Max Bid Price', 'Min Ask Price', 'Spread', \n",
    "                    'Weighted Avg Bid Price', 'Weighted Avg Ask Price', \n",
    "                    'Bid-Ask Quantity Ratio']\n",
    "\n",
    "new_df = lob_cleaned[selected_columns].copy()\n",
    "print(new_df.head())\n",
    "\n",
    "new_df.to_csv('lob_only_features.csv', index=False)"
   ],
   "metadata": {
    "collapsed": false,
    "ExecuteTime": {
     "end_time": "2024-02-08T12:36:30.183390500Z",
     "start_time": "2024-02-08T12:36:28.403528400Z"
    }
   },
   "id": "6c99c05aa35a3cc1",
   "execution_count": 15
  }
 ],
 "metadata": {
  "kernelspec": {
   "display_name": "Python 3",
   "language": "python",
   "name": "python3"
  },
  "language_info": {
   "codemirror_mode": {
    "name": "ipython",
    "version": 2
   },
   "file_extension": ".py",
   "mimetype": "text/x-python",
   "name": "python",
   "nbconvert_exporter": "python",
   "pygments_lexer": "ipython2",
   "version": "2.7.6"
  }
 },
 "nbformat": 4,
 "nbformat_minor": 5
}

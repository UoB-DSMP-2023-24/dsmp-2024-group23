{
 "cells": [
  {
   "cell_type": "code",
   "execution_count": 1,
   "id": "initial_id",
   "metadata": {
    "collapsed": true,
    "ExecuteTime": {
     "end_time": "2024-03-23T20:08:45.630847Z",
     "start_time": "2024-03-23T20:08:45.238957Z"
    }
   },
   "outputs": [],
   "source": [
    "import pandas as pd\n",
    "import numpy as np\n",
    "import matplotlib.pyplot as plt\n",
    "import seaborn as sns\n",
    "from statsmodels.tsa.stattools import adfuller, acf, pacf\n",
    "from statsmodels.graphics.tsaplots import plot_acf, plot_pacf\n",
    "from statsmodels.tsa.arima.model import ARIMA\n",
    "from xgboost import XGBClassifier\n",
    "from sklearn.ensemble import RandomForestClassifier\n",
    "from sklearn.model_selection import TimeSeriesSplit\n",
    "from sklearn.model_selection import GridSearchCV\n",
    "from sklearn.preprocessing import StandardScaler\n",
    "from sklearn.model_selection import train_test_split\n",
    "from sklearn.linear_model import LogisticRegression\n",
    "from sklearn.preprocessing import StandardScaler\n",
    "from sklearn.metrics import accuracy_score\n",
    "from sklearn.metrics import classification_report"
   ]
  },
  {
   "cell_type": "markdown",
   "source": [
    "## 1. Load LOB data (resampled to 1 minute)"
   ],
   "metadata": {
    "collapsed": false
   },
   "id": "22d588b47f291950"
  },
  {
   "cell_type": "code",
   "outputs": [
    {
     "data": {
      "text/plain": "                  Datetime  Min Ask Price  Max Bid Price  Total Bid Quantity  \\\n0      2025-01-02 00:00:00     271.841538     260.186154             22881.0   \n1      2025-01-02 00:01:00     262.803138     258.206847             24821.0   \n2      2025-01-02 00:02:00     267.596615     262.929478             33966.0   \n3      2025-01-02 00:03:00     267.066274     262.751105             30396.0   \n4      2025-01-02 00:04:00     268.358289     263.077540             28408.0   \n...                    ...            ...            ...                 ...   \n62853  2025-07-01 08:13:00     151.230132      96.942053             18271.0   \n62854  2025-07-01 08:14:00     200.771852     107.148148             16849.0   \n62855  2025-07-01 08:15:00     174.894172     107.539877             29053.0   \n62856  2025-07-01 08:16:00     174.897866     108.716463             33890.0   \n62857  2025-07-01 08:17:00     177.532095     104.167230             17823.0   \n\n       Total Ask Quantity  Min Ask Quantity  Max Bid Quantity  \n0                 16799.0                 3                 5  \n1                 12978.0                 2                 3  \n2                 11786.0                 2                 3  \n3                 15613.0                 3                 2  \n4                 16458.0                 3                 4  \n...                   ...               ...               ...  \n62853             10399.0                 3                 4  \n62854             10211.0                 2                 3  \n62855              9511.0                 2                 4  \n62856              9471.0                 2                 6  \n62857              8545.0                 2                 3  \n\n[62858 rows x 7 columns]",
      "text/html": "<div>\n<style scoped>\n    .dataframe tbody tr th:only-of-type {\n        vertical-align: middle;\n    }\n\n    .dataframe tbody tr th {\n        vertical-align: top;\n    }\n\n    .dataframe thead th {\n        text-align: right;\n    }\n</style>\n<table border=\"1\" class=\"dataframe\">\n  <thead>\n    <tr style=\"text-align: right;\">\n      <th></th>\n      <th>Datetime</th>\n      <th>Min Ask Price</th>\n      <th>Max Bid Price</th>\n      <th>Total Bid Quantity</th>\n      <th>Total Ask Quantity</th>\n      <th>Min Ask Quantity</th>\n      <th>Max Bid Quantity</th>\n    </tr>\n  </thead>\n  <tbody>\n    <tr>\n      <th>0</th>\n      <td>2025-01-02 00:00:00</td>\n      <td>271.841538</td>\n      <td>260.186154</td>\n      <td>22881.0</td>\n      <td>16799.0</td>\n      <td>3</td>\n      <td>5</td>\n    </tr>\n    <tr>\n      <th>1</th>\n      <td>2025-01-02 00:01:00</td>\n      <td>262.803138</td>\n      <td>258.206847</td>\n      <td>24821.0</td>\n      <td>12978.0</td>\n      <td>2</td>\n      <td>3</td>\n    </tr>\n    <tr>\n      <th>2</th>\n      <td>2025-01-02 00:02:00</td>\n      <td>267.596615</td>\n      <td>262.929478</td>\n      <td>33966.0</td>\n      <td>11786.0</td>\n      <td>2</td>\n      <td>3</td>\n    </tr>\n    <tr>\n      <th>3</th>\n      <td>2025-01-02 00:03:00</td>\n      <td>267.066274</td>\n      <td>262.751105</td>\n      <td>30396.0</td>\n      <td>15613.0</td>\n      <td>3</td>\n      <td>2</td>\n    </tr>\n    <tr>\n      <th>4</th>\n      <td>2025-01-02 00:04:00</td>\n      <td>268.358289</td>\n      <td>263.077540</td>\n      <td>28408.0</td>\n      <td>16458.0</td>\n      <td>3</td>\n      <td>4</td>\n    </tr>\n    <tr>\n      <th>...</th>\n      <td>...</td>\n      <td>...</td>\n      <td>...</td>\n      <td>...</td>\n      <td>...</td>\n      <td>...</td>\n      <td>...</td>\n    </tr>\n    <tr>\n      <th>62853</th>\n      <td>2025-07-01 08:13:00</td>\n      <td>151.230132</td>\n      <td>96.942053</td>\n      <td>18271.0</td>\n      <td>10399.0</td>\n      <td>3</td>\n      <td>4</td>\n    </tr>\n    <tr>\n      <th>62854</th>\n      <td>2025-07-01 08:14:00</td>\n      <td>200.771852</td>\n      <td>107.148148</td>\n      <td>16849.0</td>\n      <td>10211.0</td>\n      <td>2</td>\n      <td>3</td>\n    </tr>\n    <tr>\n      <th>62855</th>\n      <td>2025-07-01 08:15:00</td>\n      <td>174.894172</td>\n      <td>107.539877</td>\n      <td>29053.0</td>\n      <td>9511.0</td>\n      <td>2</td>\n      <td>4</td>\n    </tr>\n    <tr>\n      <th>62856</th>\n      <td>2025-07-01 08:16:00</td>\n      <td>174.897866</td>\n      <td>108.716463</td>\n      <td>33890.0</td>\n      <td>9471.0</td>\n      <td>2</td>\n      <td>6</td>\n    </tr>\n    <tr>\n      <th>62857</th>\n      <td>2025-07-01 08:17:00</td>\n      <td>177.532095</td>\n      <td>104.167230</td>\n      <td>17823.0</td>\n      <td>8545.0</td>\n      <td>2</td>\n      <td>3</td>\n    </tr>\n  </tbody>\n</table>\n<p>62858 rows × 7 columns</p>\n</div>"
     },
     "execution_count": 2,
     "metadata": {},
     "output_type": "execute_result"
    }
   ],
   "source": [
    "lob_data=pd.read_csv('../datasets/resampled_lob_minALL.csv')\n",
    "# lob_data['Datetime'] = pd.to_datetime(lob_data['Datetime'])\n",
    "# lob_data.set_index('Datetime', inplace=True)\n",
    "lob_data"
   ],
   "metadata": {
    "collapsed": false,
    "ExecuteTime": {
     "end_time": "2024-03-23T20:08:45.707643Z",
     "start_time": "2024-03-23T20:08:45.631839Z"
    }
   },
   "id": "a104d80c59b687d6",
   "execution_count": 2
  },
  {
   "cell_type": "markdown",
   "source": [
    "## 2. Feature Engineering\n",
    "### 1. Calculate the weighted average price\n",
    "Use the following formula to calculate the weighted average price:\n",
    "$$\\[\n",
    "\\text{Weighted Average Price} = \\frac{\\text{Max Bid Price} \\times \\text{Max Bid Quantity} + \\text{Min Ask Price} \\times \\text{Min Ask Quantity}}{\\text{Max Bid Quantity} + \\text{Min Ask Quantity}}\n",
    "\\]$$\n"
   ],
   "metadata": {
    "collapsed": false
   },
   "id": "4de66a970aa492d6"
  },
  {
   "cell_type": "code",
   "outputs": [],
   "source": [
    "# calculate a weighted average of the bid and ask prices\n",
    "lob_data['price'] = (lob_data['Max Bid Price']* lob_data['Max Bid Quantity'] + lob_data['Min Ask Price'] * lob_data['Min Ask Quantity']) / (lob_data['Max Bid Quantity'] + lob_data['Min Ask Quantity'])\n",
    "lob_data['spread'] = lob_data['Min Ask Price'] - lob_data['Max Bid Price']\n",
    "# lob_data"
   ],
   "metadata": {
    "collapsed": false,
    "ExecuteTime": {
     "end_time": "2024-03-23T20:08:45.723643Z",
     "start_time": "2024-03-23T20:08:45.708643Z"
    }
   },
   "id": "cfabb5bef32904d5",
   "execution_count": 3
  },
  {
   "cell_type": "markdown",
   "source": [
    "### 2. OFI (Order Flow Imbalance)\n",
    "reference: [Order Flow Imbalance](https://github.com/nicolezattarin/LOB-feature-analysis)\n",
    "\n",
    "<img src=\"../imgs/img.png\">\n",
    "\n",
    "where b_m(t) and a_m(t) are respectively bid and ask prices at level m at time t and r_m(t) and q_m(t) are the corresponding volumes.\n",
    "The OFI is calculated as follows:\n",
    "$$\\( e^m(t_n) = \\Delta W^m(t_n) - \\Delta V^m(t_n) \\)$$"
   ],
   "metadata": {
    "collapsed": false
   },
   "id": "390971c54a66c1a7"
  },
  {
   "cell_type": "code",
   "outputs": [
    {
     "data": {
      "text/plain": "                  Datetime  Min Ask Price  Max Bid Price       price  \\\n1      2025-01-02 00:01:00     262.803138     258.206847  260.045364   \n2      2025-01-02 00:02:00     267.596615     262.929478  264.796333   \n3      2025-01-02 00:03:00     267.066274     262.751105  265.340206   \n4      2025-01-02 00:04:00     268.358289     263.077540  265.340718   \n5      2025-01-02 00:05:00     265.378682     260.562412  262.167835   \n...                    ...            ...            ...         ...   \n62853  2025-07-01 08:13:00     151.230132      96.942053  120.208373   \n62854  2025-07-01 08:14:00     200.771852     107.148148  144.597630   \n62855  2025-07-01 08:15:00     174.894172     107.539877  129.991309   \n62856  2025-07-01 08:16:00     174.897866     108.716463  125.261814   \n62857  2025-07-01 08:17:00     177.532095     104.167230  133.513176   \n\n       Total Bid Quantity  Total Ask Quantity  Min Ask Quantity  \\\n1                 24821.0             12978.0                 2   \n2                 33966.0             11786.0                 2   \n3                 30396.0             15613.0                 3   \n4                 28408.0             16458.0                 3   \n5                 28895.0             12759.0                 2   \n...                   ...                 ...               ...   \n62853             18271.0             10399.0                 3   \n62854             16849.0             10211.0                 2   \n62855             29053.0              9511.0                 2   \n62856             33890.0              9471.0                 2   \n62857             17823.0              8545.0                 2   \n\n       Max Bid Quantity  ofi     spread  \n1                     3   -1   4.596291  \n2                     3    1   4.667137  \n3                     2    1   4.315169  \n4                     4    1   5.280749  \n5                     4   -2   4.816269  \n...                 ...  ...        ...  \n62853                 4   -1  54.288079  \n62854                 3    1  93.623704  \n62855                 4    6  67.354294  \n62856                 6    4  66.181402  \n62857                 3   -5  73.364865  \n\n[62857 rows x 10 columns]",
      "text/html": "<div>\n<style scoped>\n    .dataframe tbody tr th:only-of-type {\n        vertical-align: middle;\n    }\n\n    .dataframe tbody tr th {\n        vertical-align: top;\n    }\n\n    .dataframe thead th {\n        text-align: right;\n    }\n</style>\n<table border=\"1\" class=\"dataframe\">\n  <thead>\n    <tr style=\"text-align: right;\">\n      <th></th>\n      <th>Datetime</th>\n      <th>Min Ask Price</th>\n      <th>Max Bid Price</th>\n      <th>price</th>\n      <th>Total Bid Quantity</th>\n      <th>Total Ask Quantity</th>\n      <th>Min Ask Quantity</th>\n      <th>Max Bid Quantity</th>\n      <th>ofi</th>\n      <th>spread</th>\n    </tr>\n  </thead>\n  <tbody>\n    <tr>\n      <th>1</th>\n      <td>2025-01-02 00:01:00</td>\n      <td>262.803138</td>\n      <td>258.206847</td>\n      <td>260.045364</td>\n      <td>24821.0</td>\n      <td>12978.0</td>\n      <td>2</td>\n      <td>3</td>\n      <td>-1</td>\n      <td>4.596291</td>\n    </tr>\n    <tr>\n      <th>2</th>\n      <td>2025-01-02 00:02:00</td>\n      <td>267.596615</td>\n      <td>262.929478</td>\n      <td>264.796333</td>\n      <td>33966.0</td>\n      <td>11786.0</td>\n      <td>2</td>\n      <td>3</td>\n      <td>1</td>\n      <td>4.667137</td>\n    </tr>\n    <tr>\n      <th>3</th>\n      <td>2025-01-02 00:03:00</td>\n      <td>267.066274</td>\n      <td>262.751105</td>\n      <td>265.340206</td>\n      <td>30396.0</td>\n      <td>15613.0</td>\n      <td>3</td>\n      <td>2</td>\n      <td>1</td>\n      <td>4.315169</td>\n    </tr>\n    <tr>\n      <th>4</th>\n      <td>2025-01-02 00:04:00</td>\n      <td>268.358289</td>\n      <td>263.077540</td>\n      <td>265.340718</td>\n      <td>28408.0</td>\n      <td>16458.0</td>\n      <td>3</td>\n      <td>4</td>\n      <td>1</td>\n      <td>5.280749</td>\n    </tr>\n    <tr>\n      <th>5</th>\n      <td>2025-01-02 00:05:00</td>\n      <td>265.378682</td>\n      <td>260.562412</td>\n      <td>262.167835</td>\n      <td>28895.0</td>\n      <td>12759.0</td>\n      <td>2</td>\n      <td>4</td>\n      <td>-2</td>\n      <td>4.816269</td>\n    </tr>\n    <tr>\n      <th>...</th>\n      <td>...</td>\n      <td>...</td>\n      <td>...</td>\n      <td>...</td>\n      <td>...</td>\n      <td>...</td>\n      <td>...</td>\n      <td>...</td>\n      <td>...</td>\n      <td>...</td>\n    </tr>\n    <tr>\n      <th>62853</th>\n      <td>2025-07-01 08:13:00</td>\n      <td>151.230132</td>\n      <td>96.942053</td>\n      <td>120.208373</td>\n      <td>18271.0</td>\n      <td>10399.0</td>\n      <td>3</td>\n      <td>4</td>\n      <td>-1</td>\n      <td>54.288079</td>\n    </tr>\n    <tr>\n      <th>62854</th>\n      <td>2025-07-01 08:14:00</td>\n      <td>200.771852</td>\n      <td>107.148148</td>\n      <td>144.597630</td>\n      <td>16849.0</td>\n      <td>10211.0</td>\n      <td>2</td>\n      <td>3</td>\n      <td>1</td>\n      <td>93.623704</td>\n    </tr>\n    <tr>\n      <th>62855</th>\n      <td>2025-07-01 08:15:00</td>\n      <td>174.894172</td>\n      <td>107.539877</td>\n      <td>129.991309</td>\n      <td>29053.0</td>\n      <td>9511.0</td>\n      <td>2</td>\n      <td>4</td>\n      <td>6</td>\n      <td>67.354294</td>\n    </tr>\n    <tr>\n      <th>62856</th>\n      <td>2025-07-01 08:16:00</td>\n      <td>174.897866</td>\n      <td>108.716463</td>\n      <td>125.261814</td>\n      <td>33890.0</td>\n      <td>9471.0</td>\n      <td>2</td>\n      <td>6</td>\n      <td>4</td>\n      <td>66.181402</td>\n    </tr>\n    <tr>\n      <th>62857</th>\n      <td>2025-07-01 08:17:00</td>\n      <td>177.532095</td>\n      <td>104.167230</td>\n      <td>133.513176</td>\n      <td>17823.0</td>\n      <td>8545.0</td>\n      <td>2</td>\n      <td>3</td>\n      <td>-5</td>\n      <td>73.364865</td>\n    </tr>\n  </tbody>\n</table>\n<p>62857 rows × 10 columns</p>\n</div>"
     },
     "execution_count": 4,
     "metadata": {},
     "output_type": "execute_result"
    }
   ],
   "source": [
    "def calculate_ofi(df):\n",
    "    df['delta_bid'] = df['Max Bid Price'].diff().fillna(0)\n",
    "    df['delta_ask'] = df['Min Ask Price'].diff().fillna(0)\n",
    "    \n",
    "        # 计算 ΔW^m(t_n)\n",
    "    df['delta_w'] = df.apply(\n",
    "        lambda row: row['Max Bid Quantity'] if row['delta_bid'] > 0 else\n",
    "                   (-row['Max Bid Quantity'] if row['delta_bid'] < 0 else\n",
    "                    row['Max Bid Quantity'] - df.loc[df.index[df.index.get_loc(row.name)-1], 'Max Bid Quantity']\n",
    "                    if row.name > 0 else 0),\n",
    "        axis=1)\n",
    "    \n",
    "    # 计算 ΔV^m(t_n)\n",
    "    df['delta_v'] = df.apply(\n",
    "        lambda row: -row['Min Ask Quantity'] if row['delta_ask'] > 0 else\n",
    "                   (row['Min Ask Quantity'] if row['delta_ask'] < 0 else\n",
    "                    row['Min Ask Quantity'] - df.loc[df.index[df.index.get_loc(row.name)-1], 'Min Ask Quantity']\n",
    "                    if row.name > 0 else 0),\n",
    "        axis=1)\n",
    "    \n",
    "    # 计算 OFI\n",
    "    df['ofi'] = df['delta_w'] + df['delta_v']\n",
    "    \n",
    "    return df['ofi']\n",
    "\n",
    "calculate_ofi(lob_data)\n",
    "lob_data=lob_data[['Datetime','Min Ask Price','Max Bid Price','price','Total Bid Quantity','Total Ask Quantity','Min Ask Quantity','Max Bid Quantity','ofi','spread']]\n",
    "# drop the first row (ofi is 0)\n",
    "lob_data = lob_data.iloc[1:]\n",
    "lob_data"
   ],
   "metadata": {
    "collapsed": false,
    "ExecuteTime": {
     "end_time": "2024-03-23T20:08:46.619240Z",
     "start_time": "2024-03-23T20:08:45.725642Z"
    }
   },
   "id": "524bf409863615c1",
   "execution_count": 4
  },
  {
   "cell_type": "markdown",
   "source": [
    "### 3. Time Features"
   ],
   "metadata": {
    "collapsed": false
   },
   "id": "5527d28ac9dc1e9a"
  },
  {
   "cell_type": "code",
   "outputs": [],
   "source": [
    "lob_data['Datetime'] = pd.to_datetime(lob_data['Datetime'])\n",
    "lob_data['Hour'] = lob_data['Datetime'].dt.hour\n",
    "lob_data['Dayofweek'] = lob_data['Datetime'].dt.dayofweek\n",
    "lob_data['Day'] = lob_data['Datetime'].dt.day\n",
    "lob_data['Month'] = lob_data['Datetime'].dt.month"
   ],
   "metadata": {
    "collapsed": false,
    "ExecuteTime": {
     "end_time": "2024-03-23T20:08:46.682107Z",
     "start_time": "2024-03-23T20:08:46.621248Z"
    }
   },
   "id": "8854d614f7a7db5b",
   "execution_count": 5
  },
  {
   "cell_type": "markdown",
   "source": [
    "### 4. Relative Strength Index (RSI)"
   ],
   "metadata": {
    "collapsed": false
   },
   "id": "3915e353605eb3d7"
  },
  {
   "cell_type": "code",
   "outputs": [],
   "source": [
    "def calculate_rsi(data, window):\n",
    "    \"\"\"\n",
    "    计算给定数据的相对强弱指数（RSI）。\n",
    "    \n",
    "    :param data: 包含价格数据的Pandas Series。\n",
    "    :param window: 用于计算RSI的窗口大小，默认为14。\n",
    "    :return: 包含RSI值的Pandas Series。\n",
    "    \"\"\"\n",
    "    delta = data.diff()\n",
    "    gain = (delta.where(delta > 0, 0)).rolling(window=window).mean()\n",
    "    loss = (-delta.where(delta < 0, 0)).rolling(window=window).mean()\n",
    "\n",
    "    rs = gain / loss\n",
    "    rsi = 100 - (100 / (1 + rs))\n",
    "    return rsi\n",
    "\n",
    "# 计算Min Ask Price的RSI\n",
    "lob_data['RSI'] = calculate_rsi(lob_data['price'], window=5)"
   ],
   "metadata": {
    "collapsed": false,
    "ExecuteTime": {
     "end_time": "2024-03-23T20:08:46.697475Z",
     "start_time": "2024-03-23T20:08:46.684099Z"
    }
   },
   "id": "7f39fb229b9139ed",
   "execution_count": 6
  },
  {
   "cell_type": "markdown",
   "source": [
    "### 5. Volatility\n",
    "Use volatility to adjust the trading quantity. The volatility is calculated as the standard deviation of the log returns of the price.\n",
    "\n",
    "When considering `scaler_factor`, we should use the ask/bid volatility to adjust it. I found that the ask volatility is much larger than the bid volatility in TEST data. So when we use the test data to do backtesting, we should use 20 as the scaler factor for the ask volatility and 10 as the scaler factor for the bid volatility."
   ],
   "metadata": {
    "collapsed": false
   },
   "id": "dfeccf367fea0521"
  },
  {
   "cell_type": "code",
   "outputs": [],
   "source": [
    "# # 设置一个时间窗口\n",
    "rolling_window = 5  # 例如，我们使用过去5个时间点的数据来计算波动率\n",
    "\n",
    "# 计算对数收益率 shift(1)是为了计算相对于前一分钟的收益率\n",
    "lob_data['Log Return Max Bid'] = np.log(lob_data['Max Bid Price'] / lob_data['Max Bid Price'].shift(1))\n",
    "lob_data['Log Return Min Ask'] = np.log(lob_data['Min Ask Price'] / lob_data['Min Ask Price'].shift(1))\n",
    "\n",
    "# 计算滚动标准差作为波动率的度量\n",
    "lob_data['Volatility Max Bid'] = lob_data['Log Return Max Bid'].rolling(window=rolling_window).std()\n",
    "lob_data['Volatility Min Ask'] = lob_data['Log Return Min Ask'].rolling(window=rolling_window).std()\n",
    "\n",
    "# 由于滚动计算会产生缺失值，我们通常会删除这些值\n",
    "lob_data.dropna(inplace=True)"
   ],
   "metadata": {
    "collapsed": false,
    "ExecuteTime": {
     "end_time": "2024-03-23T20:08:46.728889Z",
     "start_time": "2024-03-23T20:08:46.698466Z"
    }
   },
   "id": "b7e3e910063cd35b",
   "execution_count": 7
  },
  {
   "cell_type": "code",
   "outputs": [],
   "source": [
    "# Trading volume\n",
    "def adjust_trade_quantity(volatility, max_tradeable_quantity, base_quantity=1, risk_tolerance=0.5, scaler_fator=10):\n",
    "    \"\"\"\n",
    "    根据波动率和最大可交易量调整交易量。\n",
    "    volatility: 当前波动率\n",
    "    max_tradeable_quantity: 该时间点的最大可交易量（对于买入操作，是Min Ask Quantity；对于卖出操作，是Max Bid Quantity）\n",
    "    base_quantity: 基础交易量\n",
    "    risk_tolerance: 风险容忍度，取值范围为[0, 1]，数值越小表风险承受越大，交易量越大\n",
    "    \"\"\"\n",
    "    # 基于波动率调整的交易量\n",
    "    adjusted_quantity = base_quantity / (volatility*risk_tolerance*scaler_fator)\n",
    "    adjusted_quantity = max(1, round(adjusted_quantity))  # 确保至少交易1单位，并且是整数\n",
    "\n",
    "    # 确保交易量不超过最大可交易量 make sure the trade quantity is no more than the max tradeable quantity\n",
    "    final_trade_quantity = min(adjusted_quantity, max_tradeable_quantity)\n",
    "\n",
    "    return final_trade_quantity"
   ],
   "metadata": {
    "collapsed": false,
    "ExecuteTime": {
     "end_time": "2024-03-23T20:08:46.744892Z",
     "start_time": "2024-03-23T20:08:46.729881Z"
    }
   },
   "id": "5e3407b2fe21d89",
   "execution_count": 8
  },
  {
   "cell_type": "code",
   "outputs": [
    {
     "name": "stdout",
     "output_type": "stream",
     "text": [
      "Time: 2025-05-28 00:20:00\n",
      "buy: 2 Max Ask Quantity: 3\n",
      "sell: 3 Max Bid Quantity: 5\n",
      "Time: 2025-05-28 00:21:00\n",
      "buy: 1 Max Ask Quantity: 3\n",
      "sell: 2 Max Bid Quantity: 4\n",
      "Time: 2025-05-28 00:22:00\n",
      "buy: 1 Max Ask Quantity: 2\n",
      "sell: 3 Max Bid Quantity: 3\n",
      "Time: 2025-05-28 00:23:00\n",
      "buy: 1 Max Ask Quantity: 3\n",
      "sell: 4 Max Bid Quantity: 4\n",
      "Time: 2025-05-28 00:24:00\n",
      "buy: 1 Max Ask Quantity: 3\n",
      "sell: 4 Max Bid Quantity: 5\n",
      "Time: 2025-05-28 00:25:00\n",
      "buy: 1 Max Ask Quantity: 2\n",
      "sell: 5 Max Bid Quantity: 5\n",
      "Time: 2025-05-28 00:26:00\n",
      "buy: 1 Max Ask Quantity: 2\n",
      "sell: 2 Max Bid Quantity: 3\n",
      "Time: 2025-05-28 00:27:00\n",
      "buy: 2 Max Ask Quantity: 2\n",
      "sell: 2 Max Bid Quantity: 3\n",
      "Time: 2025-05-28 00:28:00\n",
      "buy: 2 Max Ask Quantity: 2\n",
      "sell: 2 Max Bid Quantity: 4\n",
      "Time: 2025-05-28 00:29:00\n",
      "buy: 2 Max Ask Quantity: 2\n",
      "sell: 2 Max Bid Quantity: 4\n",
      "Time: 2025-05-28 00:30:00\n",
      "buy: 3 Max Ask Quantity: 3\n",
      "sell: 2 Max Bid Quantity: 5\n",
      "Time: 2025-05-28 00:31:00\n",
      "buy: 1 Max Ask Quantity: 3\n",
      "sell: 2 Max Bid Quantity: 3\n",
      "Time: 2025-05-28 00:32:00\n",
      "buy: 1 Max Ask Quantity: 2\n",
      "sell: 1 Max Bid Quantity: 3\n",
      "Time: 2025-05-28 00:33:00\n",
      "buy: 1 Max Ask Quantity: 2\n",
      "sell: 1 Max Bid Quantity: 4\n",
      "Time: 2025-05-28 00:34:00\n",
      "buy: 1 Max Ask Quantity: 3\n",
      "sell: 1 Max Bid Quantity: 4\n",
      "Time: 2025-05-28 00:35:00\n",
      "buy: 1 Max Ask Quantity: 3\n",
      "sell: 1 Max Bid Quantity: 4\n",
      "Time: 2025-05-28 00:36:00\n",
      "buy: 2 Max Ask Quantity: 3\n",
      "sell: 1 Max Bid Quantity: 4\n",
      "Time: 2025-05-28 00:37:00\n",
      "buy: 2 Max Ask Quantity: 2\n",
      "sell: 2 Max Bid Quantity: 5\n",
      "Time: 2025-05-28 00:38:00\n",
      "buy: 2 Max Ask Quantity: 3\n",
      "sell: 2 Max Bid Quantity: 3\n",
      "Time: 2025-05-28 00:39:00\n",
      "buy: 2 Max Ask Quantity: 3\n",
      "sell: 2 Max Bid Quantity: 4\n"
     ]
    }
   ],
   "source": [
    "# test the adjust_trade_quantity function on TEST data\n",
    "split_index=int(len(lob_data)*0.8) # 50280\n",
    "for i in range(20):\n",
    "    current_volatility_buy = lob_data['Volatility Min Ask'].iloc[i+split_index]\n",
    "    current_volatility_sell = lob_data['Volatility Max Bid'].iloc[i+split_index]\n",
    "    max_tradeable_quantity_buy = lob_data['Min Ask Quantity'].iloc[i+split_index]\n",
    "    max_tradeable_quantity_sell = lob_data['Max Bid Quantity'].iloc[i+split_index]\n",
    "    print('Time:',lob_data['Datetime'].iloc[i+split_index])\n",
    "    print('buy:',adjust_trade_quantity(current_volatility_buy, max_tradeable_quantity_buy, base_quantity=1, risk_tolerance=0.5, scaler_fator=10),'Max Ask Quantity:',max_tradeable_quantity_buy    )\n",
    "    print('sell:',adjust_trade_quantity(current_volatility_sell, max_tradeable_quantity_sell, base_quantity=1, risk_tolerance=0.5, scaler_fator=20),'Max Bid Quantity:',max_tradeable_quantity_sell)"
   ],
   "metadata": {
    "collapsed": false,
    "ExecuteTime": {
     "end_time": "2024-03-23T20:08:46.760471Z",
     "start_time": "2024-03-23T20:08:46.746885Z"
    }
   },
   "id": "983873a15762f6da",
   "execution_count": 9
  },
  {
   "cell_type": "markdown",
   "source": [
    "### 6. Generate labels for the classification task\n",
    "Use `price` column to calculate the price difference between the current time point and the next time point. \n",
    "\n",
    "We can see the `price_diff` is a normal distribution. We can use mean+/-std as the threshold to generate the labels. "
   ],
   "metadata": {
    "collapsed": false
   },
   "id": "e0cc2e8065b0a2d"
  },
  {
   "cell_type": "code",
   "outputs": [
    {
     "name": "stdout",
     "output_type": "stream",
     "text": [
      "count    62851.000000\n",
      "mean        -0.002029\n",
      "std         10.878994\n",
      "min        -57.313045\n",
      "25%         -6.181781\n",
      "50%         -0.147865\n",
      "75%          6.125863\n",
      "max         65.678323\n",
      "Name: price_diff, dtype: float64\n"
     ]
    },
    {
     "name": "stderr",
     "output_type": "stream",
     "text": [
      "E:\\Programming\\anaconda3\\envs\\mytorch\\lib\\site-packages\\seaborn\\_oldcore.py:1119: FutureWarning: use_inf_as_na option is deprecated and will be removed in a future version. Convert inf values to NaN before operating instead.\n",
      "  with pd.option_context('mode.use_inf_as_na', True):\n"
     ]
    },
    {
     "data": {
      "text/plain": "<Axes: xlabel='price_diff', ylabel='Count'>"
     },
     "execution_count": 10,
     "metadata": {},
     "output_type": "execute_result"
    },
    {
     "data": {
      "text/plain": "<Figure size 1000x600 with 1 Axes>",
      "image/png": "[encoded data removed]"
     },
     "metadata": {},
     "output_type": "display_data"
    }
   ],
   "source": [
    "# 计算price与下一个时间点的price的差值\n",
    "lob_data['price_diff'] = lob_data['price'].diff().shift(-1)\n",
    "print(lob_data['price_diff'].describe())\n",
    "# 绘制pricediff的分布\n",
    "plt.figure(figsize=(10, 6))\n",
    "sns.histplot(lob_data['price_diff'], kde=True)"
   ],
   "metadata": {
    "collapsed": false,
    "ExecuteTime": {
     "end_time": "2024-03-23T20:08:47.555873Z",
     "start_time": "2024-03-23T20:08:46.761471Z"
    }
   },
   "id": "4d1a9c3d7abda741",
   "execution_count": 10
  },
  {
   "cell_type": "markdown",
   "source": [
    "The statistics you provided show that the distribution of `price_diff` has some normal distribution properties. Based on this property, we can use the standard deviation of `price_diff` to define a threshold for categorizing price changes. In a normal distribution, about 68% of the data will fall within the mean plus or minus one standard deviation, about 95% of the data will fall within the mean plus or minus two standard deviations, and almost all of the data (99.7%) will fall within the mean plus or minus three standard deviations.\n",
    "\n",
    "Using this property, we can define multiple classifications, for example:\n",
    "- `Basically unchanged`: changes within `mean ± 0.5 *  std` are defined as basically unchanged (category 0).\n",
    "- `Small increase/decrease`: an increase/decrease of more than 0.5 standard deviations but not more than 1 standard deviation is defined as a small change (increase category 1/decrease category -1).\n",
    "- `Medium rise/decline`: rises/declines of more than 1 standard deviation but not more than 2 standard deviations are defined as medium movements (rise category 2/decline category -2).\n",
    "- `Massive rise/fall`: rises/falls of more than 2 standard deviations are defined as large movements (rise category 3/fall category -3).\n",
    "\n",
    "Now, let's generate labels based on this logic. To make things easier, I will first calculate the mean and standard deviation of `price_diff`. Then, we will define the categorization thresholds for price changes based on these statistics and the distributional properties you provided and generate the corresponding labels.\n",
    "\n",
    "Multi-categorical labels have been generated based on the statistics you provided and the properties of the normal distribution. The labels have been categorized into the following categories based on the range of price changes:\n",
    "\n",
    "- `0`: essentially unchanged, with price changes within ±0.5 standard deviations of the mean.\n",
    "- `1`: small increase, with price changes of more than 0.5 standard deviations but not more than 1 standard deviation.\n",
    "- `2`: medium increase, with price changes of more than 1 standard deviation but not more than 2 standard deviations.\n",
    "- `3`: a large increase, with a price change of more than 2 standard deviations.\n",
    "- `-1`: small decrease, ibid.\n",
    "- `-2`: medium decrease, id.\n",
    "- `-3`: large decrease, ditto.\n",
    "\n",
    "Based on the generated distribution of labels, the vast majority of price changes in the data are categorized as essentially unchanged (0), which is consistent with the properties of a normal distribution, indicating that most price changes are concentrated around the mean. The other categories are decreasing in number, indicating that there are fewer large price changes, which is also consistent with the long-tailed nature of the normal distribution.\n"
   ],
   "metadata": {
    "collapsed": false
   },
   "id": "afbbad9b315730fe"
  },
  {
   "cell_type": "code",
   "outputs": [],
   "source": [
    "mean_diff= lob_data['price_diff'].mean() # -0.002\n",
    "std_diff= lob_data['price_diff'].std() # 10.87\n",
    "\n",
    "# create thresholds based on the mean and std of price_diff\n",
    "thresholds = [mean_diff - 0.5 * std_diff, mean_diff + 0.5 * std_diff,\n",
    "              mean_diff - 1 * std_diff, mean_diff + 1 * std_diff,\n",
    "              mean_diff - 2 * std_diff, mean_diff + 2 * std_diff]\n",
    "\n",
    "# generate labels based on the thresholds\n",
    "def generate_multi_labels(price_diff, thresholds):\n",
    "    if thresholds[0] < price_diff <= thresholds[1]:\n",
    "        return 0\n",
    "    elif thresholds[1] < price_diff <= thresholds[3]:\n",
    "        return 1\n",
    "    elif thresholds[3] < price_diff <= thresholds[5]:\n",
    "        return 2\n",
    "    elif price_diff > thresholds[5]:\n",
    "        return 3\n",
    "    elif thresholds[0] > price_diff >= thresholds[2]:\n",
    "        return -1\n",
    "    elif thresholds[2] > price_diff >= thresholds[4]:\n",
    "        return -2\n",
    "    elif price_diff < thresholds[4]:\n",
    "        return -3\n",
    "    \n",
    "def generate_binary_labels(price_diff, thresholds):\n",
    "    if price_diff > thresholds[1]:\n",
    "        return 1\n",
    "    elif price_diff < thresholds[0]:\n",
    "        return -1\n",
    "    else:\n",
    "        return 0\n",
    "    \n",
    "lob_data['label'] = lob_data['price_diff'].apply(generate_multi_labels, args=(thresholds,))\n",
    "# 0.0,28712\n",
    "# -1.0,8703\n",
    "# 1.0,8103\n",
    "# 2.0,7023\n",
    "# -2.0,6747\n",
    "# 3.0,1811\n",
    "# -3.0,1752\n",
    "\n",
    "lob_data['label_binary'] = lob_data['price_diff'].apply(generate_binary_labels, args=(thresholds,)) # [0: 17202; 1: 16937]"
   ],
   "metadata": {
    "collapsed": false,
    "ExecuteTime": {
     "end_time": "2024-03-23T20:08:47.650227Z",
     "start_time": "2024-03-23T20:08:47.557704Z"
    }
   },
   "id": "daa4ae037fd45010",
   "execution_count": 11
  },
  {
   "cell_type": "markdown",
   "source": [
    "您提供的统计数据显示，`price_diff`的分布具有一定的正态分布特性。基于这个特性，我们可以使用`price_diff`的标准差来定义价格变动的分类阈值。在正态分布中，大约68%的数据会落在均值加减一个标准差之内，大约95%的数据会落在均值加减两个标准差之内，几乎所有的数据（99.7%）会落在均值加减三个标准差之内。\n",
    "\n",
    "利用这个特性，我们可以定义多个分类，比如：\n",
    "- `基本不变`：在`mean ± 0.5 * std`范围内的变动定义为基本不变（0类）。\n",
    "- `小幅上升/下降`：超过0.5个标准差但不超过1个标准差的上升/下降定义为小幅变动（上升1类/下降-1类）。\n",
    "- `中幅上升/下降`：超过1个标准差但不超过2个标准差的上升/下降定义为中幅变动（上升2类/下降-2类）。\n",
    "- `大幅上升/下降`：超过2个标准差的上升/下降定义为大幅变动（上升3类/下降-3类）。\n",
    "\n",
    "现在，让我们基于这个逻辑生成标签。为了便于操作，我会首先计算`price_diff`的均值和标准差。然后，我们将基于这些统计数据和您提供的分布特性来定义价格变动的分类阈值，并生成相应的标签。\n",
    "\n",
    "已经根据您提供的统计数据和正态分布的性质生成了多分类标签。根据价格变动的范围，标签被分为以下几类：\n",
    "\n",
    "- `0`：基本不变，价格变动在均值±0.5个标准差内。\n",
    "- `1`：小幅上升，价格变动超过0.5个标准差但不超过1个标准差。\n",
    "- `2`：中幅上升，价格变动超过1个标准差但不超过2个标准差。\n",
    "- `3`：大幅上升，价格变动超过2个标准差。\n",
    "- `-1`：小幅下降，同上。\n",
    "- `-2`：中幅下降，同上。\n",
    "- `-3`：大幅下降，同上。\n",
    "\n",
    "根据生成的label分布，绝大部分数据的价格变动被分类为基本不变（0），这与正态分布的特性相符，表明大多数价格变动都集中在均值附近。其他类别的数量逐渐递减，表明大幅度的价格变动较少，这也符合正态分布的长尾性质。"
   ],
   "metadata": {
    "collapsed": false
   },
   "id": "76677327e4ac36ed"
  },
  {
   "cell_type": "markdown",
   "source": [
    "## 3. Classification\n",
    "### 3.1 Random Forest\n",
    "\n"
   ],
   "metadata": {
    "collapsed": false
   },
   "id": "c539547ebf994300"
  },
  {
   "cell_type": "code",
   "outputs": [],
   "source": [
    "# split the data into training and testing sets\n",
    "data_rf=lob_data.copy()\n",
    "data_rf.dropna(inplace=True)\n",
    "split_index=int(len(data_rf)*0.8) # 50280\n",
    "\n",
    "# X=data_rf[['Min Ask Price','Max Bid Price','price','Total Bid Quantity','Total Ask Quantity','Min Ask Quantity','Max Bid Quantity','ofi','spread','Hour','Dayofweek','Day','Month','RSI','Volatility Max Bid','Volatility Min Ask']]\n",
    "X=data_rf[['Min Ask Price','Max Bid Price','price','Total Bid Quantity','Total Ask Quantity','Min Ask Quantity','Max Bid Quantity','ofi','Hour','Dayofweek','Day','Month']]\n",
    "y=data_rf['label_binary']\n",
    "\n",
    "X_train, X_test = X[:split_index], X[split_index:]\n",
    "y_train, y_test = y[:split_index], y[split_index:]"
   ],
   "metadata": {
    "collapsed": false,
    "ExecuteTime": {
     "end_time": "2024-03-23T20:08:47.681728Z",
     "start_time": "2024-03-23T20:08:47.651726Z"
    }
   },
   "id": "91ec9562d1a5dd4c",
   "execution_count": 12
  },
  {
   "cell_type": "code",
   "outputs": [],
   "source": [
    "# # grid search\n",
    "# param_grid = {\n",
    "#     'n_estimators': [50, 100, 200],\n",
    "#     'max_depth': [10, 20, 30, 40, 50],\n",
    "#     'min_samples_split': [2, 5, 10],\n",
    "#     'min_samples_leaf': [1, 2, 4],\n",
    "#     'class_weight': ['balanced']\n",
    "# }\n",
    "# \n",
    "# rf_clf = RandomForestClassifier(random_state=42)\n",
    "# grid_search = GridSearchCV(estimator=rf_clf, param_grid=param_grid, cv=5, n_jobs=-1)\n",
    "# grid_search.fit(X_train, y_train)\n",
    "# print(grid_search.best_params_)"
   ],
   "metadata": {
    "collapsed": false,
    "ExecuteTime": {
     "end_time": "2024-03-23T20:08:47.697737Z",
     "start_time": "2024-03-23T20:08:47.682728Z"
    }
   },
   "id": "fda85d1d91d6083e",
   "execution_count": 13
  },
  {
   "cell_type": "code",
   "outputs": [
    {
     "name": "stdout",
     "output_type": "stream",
     "text": [
      "              precision    recall  f1-score   support\n",
      "\n",
      "          -1       0.78      0.86      0.81     13303\n",
      "           0       0.90      0.81      0.85     23936\n",
      "           1       0.81      0.88      0.84     13041\n",
      "\n",
      "    accuracy                           0.84     50280\n",
      "   macro avg       0.83      0.85      0.84     50280\n",
      "weighted avg       0.84      0.84      0.84     50280\n",
      "\n",
      "              precision    recall  f1-score   support\n",
      "\n",
      "          -1       0.87      0.12      0.21      3899\n",
      "           0       0.26      0.07      0.11      4776\n",
      "           1       0.36      0.97      0.52      3896\n",
      "\n",
      "    accuracy                           0.37     12571\n",
      "   macro avg       0.50      0.39      0.28     12571\n",
      "weighted avg       0.48      0.37      0.27     12571\n"
     ]
    }
   ],
   "source": [
    "# random forest\n",
    "rf_clf= RandomForestClassifier(n_estimators=100, random_state=42,max_depth=15,  min_samples_split=5, class_weight='balanced',n_jobs=-1)\n",
    "rf_clf.fit(X_train, y_train)\n",
    "y_pred_train=rf_clf.predict(X_train)\n",
    "y_pred_test=rf_clf.predict(X_test)\n",
    "y_pred_all=rf_clf.predict(X)\n",
    "\n",
    "# classification report\n",
    "print(classification_report(y_train, y_pred_train))\n",
    "print(classification_report(y_test, y_pred_test))\n",
    "# print(classification_report(y, y_pred_all))"
   ],
   "metadata": {
    "collapsed": false,
    "ExecuteTime": {
     "end_time": "2024-03-23T20:08:50.471644Z",
     "start_time": "2024-03-23T20:08:47.699728Z"
    }
   },
   "id": "e1afb0282b1bcc1f",
   "execution_count": 14
  },
  {
   "cell_type": "markdown",
   "source": [
    "## 4. Trading Strategy\n",
    "### 1.Only use machine learning model to predict the price movement (binary classification)\n",
    "BUY: prdicion=1 --- price will go up (more than 0.5 std)\n",
    "SELL: prediction=-1 --- price will go down (more than 0.5 std)\n",
    "HOLD: prediction=0 --- price will be stable (within 0.5 std)\n",
    "\n",
    "\n",
    "Profit:  14594\n",
    "Final return:  14.59 %\n",
    "Number of trades:  1646\n",
    "\n"
   ],
   "metadata": {
    "collapsed": false
   },
   "id": "fdd8bfa4c1352018"
  },
  {
   "cell_type": "code",
   "outputs": [
    {
     "name": "stdout",
     "output_type": "stream",
     "text": [
      "Final capital:  111863\n",
      "Profit:  11863\n",
      "Final return:  11.86 %\n",
      "Number of trades:  4567\n"
     ]
    }
   ],
   "source": [
    "initial_capital = 100000\n",
    "capital = initial_capital\n",
    "has_position = False\n",
    "trade_log = []\n",
    "# capital_history = [initial_capital]\n",
    "current_holdings = 0\n",
    "transaction_cost = 0\n",
    "# trade_quantity = 1\n",
    "\n",
    "for i in range(len(X_test)):\n",
    "    \n",
    "    # prediction = rf_clf.predict(X_test.iloc[i].values.reshape(1, -1))[0]\n",
    "    prediction = y_pred_test[i]\n",
    "    # adjust the trade quantity based on the volatility. make the trade quantity no more than the max tradeable quantity\n",
    "    current_volatility_buy = lob_data['Volatility Min Ask'].iloc[i+split_index]\n",
    "    current_volatility_sell = lob_data['Volatility Max Bid'].iloc[i+split_index]\n",
    "    ofi=lob_data['ofi'].iloc[i+split_index]\n",
    "    rsi=lob_data['RSI'].iloc[i+split_index]\n",
    "    \n",
    "    # buy policy: if the model predicts the ask price will go up, and the current has no position, then buy\n",
    "    if not has_position and ofi>2:\n",
    "    # if not has_position and rsi>60:\n",
    "        \n",
    "        # buy_price=X_test['price'].iloc[i]\n",
    "        buy_price = lob_data['price'].iloc[i+split_index]\n",
    "        buy_quantity = adjust_trade_quantity(current_volatility_buy,lob_data['Min Ask Quantity'].iloc[i+split_index],scaler_fator=10)\n",
    "        capital -= buy_price*buy_quantity*(1+transaction_cost)\n",
    "        current_holdings += buy_quantity\n",
    "        has_position = True\n",
    "        trade_log.append({'action': 'BUY', 'Time':lob_data['Datetime'].iloc[i+split_index],'price': buy_price, 'capital': capital, 'quantity': buy_quantity,'max quantity':lob_data['Min Ask Quantity'].iloc[i+split_index],'prediction':prediction})\n",
    "        \n",
    "    # sell policy: if the model predicts the bid price will go down, and the current has position, then sell\n",
    "    elif has_position and ofi<-2:\n",
    "    # elif has_position and rsi<40:\n",
    "        \n",
    "        # sell_price=X_test['price'].iloc[i]\n",
    "        sell_price = lob_data['price'].iloc[i+split_index]\n",
    "        sell_quantity = min(current_holdings, adjust_trade_quantity(current_volatility_sell,lob_data['Max Bid Quantity'].iloc[i+split_index],scaler_fator=20))\n",
    "        capital += sell_price*sell_quantity*(1-transaction_cost)\n",
    "        current_holdings -= sell_quantity\n",
    "        has_position = False\n",
    "        trade_log.append({'action': 'SELL','Time':lob_data['Datetime'].iloc[i+split_index],'price': sell_price, 'capital': capital, 'quantity': sell_quantity,'max quantity':lob_data['Max Bid Quantity'].iloc[i+split_index],'prediction':prediction})\n",
    "        \n",
    "    # hold policy: if the model predicts the price will not change, and the current has position, then hold\n",
    "    elif has_position and prediction==0:\n",
    "        trade_log.append({'action': 'HOLD','Time':lob_data['Datetime'].iloc[i+split_index],'price': lob_data['price'].iloc[i+split_index], 'capital': capital, 'quantity': current_holdings,'max quantity':lob_data['Max Bid Quantity'].iloc[i+split_index],'prediction':prediction})\n",
    "\n",
    "# 计算最终资本\n",
    "final_capital = capital\n",
    "profit = final_capital - initial_capital\n",
    "# 只计算buy和sell的次数\n",
    "number_of_trades = len([trade for trade in trade_log if trade['action'] in ['BUY', 'SELL']])\n",
    "# number_of_trades = len(trade_log)\n",
    "\n",
    "# 保留两位小数\n",
    "print('Final capital: ', round(final_capital))\n",
    "print('Profit: ', round(profit))\n",
    "print('Final return: ', round(profit / initial_capital * 100, 2), '%')\n",
    "print('Number of trades: ', number_of_trades)"
   ],
   "metadata": {
    "collapsed": false,
    "ExecuteTime": {
     "end_time": "2024-03-23T20:16:33.748373Z",
     "start_time": "2024-03-23T20:16:33.037587Z"
    }
   },
   "id": "b1e17efd314e8405",
   "execution_count": 35
  }
 ],
 "metadata": {
  "kernelspec": {
   "display_name": "Python 3",
   "language": "python",
   "name": "python3"
  },
  "language_info": {
   "codemirror_mode": {
    "name": "ipython",
    "version": 2
   },
   "file_extension": ".py",
   "mimetype": "text/x-python",
   "name": "python",
   "nbconvert_exporter": "python",
   "pygments_lexer": "ipython2",
   "version": "2.7.6"
  }
 },
 "nbformat": 4,
 "nbformat_minor": 5
}

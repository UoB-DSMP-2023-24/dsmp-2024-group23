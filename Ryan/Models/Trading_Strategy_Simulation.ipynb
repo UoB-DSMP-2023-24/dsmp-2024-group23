{
 "cells": [
  {
   "cell_type": "markdown",
   "source": [
    "# Trading Strategy Simulation\n",
    "In this notebook, we will implement a simple trading strategy and simulate the trading process using historical limit order book (LOB) data. We will start by loading the LOB data and performing some feature engineering to create trading signals. \n",
    "\n",
    "The dataset used in this notebook is a resampled version of the LOB data, which contains 1-minute aggregated data. The data includes the following columns:\n",
    "- **Datetime**: The timestamp of the data.\n",
    "- **Min Ask Price**: The minimum ask price in one minute.\n",
    "- **Max Bid Price**: The maximum bid price in one minute.\n",
    "- **Total Ask Quantity sum**: The total ask quantity in one minute.\n",
    "- **Total Bid Quantity sum**: The total bid quantity in one minute."
   ],
   "metadata": {
    "collapsed": false
   },
   "id": "f021df85ba1194c0"
  },
  {
   "cell_type": "markdown",
   "source": [
    "## Load Data\n",
    "Use the resampled lob(1min) data to build a model and simulator for trading."
   ],
   "metadata": {
    "collapsed": false
   },
   "id": "5afbf693aebc2add"
  },
  {
   "cell_type": "code",
   "execution_count": 14,
   "id": "initial_id",
   "metadata": {
    "collapsed": true,
    "ExecuteTime": {
     "end_time": "2024-02-26T21:59:41.006588800Z",
     "start_time": "2024-02-26T21:59:40.986121300Z"
    }
   },
   "outputs": [],
   "source": [
    "import pandas as pd\n",
    "import matplotlib.pyplot as plt\n",
    "import seaborn as sns\n",
    "import numpy as np\n",
    "from Ryan.packages.Trading_metrics import calculate_sharpe_ratio"
   ]
  },
  {
   "cell_type": "code",
   "outputs": [
    {
     "data": {
      "text/plain": "                 Datetime  Min Ask Price  Max Bid Price  \\\n0     2025-01-02 00:00:00     271.841538     260.186154   \n1     2025-01-02 00:01:00     262.803138     258.206847   \n2     2025-01-02 00:02:00     267.596615     262.929478   \n3     2025-01-02 00:03:00     267.066274     262.751105   \n4     2025-01-02 00:04:00     268.358289     263.077540   \n...                   ...            ...            ...   \n62853 2025-07-01 08:13:00     151.230132      96.942053   \n62854 2025-07-01 08:14:00     200.771852     107.148148   \n62855 2025-07-01 08:15:00     174.894172     107.539877   \n62856 2025-07-01 08:16:00     174.897866     108.716463   \n62857 2025-07-01 08:17:00     177.532095     104.167230   \n\n       Total Bid Quantity sum  Total Ask Quantity sum  \n0                     22881.0                 16799.0  \n1                     24821.0                 12978.0  \n2                     33966.0                 11786.0  \n3                     30396.0                 15613.0  \n4                     28408.0                 16458.0  \n...                       ...                     ...  \n62853                 18271.0                 10399.0  \n62854                 16849.0                 10211.0  \n62855                 29053.0                  9511.0  \n62856                 33890.0                  9471.0  \n62857                 17823.0                  8545.0  \n\n[62858 rows x 5 columns]",
      "text/html": "<div>\n<style scoped>\n    .dataframe tbody tr th:only-of-type {\n        vertical-align: middle;\n    }\n\n    .dataframe tbody tr th {\n        vertical-align: top;\n    }\n\n    .dataframe thead th {\n        text-align: right;\n    }\n</style>\n<table border=\"1\" class=\"dataframe\">\n  <thead>\n    <tr style=\"text-align: right;\">\n      <th></th>\n      <th>Datetime</th>\n      <th>Min Ask Price</th>\n      <th>Max Bid Price</th>\n      <th>Total Bid Quantity sum</th>\n      <th>Total Ask Quantity sum</th>\n    </tr>\n  </thead>\n  <tbody>\n    <tr>\n      <th>0</th>\n      <td>2025-01-02 00:00:00</td>\n      <td>271.841538</td>\n      <td>260.186154</td>\n      <td>22881.0</td>\n      <td>16799.0</td>\n    </tr>\n    <tr>\n      <th>1</th>\n      <td>2025-01-02 00:01:00</td>\n      <td>262.803138</td>\n      <td>258.206847</td>\n      <td>24821.0</td>\n      <td>12978.0</td>\n    </tr>\n    <tr>\n      <th>2</th>\n      <td>2025-01-02 00:02:00</td>\n      <td>267.596615</td>\n      <td>262.929478</td>\n      <td>33966.0</td>\n      <td>11786.0</td>\n    </tr>\n    <tr>\n      <th>3</th>\n      <td>2025-01-02 00:03:00</td>\n      <td>267.066274</td>\n      <td>262.751105</td>\n      <td>30396.0</td>\n      <td>15613.0</td>\n    </tr>\n    <tr>\n      <th>4</th>\n      <td>2025-01-02 00:04:00</td>\n      <td>268.358289</td>\n      <td>263.077540</td>\n      <td>28408.0</td>\n      <td>16458.0</td>\n    </tr>\n    <tr>\n      <th>...</th>\n      <td>...</td>\n      <td>...</td>\n      <td>...</td>\n      <td>...</td>\n      <td>...</td>\n    </tr>\n    <tr>\n      <th>62853</th>\n      <td>2025-07-01 08:13:00</td>\n      <td>151.230132</td>\n      <td>96.942053</td>\n      <td>18271.0</td>\n      <td>10399.0</td>\n    </tr>\n    <tr>\n      <th>62854</th>\n      <td>2025-07-01 08:14:00</td>\n      <td>200.771852</td>\n      <td>107.148148</td>\n      <td>16849.0</td>\n      <td>10211.0</td>\n    </tr>\n    <tr>\n      <th>62855</th>\n      <td>2025-07-01 08:15:00</td>\n      <td>174.894172</td>\n      <td>107.539877</td>\n      <td>29053.0</td>\n      <td>9511.0</td>\n    </tr>\n    <tr>\n      <th>62856</th>\n      <td>2025-07-01 08:16:00</td>\n      <td>174.897866</td>\n      <td>108.716463</td>\n      <td>33890.0</td>\n      <td>9471.0</td>\n    </tr>\n    <tr>\n      <th>62857</th>\n      <td>2025-07-01 08:17:00</td>\n      <td>177.532095</td>\n      <td>104.167230</td>\n      <td>17823.0</td>\n      <td>8545.0</td>\n    </tr>\n  </tbody>\n</table>\n<p>62858 rows × 5 columns</p>\n</div>"
     },
     "execution_count": 32,
     "metadata": {},
     "output_type": "execute_result"
    }
   ],
   "source": [
    "lob_data=pd.read_csv('../datasets/resampled_lob_min.csv')\n",
    "lob_data['Datetime'] = pd.to_datetime(lob_data['Datetime'])\n",
    "lob_data"
   ],
   "metadata": {
    "collapsed": false,
    "ExecuteTime": {
     "end_time": "2024-02-26T22:48:44.555168700Z",
     "start_time": "2024-02-26T22:48:44.459982600Z"
    }
   },
   "id": "ca0522e8044164bb",
   "execution_count": 32
  },
  {
   "cell_type": "markdown",
   "source": [
    "## Feature Engineering\n",
    "Create features like price change, bid-ask pressure difference, moving averages etc."
   ],
   "metadata": {
    "collapsed": false
   },
   "id": "950b666829294a25"
  },
  {
   "cell_type": "code",
   "outputs": [
    {
     "data": {
      "text/plain": "              Datetime  Min Ask Price  Max Bid Price  Total Bid Quantity sum  \\\n0  2025-01-02 00:00:00     271.841538     260.186154                 22881.0   \n1  2025-01-02 00:01:00     262.803138     258.206847                 24821.0   \n2  2025-01-02 00:02:00     267.596615     262.929478                 33966.0   \n3  2025-01-02 00:03:00     267.066274     262.751105                 30396.0   \n4  2025-01-02 00:04:00     268.358289     263.077540                 28408.0   \n5  2025-01-02 00:05:00     265.378682     260.562412                 28895.0   \n6  2025-01-02 00:06:00     266.854972     256.726519                 34108.0   \n7  2025-01-02 00:07:00     265.266362     260.334855                 22859.0   \n8  2025-01-02 00:08:00     267.154976     260.825449                 19946.0   \n9  2025-01-02 00:09:00     267.283837     262.383706                 32991.0   \n10 2025-01-02 00:10:00     270.135854     265.058824                 39298.0   \n11 2025-01-02 00:11:00     268.141470     263.470180                 31247.0   \n12 2025-01-02 00:12:00     267.530461     260.916790                 25217.0   \n13 2025-01-02 00:13:00     261.475342     255.002740                 22079.0   \n14 2025-01-02 00:14:00     259.560720     254.053973                 20290.0   \n\n    Total Ask Quantity sum  Ask Price Change  Bid Price Change  \\\n0                  16799.0               NaN               NaN   \n1                  12978.0         -9.038400         -1.979306   \n2                  11786.0          4.793477          4.722631   \n3                  15613.0         -0.530341         -0.178374   \n4                  16458.0          1.292015          0.326436   \n5                  12759.0         -2.979607         -2.515128   \n6                  15650.0          1.476291         -3.835893   \n7                  13753.0         -1.588610          3.608336   \n8                  10646.0          1.888613          0.490593   \n9                  12274.0          0.128862          1.558257   \n10                 17144.0          2.852017          2.675118   \n11                 19559.0         -1.994384         -1.588643   \n12                 14879.0         -0.611010         -2.553390   \n13                 18322.0         -6.055118         -5.914051   \n14                 16502.0         -1.914623         -0.948767   \n\n    Pressure Difference  Short Moving Avg Ask  Long Moving Avg Ask  \\\n0                6082.0                   NaN                  NaN   \n1               11843.0                   NaN                  NaN   \n2               22180.0                   NaN                  NaN   \n3               14783.0                   NaN                  NaN   \n4               11950.0            267.533171                  NaN   \n5               16136.0            266.240600                  NaN   \n6               18458.0            267.050966                  NaN   \n7                9106.0            266.584916                  NaN   \n8                9300.0            266.602656                  NaN   \n9               20717.0            266.387766           266.960468   \n10              22154.0            267.339200           266.789900   \n11              11688.0            267.596500           267.323733   \n12              10338.0            268.049320           267.317118   \n13               3757.0            266.913393           266.758025   \n14               3788.0            265.368769           265.878268   \n\n    Short Moving Avg Bid  Long Moving Avg Bid  \n0                    NaN                  NaN  \n1                    NaN                  NaN  \n2                    NaN                  NaN  \n3                    NaN                  NaN  \n4             261.430225                  NaN  \n5             261.505477                  NaN  \n6             261.209411                  NaN  \n7             260.690486                  NaN  \n8             260.305355                  NaN  \n9             260.166588           260.798407  \n10            261.065871           261.285674  \n11            262.414603           261.812007  \n12            262.530990           261.610738  \n13            261.366448           260.835902  \n14            259.700501           259.933545  ",
      "text/html": "<div>\n<style scoped>\n    .dataframe tbody tr th:only-of-type {\n        vertical-align: middle;\n    }\n\n    .dataframe tbody tr th {\n        vertical-align: top;\n    }\n\n    .dataframe thead th {\n        text-align: right;\n    }\n</style>\n<table border=\"1\" class=\"dataframe\">\n  <thead>\n    <tr style=\"text-align: right;\">\n      <th></th>\n      <th>Datetime</th>\n      <th>Min Ask Price</th>\n      <th>Max Bid Price</th>\n      <th>Total Bid Quantity sum</th>\n      <th>Total Ask Quantity sum</th>\n      <th>Ask Price Change</th>\n      <th>Bid Price Change</th>\n      <th>Pressure Difference</th>\n      <th>Short Moving Avg Ask</th>\n      <th>Long Moving Avg Ask</th>\n      <th>Short Moving Avg Bid</th>\n      <th>Long Moving Avg Bid</th>\n    </tr>\n  </thead>\n  <tbody>\n    <tr>\n      <th>0</th>\n      <td>2025-01-02 00:00:00</td>\n      <td>271.841538</td>\n      <td>260.186154</td>\n      <td>22881.0</td>\n      <td>16799.0</td>\n      <td>NaN</td>\n      <td>NaN</td>\n      <td>6082.0</td>\n      <td>NaN</td>\n      <td>NaN</td>\n      <td>NaN</td>\n      <td>NaN</td>\n    </tr>\n    <tr>\n      <th>1</th>\n      <td>2025-01-02 00:01:00</td>\n      <td>262.803138</td>\n      <td>258.206847</td>\n      <td>24821.0</td>\n      <td>12978.0</td>\n      <td>-9.038400</td>\n      <td>-1.979306</td>\n      <td>11843.0</td>\n      <td>NaN</td>\n      <td>NaN</td>\n      <td>NaN</td>\n      <td>NaN</td>\n    </tr>\n    <tr>\n      <th>2</th>\n      <td>2025-01-02 00:02:00</td>\n      <td>267.596615</td>\n      <td>262.929478</td>\n      <td>33966.0</td>\n      <td>11786.0</td>\n      <td>4.793477</td>\n      <td>4.722631</td>\n      <td>22180.0</td>\n      <td>NaN</td>\n      <td>NaN</td>\n      <td>NaN</td>\n      <td>NaN</td>\n    </tr>\n    <tr>\n      <th>3</th>\n      <td>2025-01-02 00:03:00</td>\n      <td>267.066274</td>\n      <td>262.751105</td>\n      <td>30396.0</td>\n      <td>15613.0</td>\n      <td>-0.530341</td>\n      <td>-0.178374</td>\n      <td>14783.0</td>\n      <td>NaN</td>\n      <td>NaN</td>\n      <td>NaN</td>\n      <td>NaN</td>\n    </tr>\n    <tr>\n      <th>4</th>\n      <td>2025-01-02 00:04:00</td>\n      <td>268.358289</td>\n      <td>263.077540</td>\n      <td>28408.0</td>\n      <td>16458.0</td>\n      <td>1.292015</td>\n      <td>0.326436</td>\n      <td>11950.0</td>\n      <td>267.533171</td>\n      <td>NaN</td>\n      <td>261.430225</td>\n      <td>NaN</td>\n    </tr>\n    <tr>\n      <th>5</th>\n      <td>2025-01-02 00:05:00</td>\n      <td>265.378682</td>\n      <td>260.562412</td>\n      <td>28895.0</td>\n      <td>12759.0</td>\n      <td>-2.979607</td>\n      <td>-2.515128</td>\n      <td>16136.0</td>\n      <td>266.240600</td>\n      <td>NaN</td>\n      <td>261.505477</td>\n      <td>NaN</td>\n    </tr>\n    <tr>\n      <th>6</th>\n      <td>2025-01-02 00:06:00</td>\n      <td>266.854972</td>\n      <td>256.726519</td>\n      <td>34108.0</td>\n      <td>15650.0</td>\n      <td>1.476291</td>\n      <td>-3.835893</td>\n      <td>18458.0</td>\n      <td>267.050966</td>\n      <td>NaN</td>\n      <td>261.209411</td>\n      <td>NaN</td>\n    </tr>\n    <tr>\n      <th>7</th>\n      <td>2025-01-02 00:07:00</td>\n      <td>265.266362</td>\n      <td>260.334855</td>\n      <td>22859.0</td>\n      <td>13753.0</td>\n      <td>-1.588610</td>\n      <td>3.608336</td>\n      <td>9106.0</td>\n      <td>266.584916</td>\n      <td>NaN</td>\n      <td>260.690486</td>\n      <td>NaN</td>\n    </tr>\n    <tr>\n      <th>8</th>\n      <td>2025-01-02 00:08:00</td>\n      <td>267.154976</td>\n      <td>260.825449</td>\n      <td>19946.0</td>\n      <td>10646.0</td>\n      <td>1.888613</td>\n      <td>0.490593</td>\n      <td>9300.0</td>\n      <td>266.602656</td>\n      <td>NaN</td>\n      <td>260.305355</td>\n      <td>NaN</td>\n    </tr>\n    <tr>\n      <th>9</th>\n      <td>2025-01-02 00:09:00</td>\n      <td>267.283837</td>\n      <td>262.383706</td>\n      <td>32991.0</td>\n      <td>12274.0</td>\n      <td>0.128862</td>\n      <td>1.558257</td>\n      <td>20717.0</td>\n      <td>266.387766</td>\n      <td>266.960468</td>\n      <td>260.166588</td>\n      <td>260.798407</td>\n    </tr>\n    <tr>\n      <th>10</th>\n      <td>2025-01-02 00:10:00</td>\n      <td>270.135854</td>\n      <td>265.058824</td>\n      <td>39298.0</td>\n      <td>17144.0</td>\n      <td>2.852017</td>\n      <td>2.675118</td>\n      <td>22154.0</td>\n      <td>267.339200</td>\n      <td>266.789900</td>\n      <td>261.065871</td>\n      <td>261.285674</td>\n    </tr>\n    <tr>\n      <th>11</th>\n      <td>2025-01-02 00:11:00</td>\n      <td>268.141470</td>\n      <td>263.470180</td>\n      <td>31247.0</td>\n      <td>19559.0</td>\n      <td>-1.994384</td>\n      <td>-1.588643</td>\n      <td>11688.0</td>\n      <td>267.596500</td>\n      <td>267.323733</td>\n      <td>262.414603</td>\n      <td>261.812007</td>\n    </tr>\n    <tr>\n      <th>12</th>\n      <td>2025-01-02 00:12:00</td>\n      <td>267.530461</td>\n      <td>260.916790</td>\n      <td>25217.0</td>\n      <td>14879.0</td>\n      <td>-0.611010</td>\n      <td>-2.553390</td>\n      <td>10338.0</td>\n      <td>268.049320</td>\n      <td>267.317118</td>\n      <td>262.530990</td>\n      <td>261.610738</td>\n    </tr>\n    <tr>\n      <th>13</th>\n      <td>2025-01-02 00:13:00</td>\n      <td>261.475342</td>\n      <td>255.002740</td>\n      <td>22079.0</td>\n      <td>18322.0</td>\n      <td>-6.055118</td>\n      <td>-5.914051</td>\n      <td>3757.0</td>\n      <td>266.913393</td>\n      <td>266.758025</td>\n      <td>261.366448</td>\n      <td>260.835902</td>\n    </tr>\n    <tr>\n      <th>14</th>\n      <td>2025-01-02 00:14:00</td>\n      <td>259.560720</td>\n      <td>254.053973</td>\n      <td>20290.0</td>\n      <td>16502.0</td>\n      <td>-1.914623</td>\n      <td>-0.948767</td>\n      <td>3788.0</td>\n      <td>265.368769</td>\n      <td>265.878268</td>\n      <td>259.700501</td>\n      <td>259.933545</td>\n    </tr>\n  </tbody>\n</table>\n</div>"
     },
     "execution_count": 33,
     "metadata": {},
     "output_type": "execute_result"
    }
   ],
   "source": [
    "# 计算价格变动 Price Change\n",
    "lob_data['Ask Price Change'] = lob_data['Min Ask Price'].diff()\n",
    "lob_data['Bid Price Change'] = lob_data['Max Bid Price'].diff()\n",
    "\n",
    "# 计算买卖压力差 Bid-Ask Pressure Difference\n",
    "lob_data['Pressure Difference'] = lob_data['Total Bid Quantity sum'] - lob_data['Total Ask Quantity sum']\n",
    "\n",
    "# 计算移动平均线 Moving Averages; Long and Short Windows\n",
    "short_window = 5\n",
    "long_window = 10\n",
    "\n",
    "lob_data['Short Moving Avg Ask'] = lob_data['Min Ask Price'].rolling(window=short_window).mean()\n",
    "lob_data['Long Moving Avg Ask'] = lob_data['Min Ask Price'].rolling(window=long_window).mean()\n",
    "lob_data['Short Moving Avg Bid'] = lob_data['Max Bid Price'].rolling(window=short_window).mean()\n",
    "lob_data['Long Moving Avg Bid'] = lob_data['Max Bid Price'].rolling(window=long_window).mean()\n",
    "\n",
    "# 显示包含新特征的数据头几行\n",
    "lob_data.head(15)"
   ],
   "metadata": {
    "collapsed": false,
    "ExecuteTime": {
     "end_time": "2024-02-26T22:48:56.795895Z",
     "start_time": "2024-02-26T22:48:56.767148500Z"
    }
   },
   "id": "dbd2de9a1c021315",
   "execution_count": 33
  },
  {
   "cell_type": "markdown",
   "source": [
    "## Simulate Trading\n",
    "### 1. Simple Moving Average Crossover Strategy\n",
    "The simple moving average crossover strategy is a simple and effective strategy for trading. It is based on the moving averages of the stock prices. The strategy is to buy when the short moving average crosses above the long moving average and sell when the short moving average crosses below the long moving average.\n",
    "\n",
    "We will define a simple trading strategy and implement a trading simulator to evaluate the performance of this strategy. Our strategy will be based on the following assumptions:\n",
    "- **Buy Signal**: When the short-term moving average crosses above the long-term moving average, this may indicate an upward price trend, and we will take this as a buy signal.\n",
    "- **Sell Signal**: When the short-term moving average crosses below the long-term moving average, this may indicate a downward price trend, and we will take this as a sell signal.\n",
    "- **Position Limit**: To simplify the simulation, we assume that at any time we hold at most one unit of the asset.\n",
    "- **Transaction Cost**: Each trade (buy or sell) will incur a certain percentage of transaction cost, here we assume it to be 0.1%.\n",
    "\n",
    "### Implement Trading Simulator\n",
    "1. **Initialization**: Set initial capital, record trading and position status.\n",
    "2. **Signal Generation**: Generate trading signals based on the above buy and sell signal logic.\n",
    "3. **Execute Trades**: Buy or sell based on the trading signals, and consider transaction costs.\n",
    "4. **Performance Evaluation**: Calculate the final capital and return, as well as other possible performance metrics (e.g., maximum drawdown, Sharpe ratio, etc.)."
   ],
   "metadata": {
    "collapsed": false
   },
   "id": "969a01944887b184"
  },
  {
   "cell_type": "markdown",
   "source": [
    "接下来，我们将定义一个简单的交易策略，并实施一个交易模拟器来评估这个策略的表现。我们的策略将基于以下几个假设：\n",
    "\n",
    "1. **买入信号**：当短期移动平均线从下穿越长期移动平均线时，这可能表明价格趋势向上，我们将这视为一个买入信号。\n",
    "2. **卖出信号**：当短期移动平均线从上穿越长期移动平均线时，这可能表明价格趋势向下，我们将这视为一个卖出信号。\n",
    "3. **持仓限制**：为简化模拟，我们假设在任何时候最多只持有一单位资产。\n",
    "4. **交易成本**：每次交易（买入或卖出）将扣除一定比例的交易成本，这里我们假设为0.1%。\n",
    "\n",
    "### 实施交易模拟器\n",
    "\n",
    "1. **初始化**：设置初始资本，记录交易和持仓状态。\n",
    "2. **信号生成**：根据上述买入和卖出信号的逻辑来生成交易信号。\n",
    "3. **执行交易**：根据交易信号买入或卖出，并考虑交易成本。\n",
    "4. **性能评估**：计算最终资本和收益率，以及其他可能的性能指标（如最大回撤、夏普比率等）。"
   ],
   "metadata": {
    "collapsed": false
   },
   "id": "8a47da4e3518dcf5"
  },
  {
   "cell_type": "code",
   "outputs": [
    {
     "name": "stdout",
     "output_type": "stream",
     "text": [
      "Number of trades: 14077\n",
      "Final return: -121.79%\n",
      "Final capital: -21789.33\n",
      "Sharpe Ratio: -0.004\n"
     ]
    }
   ],
   "source": [
    "# 初始化交易模拟器的参数\n",
    "initial_capital = 100000.0  # 初始资本\n",
    "capital = initial_capital  # 当前资本\n",
    "position = 0  # 持仓数量，这里假设最多持有一单位资产\n",
    "transaction_cost = 0.001  # 交易成本，0.1%\n",
    "\n",
    "# 用于记录交易和资本变动的列表\n",
    "trades = []\n",
    "capital_history = [initial_capital]\n",
    "\n",
    "# 遍历LOB数据，模拟交易逻辑\n",
    "for i in range(1, len(lob_data)):\n",
    "    # 买入信号：短期均线上穿长期均线，且当前无持仓\n",
    "    if (lob_data['Short Moving Avg Ask'][i-1] < lob_data['Long Moving Avg Ask'][i-1]) and \\\n",
    "       (lob_data['Short Moving Avg Ask'][i] > lob_data['Long Moving Avg Ask'][i]) and \\\n",
    "       (position == 0):\n",
    "        # 执行买入，考虑交易成本\n",
    "        buy_price = lob_data['Min Ask Price'][i] * (1 + transaction_cost)\n",
    "        capital -= buy_price  # 扣除买入成本\n",
    "        position = 1  # 更新持仓状态\n",
    "        trades.append(('BUY', lob_data['Datetime'][i], buy_price))\n",
    "    \n",
    "    # 卖出信号：短期均线下穿长期均线，且当前有持仓\n",
    "    elif (lob_data['Short Moving Avg Ask'][i-1] > lob_data['Long Moving Avg Ask'][i-1]) and \\\n",
    "         (lob_data['Short Moving Avg Ask'][i] < lob_data['Long Moving Avg Ask'][i]) and \\\n",
    "         (position == 1):\n",
    "        # 执行卖出，考虑交易成本\n",
    "        sell_price = lob_data['Min Ask Price'][i] * (1 - transaction_cost)\n",
    "        capital += sell_price  # 增加卖出收益\n",
    "        position = 0  # 更新持仓状态\n",
    "        trades.append(('SELL', lob_data['Datetime'][i], sell_price))\n",
    "    \n",
    "    # 更新资本历史记录\n",
    "    capital_history.append(capital)\n",
    "\n",
    "# 计算最终收益\n",
    "final_return = (capital - initial_capital) / initial_capital\n",
    "num_trades = len(trades)\n",
    "\n",
    "# Sharp Ratio\n",
    "# 将资本历史转换为日收益率\n",
    "capital_history_array = np.array(capital_history)\n",
    "daily_returns = np.diff(capital_history_array) / capital_history_array[:-1]\n",
    "sharpe_ratio = calculate_sharpe_ratio(daily_returns)\n",
    "\n",
    "# 输出优化后的交易次数和最终收益\n",
    "print(f'Number of trades: {num_trades}')\n",
    "print(f'Final return: {final_return:.2%}')\n",
    "print(f'Final capital: {capital:.2f}')\n",
    "print(f'Sharpe Ratio: {sharpe_ratio:.3f}') "
   ],
   "metadata": {
    "collapsed": false,
    "ExecuteTime": {
     "end_time": "2024-02-26T22:19:15.330316400Z",
     "start_time": "2024-02-26T22:19:14.023680200Z"
    }
   },
   "id": "949d368dfc046a60",
   "execution_count": 27
  },
  {
   "cell_type": "markdown",
   "source": [
    "模拟交易的结果显示：\n",
    "\n",
    "- 进行了总共14,077次交易。\n",
    "- 最终收益率为-1217.89%，这表明按照这个简单的交易策略，初始资本损失了大部分。\n",
    "- Sharpe Ratio为-0.004，这表明策略的风险调整收益率为负。夏普比率相对较低，这可能是由于日收益率的波动性较大或平均回报率较低所致。为了提高夏普比率，我们需要提高策略的平均回报率或降低回报率的波动性。\n",
    "\n",
    "### 分析和下一步\n",
    "\n",
    "这个简单的交易策略导致了巨大的亏损，这可能是由于以下几个原因：\n",
    "\n",
    "1. **交易成本的影响**：在每次交易中都考虑了0.1%的交易成本，频繁的交易使得成本累积，对收益产生了显著的负面影响。\n",
    "2. **信号生成逻辑**：使用移动平均线生成买卖信号的方法可能不够准确或适合这个特定的数据集。移动平均线是一种趋势跟踪指标，它可能会在价格波动时产生滞后的信号。\n",
    "3. **市场噪音**：短期的市场波动可能导致频繁的买卖信号，而这些信号可能并不总是代表真正的市场趋势。\n",
    "\n",
    "#### 下一步\n",
    "首先尝试通过优化移动平均线的窗口大小来减少交易次数，然后引入冷却期来避免频繁交易。"
   ],
   "metadata": {
    "collapsed": false
   },
   "id": "575b94e1506fa0e3"
  },
  {
   "cell_type": "code",
   "outputs": [
    {
     "name": "stdout",
     "output_type": "stream",
     "text": [
      "Number of trades (optimized): 4941\n",
      "Final return (optimized): -47.52%\n",
      "Final capital (optimized): 52476.66\n",
      "Sharpe Ratio (optimized): -0.011\n"
     ]
    }
   ],
   "source": [
    "# 调整移动平均线窗口大小\n",
    "short_window_opt = 10  # 优化后的短期窗口\n",
    "long_window_opt = 20  # 优化后的长期窗口\n",
    "\n",
    "# 计算优化后的移动平均线\n",
    "lob_data['Opt Short Moving Avg Ask'] = lob_data['Min Ask Price'].rolling(window=short_window_opt).mean()\n",
    "lob_data['Opt Long Moving Avg Ask'] = lob_data['Min Ask Price'].rolling(window=long_window_opt).mean()\n",
    "\n",
    "# 引入冷却期\n",
    "cooldown_period = 5  # 冷却期，单位是分钟\n",
    "cooldown_counter = 0  # 冷却计数器\n",
    "\n",
    "# 重新初始化交易模拟器的参数\n",
    "capital = initial_capital  # 重置当前资本\n",
    "position = 0  # 重置持仓数量\n",
    "trades = []  # 重置交易记录\n",
    "capital_history = [initial_capital]  # 重置资本历史\n",
    "\n",
    "# 优化后的交易模拟逻辑\n",
    "for i in range(1, len(lob_data)):\n",
    "    # 更新冷却计数器\n",
    "    if cooldown_counter > 0:\n",
    "        cooldown_counter -= 1\n",
    "    \n",
    "    # 买入信号：短期均线上穿长期均线，无持仓，冷却期结束\n",
    "    if (lob_data['Opt Short Moving Avg Ask'][i-1] < lob_data['Opt Long Moving Avg Ask'][i-1]) and \\\n",
    "       (lob_data['Opt Short Moving Avg Ask'][i] > lob_data['Opt Long Moving Avg Ask'][i]) and \\\n",
    "       (position == 0) and (cooldown_counter == 0):\n",
    "        # 执行买入\n",
    "        buy_price = lob_data['Min Ask Price'][i] * (1 + transaction_cost)\n",
    "        capital -= buy_price\n",
    "        position = 1\n",
    "        trades.append(('BUY', lob_data['Datetime'][i], buy_price))\n",
    "        cooldown_counter = cooldown_period  # 重置冷却计数器\n",
    "    \n",
    "    # 卖出信号：短期均线下穿长期均线，有持仓，冷却期结束\n",
    "    elif (lob_data['Opt Short Moving Avg Ask'][i-1] > lob_data['Opt Long Moving Avg Ask'][i-1]) and \\\n",
    "         (lob_data['Opt Short Moving Avg Ask'][i] < lob_data['Opt Long Moving Avg Ask'][i]) and \\\n",
    "         (position == 1) and (cooldown_counter == 0):\n",
    "        # 执行卖出\n",
    "        sell_price = lob_data['Min Ask Price'][i] * (1 - transaction_cost)\n",
    "        capital += sell_price\n",
    "        position = 0\n",
    "        trades.append(('SELL', lob_data['Datetime'][i], sell_price))\n",
    "        cooldown_counter = cooldown_period  # 重置冷却计数器\n",
    "    \n",
    "    capital_history.append(capital)\n",
    "\n",
    "# 重新计算最终收益\n",
    "final_return_opt = (capital - initial_capital) / initial_capital\n",
    "num_trades_opt = len(trades)\n",
    "\n",
    "# Sharp Ratio\n",
    "# 将资本历史转换为日收益率\n",
    "capital_history_array = np.array(capital_history)\n",
    "daily_returns = np.diff(capital_history_array) / capital_history_array[:-1]\n",
    "sharpe_ratio = calculate_sharpe_ratio(daily_returns)\n",
    "\n",
    "# 输出优化后的交易次数和最终收益\n",
    "print(f'Number of trades (optimized): {num_trades_opt}')\n",
    "print(f'Final return (optimized): {final_return_opt:.2%}')\n",
    "print(f'Final capital (optimized): {capital:.2f}')\n",
    "print(f'Sharpe Ratio (optimized): {sharpe_ratio:.3f}')  "
   ],
   "metadata": {
    "collapsed": false,
    "ExecuteTime": {
     "end_time": "2024-02-26T22:19:29.589321200Z",
     "start_time": "2024-02-26T22:19:28.353044400Z"
    }
   },
   "id": "3ea3ce33dc477362",
   "execution_count": 28
  },
  {
   "cell_type": "markdown",
   "source": [
    "### 优化后的模拟交易结果显示：\n",
    "\n",
    "- 进行了总共4,941次交易，相比之前的策略，交易次数有显著减少。\n",
    "- 最终收益率为-475.23%，虽然仍然是亏损状态，但相比之前的策略，亏损幅度有所减少。\n",
    "- Sharpe Ratio为-0.011，仍然是负值，但相比之前的策略有所提高。\n",
    "\n",
    "### 分析和进一步的步骤\n",
    "通过调整移动平均线的窗口大小并引入冷却期，我们成功减少了交易次数并降低了亏损幅度。然而，该策略仍然未能实现盈利。这可能是因为：\n",
    "\n",
    "- 移动平均线策略本质上是趋势跟踪的，可能不适合所有类型的市场环境，尤其是在高波动或无明显趋势的市场中。\n",
    "- 冷却期虽然减少了交易次数，但可能也导致错过了一些有利的交易机会。\n",
    "\n",
    "### 为了进一步优化模型，我们可以考虑以下几个方向：\n",
    "\n",
    "- 更复杂的交易信号：结合更多技术指标，使用机器学习模型来识别交易信号，可能能更准确地捕捉市场机会。\n",
    "- 动态调整参数：根据市场条件动态调整策略参数，如移动平均线的窗口大小、冷却期长度等。\n",
    "- 风险管理：引入更复杂的风险管理措施，如动态止损、止盈点，根据市场波动性调整仓位大小等。\n"
   ],
   "metadata": {
    "collapsed": false
   },
   "id": "3625f6c54b8dfaa4"
  },
  {
   "cell_type": "markdown",
   "source": [
    "### 2. RSI (Relative Strength Index) Strategy\n",
    "为了进一步优化模型，我们可以考虑以下策略：\n",
    "\n",
    "使用相对强弱指数（RSI）来生成交易信号。RSI是一种用于衡量价格波动的技术指标，它的取值范围在0到100之间。一般来说，RSI高于70可能表示价格过高，RSI低于30可能表示价格过低。基于这一特性，我们可以使用RSI来生成买卖信号。\n",
    "- 买入：当RSI低于30且无持仓时，我们认为价格可能过低，可以考虑买入。\n",
    "- 卖出：当RSI高于70且有持仓时，我们认为价格可能过高，可以考虑卖出。\n",
    "\n",
    "### RSI Strategy Implementation\n",
    "- Buy Signal: When the RSI is below 30 and there is no position.\n",
    "- Sell Signal: When the RSI is above 70 and there is a position."
   ],
   "metadata": {
    "collapsed": false
   },
   "id": "249c94f6b00a3dee"
  },
  {
   "cell_type": "code",
   "outputs": [
    {
     "name": "stdout",
     "output_type": "stream",
     "text": [
      "Number of trades (RSI): 263\n",
      "Final return (RSI): 5.67%\n",
      "Final capital (RSI): 105673.04\n",
      "Sharpe Ratio (RSI): 0.004\n"
     ]
    }
   ],
   "source": [
    "def calculate_rsi(data, window=14):\n",
    "    \"\"\"\n",
    "    计算给定数据的相对强弱指数（RSI）。\n",
    "    \n",
    "    :param data: 包含价格数据的Pandas Series。\n",
    "    :param window: 用于计算RSI的窗口大小，默认为14。\n",
    "    :return: 包含RSI值的Pandas Series。\n",
    "    \"\"\"\n",
    "    delta = data.diff()\n",
    "    gain = (delta.where(delta > 0, 0)).rolling(window=window).mean()\n",
    "    loss = (-delta.where(delta < 0, 0)).rolling(window=window).mean()\n",
    "\n",
    "    rs = gain / loss\n",
    "    rsi = 100 - (100 / (1 + rs))\n",
    "    return rsi\n",
    "\n",
    "# 计算Min Ask Price的RSI\n",
    "lob_data['RSI'] = calculate_rsi(lob_data['Min Ask Price'], window=14)\n",
    "\n",
    "# 使用RSI改进交易信号\n",
    "# 初始化参数\n",
    "capital = initial_capital\n",
    "position = 0\n",
    "trades = []\n",
    "capital_history = [initial_capital]\n",
    "\n",
    "# 使用RSI的交易模拟逻辑\n",
    "for i in range(1, len(lob_data)):\n",
    "    # 买入信号：RSI低于30且无持仓\n",
    "    if lob_data['RSI'][i] < 30 and position == 0:\n",
    "        # 执行买入\n",
    "        buy_price = lob_data['Min Ask Price'][i] * (1 + transaction_cost)\n",
    "        capital -= buy_price\n",
    "        position = 1\n",
    "        trades.append(('BUY', lob_data['Datetime'][i], buy_price))\n",
    "    \n",
    "    # 卖出信号：RSI高于70且有持仓\n",
    "    elif lob_data['RSI'][i] > 70 and position == 1:\n",
    "        # 执行卖出\n",
    "        sell_price = lob_data['Min Ask Price'][i] * (1 - transaction_cost)\n",
    "        capital += sell_price\n",
    "        position = 0\n",
    "        trades.append(('SELL', lob_data['Datetime'][i], sell_price))\n",
    "    \n",
    "    capital_history.append(capital)\n",
    "\n",
    "# 重新计算最终收益和夏普比率\n",
    "final_return_rsi = (capital - initial_capital) / initial_capital\n",
    "num_trades_rsi = len(trades)\n",
    "\n",
    "# 将资本历史转换为日收益率\n",
    "capital_history_array = np.array(capital_history)\n",
    "daily_returns = np.diff(capital_history_array) / capital_history_array[:-1]\n",
    "sharpe_ratio = calculate_sharpe_ratio(daily_returns)\n",
    "\n",
    "# 输出RSI策略的交易次数和最终收益\n",
    "print(f'Number of trades (RSI): {num_trades_rsi}')\n",
    "print(f'Final return (RSI): {final_return_rsi:.2%}')\n",
    "print(f'Final capital (RSI): {capital:.2f}')\n",
    "print(f'Sharpe Ratio (RSI): {sharpe_ratio:.3f}')"
   ],
   "metadata": {
    "collapsed": false,
    "ExecuteTime": {
     "end_time": "2024-02-26T22:19:50.251780600Z",
     "start_time": "2024-02-26T22:19:49.838631500Z"
    }
   },
   "id": "ba30aff02844d46",
   "execution_count": 29
  },
  {
   "cell_type": "markdown",
   "source": [
    "As the result shows that the RSI strategy has significantly reduced the number of trades and improved the final return and Sharpe ratio. The final return is 5.67% and the Sharpe ratio is 0.004. "
   ],
   "metadata": {
    "collapsed": false
   },
   "id": "ad93859c0304580b"
  }
 ],
 "metadata": {
  "kernelspec": {
   "display_name": "Python 3",
   "language": "python",
   "name": "python3"
  },
  "language_info": {
   "codemirror_mode": {
    "name": "ipython",
    "version": 2
   },
   "file_extension": ".py",
   "mimetype": "text/x-python",
   "name": "python",
   "nbconvert_exporter": "python",
   "pygments_lexer": "ipython2",
   "version": "2.7.6"
  }
 },
 "nbformat": 4,
 "nbformat_minor": 5
}

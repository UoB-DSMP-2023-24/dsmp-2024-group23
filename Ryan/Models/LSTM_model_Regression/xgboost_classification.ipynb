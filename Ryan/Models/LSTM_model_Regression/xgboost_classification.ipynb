{
 "cells": [
  {
   "metadata": {
    "ExecuteTime": {
     "end_time": "2024-04-29T20:20:22.611809Z",
     "start_time": "2024-04-29T20:20:22.593528Z"
    }
   },
   "cell_type": "code",
   "source": [
    "import pandas as pd\n",
    "import numpy as np\n",
    "import matplotlib.pyplot as plt\n",
    "import seaborn as sns\n",
    "from statsmodels.tsa.stattools import adfuller, acf, pacf\n",
    "from statsmodels.graphics.tsaplots import plot_acf, plot_pacf\n",
    "from statsmodels.tsa.arima.model import ARIMA\n",
    "from xgboost import XGBRegressor\n",
    "from sklearn.model_selection import TimeSeriesSplit\n",
    "from sklearn.model_selection import GridSearchCV\n",
    "from sklearn.preprocessing import StandardScaler\n",
    "import statsmodels.api as sm\n",
    "from sklearn.metrics import mean_squared_error\n",
    "import xgboost as xgb\n",
    "from sklearn.metrics import classification_report"
   ],
   "id": "f7a1a1c633e7113f",
   "outputs": [],
   "execution_count": 15
  },
  {
   "metadata": {
    "ExecuteTime": {
     "end_time": "2024-04-29T20:01:54.485373Z",
     "start_time": "2024-04-29T20:01:49.163226Z"
    }
   },
   "cell_type": "code",
   "source": [
    "lob_data= pd.read_csv(\"E:\\\\Bristol\\\\mini_project\\\\JPMorgan_Set01\\\\test_datasets\\\\resampled_lob_secs2.csv\")\n",
    "lob_data['Datetime'] = pd.to_datetime(lob_data['Datetime'])\n",
    "\n",
    "# lob_data['price']=(lob_data['Max Bid Price']*lob_data['Max Bid Quantity']+lob_data['Min Ask Price']*lob_data['Min Ask Quantity'])/(lob_data['Max Bid Quantity']+lob_data['Min Ask Quantity'])\n",
    "# lob_data\n",
    "lob_data"
   ],
   "id": "c40315c1ea4f558c",
   "outputs": [
    {
     "data": {
      "text/plain": [
       "                   Datetime  Min Ask Price  Max Bid Price       price  \\\n",
       "0       2025-01-02 00:00:02            310            261  293.666667   \n",
       "1       2025-01-02 00:00:03            293            262  269.750000   \n",
       "2       2025-01-02 00:00:04            287            264  271.666667   \n",
       "3       2025-01-02 00:00:05            283            264  272.636364   \n",
       "4       2025-01-02 00:00:06            281            265  267.285714   \n",
       "...                     ...            ...            ...         ...   \n",
       "3767279 2025-07-01 08:17:55            183            109  133.666667   \n",
       "3767280 2025-07-01 08:17:56            183            110  128.250000   \n",
       "3767281 2025-07-01 08:17:57            123            110  114.333333   \n",
       "3767282 2025-07-01 08:17:58            114            109  111.500000   \n",
       "3767283 2025-07-01 08:17:59            112            108  110.000000   \n",
       "\n",
       "         Total Bid Quantity  Total Ask Quantity  Min Ask Quantity  \\\n",
       "0                         7                   7                 4   \n",
       "1                         7                  13                 2   \n",
       "2                         7                  14                 3   \n",
       "3                         9                  14                 5   \n",
       "4                        18                  16                 1   \n",
       "...                     ...                 ...               ...   \n",
       "3767279                  21                  18                 1   \n",
       "3767280                  24                  18                 1   \n",
       "3767281                  26                  18                 1   \n",
       "3767282                  25                  19                 1   \n",
       "3767283                  23                  20                 1   \n",
       "\n",
       "         Max Bid Quantity  ofi        RSI          MA   Momentum  \n",
       "0                       2    6        NaN         NaN        NaN  \n",
       "1                       6    8        NaN         NaN        NaN  \n",
       "2                       6    9        NaN         NaN        NaN  \n",
       "3                       6    5        NaN         NaN        NaN  \n",
       "4                       6    7   8.976775  275.001082        NaN  \n",
       "...                   ...  ...        ...         ...        ...  \n",
       "3767279                 2   -1  79.558011  124.390476  35.666667  \n",
       "3767280                 3    3  81.702128  131.840476  37.250000  \n",
       "3767281                 2    0  34.012739  129.450000 -11.952381  \n",
       "3767282                 1    0  20.289855  125.350000 -20.500000  \n",
       "3767283                 1    0   0.000000  119.550000 -29.000000  \n",
       "\n",
       "[3767284 rows x 12 columns]"
      ],
      "text/html": [
       "<div>\n",
       "<style scoped>\n",
       "    .dataframe tbody tr th:only-of-type {\n",
       "        vertical-align: middle;\n",
       "    }\n",
       "\n",
       "    .dataframe tbody tr th {\n",
       "        vertical-align: top;\n",
       "    }\n",
       "\n",
       "    .dataframe thead th {\n",
       "        text-align: right;\n",
       "    }\n",
       "</style>\n",
       "<table border=\"1\" class=\"dataframe\">\n",
       "  <thead>\n",
       "    <tr style=\"text-align: right;\">\n",
       "      <th></th>\n",
       "      <th>Datetime</th>\n",
       "      <th>Min Ask Price</th>\n",
       "      <th>Max Bid Price</th>\n",
       "      <th>price</th>\n",
       "      <th>Total Bid Quantity</th>\n",
       "      <th>Total Ask Quantity</th>\n",
       "      <th>Min Ask Quantity</th>\n",
       "      <th>Max Bid Quantity</th>\n",
       "      <th>ofi</th>\n",
       "      <th>RSI</th>\n",
       "      <th>MA</th>\n",
       "      <th>Momentum</th>\n",
       "    </tr>\n",
       "  </thead>\n",
       "  <tbody>\n",
       "    <tr>\n",
       "      <th>0</th>\n",
       "      <td>2025-01-02 00:00:02</td>\n",
       "      <td>310</td>\n",
       "      <td>261</td>\n",
       "      <td>293.666667</td>\n",
       "      <td>7</td>\n",
       "      <td>7</td>\n",
       "      <td>4</td>\n",
       "      <td>2</td>\n",
       "      <td>6</td>\n",
       "      <td>NaN</td>\n",
       "      <td>NaN</td>\n",
       "      <td>NaN</td>\n",
       "    </tr>\n",
       "    <tr>\n",
       "      <th>1</th>\n",
       "      <td>2025-01-02 00:00:03</td>\n",
       "      <td>293</td>\n",
       "      <td>262</td>\n",
       "      <td>269.750000</td>\n",
       "      <td>7</td>\n",
       "      <td>13</td>\n",
       "      <td>2</td>\n",
       "      <td>6</td>\n",
       "      <td>8</td>\n",
       "      <td>NaN</td>\n",
       "      <td>NaN</td>\n",
       "      <td>NaN</td>\n",
       "    </tr>\n",
       "    <tr>\n",
       "      <th>2</th>\n",
       "      <td>2025-01-02 00:00:04</td>\n",
       "      <td>287</td>\n",
       "      <td>264</td>\n",
       "      <td>271.666667</td>\n",
       "      <td>7</td>\n",
       "      <td>14</td>\n",
       "      <td>3</td>\n",
       "      <td>6</td>\n",
       "      <td>9</td>\n",
       "      <td>NaN</td>\n",
       "      <td>NaN</td>\n",
       "      <td>NaN</td>\n",
       "    </tr>\n",
       "    <tr>\n",
       "      <th>3</th>\n",
       "      <td>2025-01-02 00:00:05</td>\n",
       "      <td>283</td>\n",
       "      <td>264</td>\n",
       "      <td>272.636364</td>\n",
       "      <td>9</td>\n",
       "      <td>14</td>\n",
       "      <td>5</td>\n",
       "      <td>6</td>\n",
       "      <td>5</td>\n",
       "      <td>NaN</td>\n",
       "      <td>NaN</td>\n",
       "      <td>NaN</td>\n",
       "    </tr>\n",
       "    <tr>\n",
       "      <th>4</th>\n",
       "      <td>2025-01-02 00:00:06</td>\n",
       "      <td>281</td>\n",
       "      <td>265</td>\n",
       "      <td>267.285714</td>\n",
       "      <td>18</td>\n",
       "      <td>16</td>\n",
       "      <td>1</td>\n",
       "      <td>6</td>\n",
       "      <td>7</td>\n",
       "      <td>8.976775</td>\n",
       "      <td>275.001082</td>\n",
       "      <td>NaN</td>\n",
       "    </tr>\n",
       "    <tr>\n",
       "      <th>...</th>\n",
       "      <td>...</td>\n",
       "      <td>...</td>\n",
       "      <td>...</td>\n",
       "      <td>...</td>\n",
       "      <td>...</td>\n",
       "      <td>...</td>\n",
       "      <td>...</td>\n",
       "      <td>...</td>\n",
       "      <td>...</td>\n",
       "      <td>...</td>\n",
       "      <td>...</td>\n",
       "      <td>...</td>\n",
       "    </tr>\n",
       "    <tr>\n",
       "      <th>3767279</th>\n",
       "      <td>2025-07-01 08:17:55</td>\n",
       "      <td>183</td>\n",
       "      <td>109</td>\n",
       "      <td>133.666667</td>\n",
       "      <td>21</td>\n",
       "      <td>18</td>\n",
       "      <td>1</td>\n",
       "      <td>2</td>\n",
       "      <td>-1</td>\n",
       "      <td>79.558011</td>\n",
       "      <td>124.390476</td>\n",
       "      <td>35.666667</td>\n",
       "    </tr>\n",
       "    <tr>\n",
       "      <th>3767280</th>\n",
       "      <td>2025-07-01 08:17:56</td>\n",
       "      <td>183</td>\n",
       "      <td>110</td>\n",
       "      <td>128.250000</td>\n",
       "      <td>24</td>\n",
       "      <td>18</td>\n",
       "      <td>1</td>\n",
       "      <td>3</td>\n",
       "      <td>3</td>\n",
       "      <td>81.702128</td>\n",
       "      <td>131.840476</td>\n",
       "      <td>37.250000</td>\n",
       "    </tr>\n",
       "    <tr>\n",
       "      <th>3767281</th>\n",
       "      <td>2025-07-01 08:17:57</td>\n",
       "      <td>123</td>\n",
       "      <td>110</td>\n",
       "      <td>114.333333</td>\n",
       "      <td>26</td>\n",
       "      <td>18</td>\n",
       "      <td>1</td>\n",
       "      <td>2</td>\n",
       "      <td>0</td>\n",
       "      <td>34.012739</td>\n",
       "      <td>129.450000</td>\n",
       "      <td>-11.952381</td>\n",
       "    </tr>\n",
       "    <tr>\n",
       "      <th>3767282</th>\n",
       "      <td>2025-07-01 08:17:58</td>\n",
       "      <td>114</td>\n",
       "      <td>109</td>\n",
       "      <td>111.500000</td>\n",
       "      <td>25</td>\n",
       "      <td>19</td>\n",
       "      <td>1</td>\n",
       "      <td>1</td>\n",
       "      <td>0</td>\n",
       "      <td>20.289855</td>\n",
       "      <td>125.350000</td>\n",
       "      <td>-20.500000</td>\n",
       "    </tr>\n",
       "    <tr>\n",
       "      <th>3767283</th>\n",
       "      <td>2025-07-01 08:17:59</td>\n",
       "      <td>112</td>\n",
       "      <td>108</td>\n",
       "      <td>110.000000</td>\n",
       "      <td>23</td>\n",
       "      <td>20</td>\n",
       "      <td>1</td>\n",
       "      <td>1</td>\n",
       "      <td>0</td>\n",
       "      <td>0.000000</td>\n",
       "      <td>119.550000</td>\n",
       "      <td>-29.000000</td>\n",
       "    </tr>\n",
       "  </tbody>\n",
       "</table>\n",
       "<p>3767284 rows × 12 columns</p>\n",
       "</div>"
      ]
     },
     "execution_count": 2,
     "metadata": {},
     "output_type": "execute_result"
    }
   ],
   "execution_count": 2
  },
  {
   "metadata": {
    "ExecuteTime": {
     "end_time": "2024-04-29T20:25:25.447004Z",
     "start_time": "2024-04-29T20:25:25.342856Z"
    }
   },
   "cell_type": "code",
   "source": [
    "# label:when the price increase 1% or decrease 1%, label=1,2, otherwise label=0\n",
    "lob_data['label'] = 0\n",
    "lob_data['label'][lob_data['price'].shift(-1) > lob_data['price']*1.01] = 1\n",
    "lob_data['label'][lob_data['price'].shift(-1) < lob_data['price']*0.99] = 2\n",
    "\n",
    "lob_data['label'].value_counts()"
   ],
   "id": "436119fa8a23ee7e",
   "outputs": [
    {
     "name": "stderr",
     "output_type": "stream",
     "text": [
      "C:\\Users\\yhb\\AppData\\Local\\Temp\\ipykernel_54188\\3765410660.py:3: SettingWithCopyWarning: \n",
      "A value is trying to be set on a copy of a slice from a DataFrame\n",
      "\n",
      "See the caveats in the documentation: https://pandas.pydata.org/pandas-docs/stable/user_guide/indexing.html#returning-a-view-versus-a-copy\n",
      "  lob_data['label'][lob_data['price'].shift(-1) > lob_data['price']*1.01] = 1\n",
      "C:\\Users\\yhb\\AppData\\Local\\Temp\\ipykernel_54188\\3765410660.py:4: SettingWithCopyWarning: \n",
      "A value is trying to be set on a copy of a slice from a DataFrame\n",
      "\n",
      "See the caveats in the documentation: https://pandas.pydata.org/pandas-docs/stable/user_guide/indexing.html#returning-a-view-versus-a-copy\n",
      "  lob_data['label'][lob_data['price'].shift(-1) < lob_data['price']*0.99] = 2\n"
     ]
    },
    {
     "data": {
      "text/plain": [
       "label\n",
       "0    1677073\n",
       "2    1187466\n",
       "1     902740\n",
       "Name: count, dtype: int64"
      ]
     },
     "execution_count": 23,
     "metadata": {},
     "output_type": "execute_result"
    }
   ],
   "execution_count": 23
  },
  {
   "metadata": {
    "ExecuteTime": {
     "end_time": "2024-04-29T20:09:11.789439Z",
     "start_time": "2024-04-29T20:09:11.553356Z"
    }
   },
   "cell_type": "code",
   "source": [
    "lob_data['Datetime']=pd.to_datetime(lob_data['Datetime'])\n",
    "lob_data['time_seconds']=lob_data['Datetime'].dt.hour*3600+lob_data['Datetime'].dt.minute*60+lob_data['Datetime'].dt.second"
   ],
   "id": "fde225b3eb099ae",
   "outputs": [],
   "execution_count": 7
  },
  {
   "metadata": {
    "ExecuteTime": {
     "end_time": "2024-04-29T20:25:33.739558Z",
     "start_time": "2024-04-29T20:25:33.321453Z"
    }
   },
   "cell_type": "code",
   "source": [
    "features = ['Max Bid Price', 'Max Bid Quantity', 'Min Ask Price', 'Min Ask Quantity', 'price', 'time_seconds','MA','Momentum','RSI']\n",
    "lob_data.dropna(inplace=True)\n",
    "\n",
    "split_index = int(0.9 * len(lob_data))\n",
    "train_data = lob_data[:split_index]\n",
    "test_data = lob_data[split_index:]\n",
    "\n",
    "\n",
    "X_train = train_data[features]\n",
    "y_train = train_data['label']\n",
    "\n",
    "X_test = test_data[features]\n",
    "y_test = test_data['label']"
   ],
   "id": "5f92e4197068fb1d",
   "outputs": [],
   "execution_count": 24
  },
  {
   "metadata": {
    "ExecuteTime": {
     "end_time": "2024-04-29T21:00:02.394001Z",
     "start_time": "2024-04-29T21:00:01.624141Z"
    }
   },
   "cell_type": "code",
   "source": [
    "# scale the data\n",
    "scaler = StandardScaler()\n",
    "X_train_scaled = scaler.fit_transform(X_train)\n",
    "X_test_scaled = scaler.transform(X_test)   "
   ],
   "id": "659bc99a48bef69a",
   "outputs": [],
   "execution_count": 35
  },
  {
   "metadata": {
    "ExecuteTime": {
     "end_time": "2024-04-29T20:58:29.516365Z",
     "start_time": "2024-04-29T20:49:05.546235Z"
    }
   },
   "cell_type": "code",
   "source": [
    "# 定义模型\n",
    "model = xgb.XGBClassifier(\n",
    "    objective='multi:softmax',  # 或 'multi:softprob' 如果你需要概率输出\n",
    "    num_class=3,                # 设置类别总数\n",
    "    # max_depth=20,                # 最大深度\n",
    "    n_estimators=200  ,          # 树的个数\n",
    "    n_jobs=-1\n",
    ")\n",
    "# 训练模型\n",
    "model.fit(X_train_scaled, y_train)\n",
    "\n",
    "# 预测\n",
    "y_test_pred = model.predict(X_test_scaled)\n",
    "y_train_pred = model.predict(X_train_scaled)\n",
    "\n",
    "# 评估\n",
    "print(classification_report(y_train, y_train_pred))\n",
    "print(classification_report(y_test, y_test_pred))"
   ],
   "id": "d273be9b3362e334",
   "outputs": [
    {
     "name": "stdout",
     "output_type": "stream",
     "text": [
      "              precision    recall  f1-score   support\n",
      "\n",
      "           0       0.71      0.83      0.77   1583918\n",
      "           1       0.55      0.31      0.40    786865\n",
      "           2       0.60      0.65      0.62   1019768\n",
      "\n",
      "    accuracy                           0.65   3390551\n",
      "   macro avg       0.62      0.60      0.59   3390551\n",
      "weighted avg       0.64      0.65      0.64   3390551\n",
      "\n",
      "              precision    recall  f1-score   support\n",
      "\n",
      "           0       0.56      0.34      0.42     93155\n",
      "           1       0.46      0.60      0.53    115875\n",
      "           2       0.64      0.65      0.65    167698\n",
      "\n",
      "    accuracy                           0.56    376728\n",
      "   macro avg       0.55      0.53      0.53    376728\n",
      "weighted avg       0.57      0.56      0.55    376728\n",
      "\n"
     ]
    }
   ],
   "execution_count": 32
  },
  {
   "metadata": {
    "ExecuteTime": {
     "end_time": "2024-04-29T20:59:30.747538Z",
     "start_time": "2024-04-29T20:59:30.734421Z"
    }
   },
   "cell_type": "code",
   "source": "len(y_test_pred)",
   "id": "bb4ce9a94f972e02",
   "outputs": [
    {
     "data": {
      "text/plain": [
       "376728"
      ]
     },
     "execution_count": 33,
     "metadata": {},
     "output_type": "execute_result"
    }
   ],
   "execution_count": 33
  }
 ],
 "metadata": {
  "kernelspec": {
   "display_name": "Python 3",
   "language": "python",
   "name": "python3"
  },
  "language_info": {
   "codemirror_mode": {
    "name": "ipython",
    "version": 2
   },
   "file_extension": ".py",
   "mimetype": "text/x-python",
   "name": "python",
   "nbconvert_exporter": "python",
   "pygments_lexer": "ipython2",
   "version": "2.7.6"
  }
 },
 "nbformat": 4,
 "nbformat_minor": 5
}

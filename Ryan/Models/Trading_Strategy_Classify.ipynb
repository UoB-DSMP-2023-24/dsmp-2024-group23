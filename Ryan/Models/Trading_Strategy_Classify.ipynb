{
 "cells": [
  {
   "cell_type": "markdown",
   "source": [
    "# Trading Strategy Based on Classification\n",
    "In this notebook, I will try to build a classification model to predict the price movement. First use the Price change to create a binary classification target. Then use the order book data to create features. Finally, use the features to train a classification model.\n",
    "\n",
    "## 1. Data Preprocessing\n",
    "We nee to create a new column as the target variable. It means whether the min ask price will go up or down in the next minute. "
   ],
   "metadata": {
    "collapsed": false
   },
   "id": "3add64322c5dfc8a"
  },
  {
   "cell_type": "code",
   "execution_count": 1,
   "id": "initial_id",
   "metadata": {
    "collapsed": true,
    "ExecuteTime": {
     "end_time": "2024-03-09T18:44:31.175837Z",
     "start_time": "2024-03-09T18:44:30.782956Z"
    }
   },
   "outputs": [],
   "source": [
    "import pandas as pd\n",
    "import numpy as np\n",
    "import matplotlib.pyplot as plt\n",
    "import seaborn as sns\n",
    "from statsmodels.tsa.stattools import adfuller, acf, pacf\n",
    "from statsmodels.graphics.tsaplots import plot_acf, plot_pacf\n",
    "from statsmodels.tsa.arima.model import ARIMA\n",
    "from xgboost import XGBRegressor\n",
    "from sklearn.model_selection import TimeSeriesSplit\n",
    "from sklearn.model_selection import GridSearchCV\n",
    "from sklearn.preprocessing import StandardScaler\n",
    "from sklearn.model_selection import train_test_split\n",
    "from sklearn.linear_model import LogisticRegression\n",
    "from sklearn.preprocessing import StandardScaler\n",
    "from sklearn.metrics import accuracy_score\n",
    "from sklearn.metrics import classification_report"
   ]
  },
  {
   "cell_type": "code",
   "outputs": [],
   "source": [
    "# lob_data= pd.read_csv('E:\\\\Bristol\\\\mini_project\\\\JPMorgan_Set01\\\\test_datasets\\\\lob_data_all_converted.csv')\n",
    "# lob_data"
   ],
   "metadata": {
    "collapsed": false,
    "ExecuteTime": {
     "end_time": "2024-03-09T19:19:04.465965Z",
     "start_time": "2024-03-09T19:19:04.461964Z"
    }
   },
   "id": "61a50fb09ed02424",
   "execution_count": 26
  },
  {
   "cell_type": "code",
   "outputs": [
    {
     "data": {
      "text/plain": "                 Datetime  Min Ask Price  Max Bid Price  Total Bid Quantity  \\\n0     2025-01-02 00:00:00     271.841538     260.186154             22881.0   \n1     2025-01-02 00:01:00     262.803138     258.206847             24821.0   \n2     2025-01-02 00:02:00     267.596615     262.929478             33966.0   \n3     2025-01-02 00:03:00     267.066274     262.751105             30396.0   \n4     2025-01-02 00:04:00     268.358289     263.077540             28408.0   \n...                   ...            ...            ...                 ...   \n62853 2025-07-01 08:13:00     151.230132      96.942053             18271.0   \n62854 2025-07-01 08:14:00     200.771852     107.148148             16849.0   \n62855 2025-07-01 08:15:00     174.894172     107.539877             29053.0   \n62856 2025-07-01 08:16:00     174.897866     108.716463             33890.0   \n62857 2025-07-01 08:17:00     177.532095     104.167230             17823.0   \n\n       Total Ask Quantity  Min Ask Quantity  Max Bid Quantity  \n0                 16799.0                 3                 5  \n1                 12978.0                 2                 3  \n2                 11786.0                 2                 3  \n3                 15613.0                 3                 2  \n4                 16458.0                 3                 4  \n...                   ...               ...               ...  \n62853             10399.0                 3                 4  \n62854             10211.0                 2                 3  \n62855              9511.0                 2                 4  \n62856              9471.0                 2                 6  \n62857              8545.0                 2                 3  \n\n[62858 rows x 7 columns]",
      "text/html": "<div>\n<style scoped>\n    .dataframe tbody tr th:only-of-type {\n        vertical-align: middle;\n    }\n\n    .dataframe tbody tr th {\n        vertical-align: top;\n    }\n\n    .dataframe thead th {\n        text-align: right;\n    }\n</style>\n<table border=\"1\" class=\"dataframe\">\n  <thead>\n    <tr style=\"text-align: right;\">\n      <th></th>\n      <th>Datetime</th>\n      <th>Min Ask Price</th>\n      <th>Max Bid Price</th>\n      <th>Total Bid Quantity</th>\n      <th>Total Ask Quantity</th>\n      <th>Min Ask Quantity</th>\n      <th>Max Bid Quantity</th>\n    </tr>\n  </thead>\n  <tbody>\n    <tr>\n      <th>0</th>\n      <td>2025-01-02 00:00:00</td>\n      <td>271.841538</td>\n      <td>260.186154</td>\n      <td>22881.0</td>\n      <td>16799.0</td>\n      <td>3</td>\n      <td>5</td>\n    </tr>\n    <tr>\n      <th>1</th>\n      <td>2025-01-02 00:01:00</td>\n      <td>262.803138</td>\n      <td>258.206847</td>\n      <td>24821.0</td>\n      <td>12978.0</td>\n      <td>2</td>\n      <td>3</td>\n    </tr>\n    <tr>\n      <th>2</th>\n      <td>2025-01-02 00:02:00</td>\n      <td>267.596615</td>\n      <td>262.929478</td>\n      <td>33966.0</td>\n      <td>11786.0</td>\n      <td>2</td>\n      <td>3</td>\n    </tr>\n    <tr>\n      <th>3</th>\n      <td>2025-01-02 00:03:00</td>\n      <td>267.066274</td>\n      <td>262.751105</td>\n      <td>30396.0</td>\n      <td>15613.0</td>\n      <td>3</td>\n      <td>2</td>\n    </tr>\n    <tr>\n      <th>4</th>\n      <td>2025-01-02 00:04:00</td>\n      <td>268.358289</td>\n      <td>263.077540</td>\n      <td>28408.0</td>\n      <td>16458.0</td>\n      <td>3</td>\n      <td>4</td>\n    </tr>\n    <tr>\n      <th>...</th>\n      <td>...</td>\n      <td>...</td>\n      <td>...</td>\n      <td>...</td>\n      <td>...</td>\n      <td>...</td>\n      <td>...</td>\n    </tr>\n    <tr>\n      <th>62853</th>\n      <td>2025-07-01 08:13:00</td>\n      <td>151.230132</td>\n      <td>96.942053</td>\n      <td>18271.0</td>\n      <td>10399.0</td>\n      <td>3</td>\n      <td>4</td>\n    </tr>\n    <tr>\n      <th>62854</th>\n      <td>2025-07-01 08:14:00</td>\n      <td>200.771852</td>\n      <td>107.148148</td>\n      <td>16849.0</td>\n      <td>10211.0</td>\n      <td>2</td>\n      <td>3</td>\n    </tr>\n    <tr>\n      <th>62855</th>\n      <td>2025-07-01 08:15:00</td>\n      <td>174.894172</td>\n      <td>107.539877</td>\n      <td>29053.0</td>\n      <td>9511.0</td>\n      <td>2</td>\n      <td>4</td>\n    </tr>\n    <tr>\n      <th>62856</th>\n      <td>2025-07-01 08:16:00</td>\n      <td>174.897866</td>\n      <td>108.716463</td>\n      <td>33890.0</td>\n      <td>9471.0</td>\n      <td>2</td>\n      <td>6</td>\n    </tr>\n    <tr>\n      <th>62857</th>\n      <td>2025-07-01 08:17:00</td>\n      <td>177.532095</td>\n      <td>104.167230</td>\n      <td>17823.0</td>\n      <td>8545.0</td>\n      <td>2</td>\n      <td>3</td>\n    </tr>\n  </tbody>\n</table>\n<p>62858 rows × 7 columns</p>\n</div>"
     },
     "execution_count": 101,
     "metadata": {},
     "output_type": "execute_result"
    }
   ],
   "source": [
    "lob_data=pd.read_csv('../datasets/resampled_lob_minALL.csv')\n",
    "lob_data['Datetime'] = pd.to_datetime(lob_data['Datetime'])\n",
    "# lob_data.set_index('Datetime', inplace=True)\n",
    "lob_data"
   ],
   "metadata": {
    "collapsed": false,
    "ExecuteTime": {
     "end_time": "2024-03-10T12:05:18.276048Z",
     "start_time": "2024-03-10T12:05:18.138157Z"
    }
   },
   "id": "6a69f2df444fc1d5",
   "execution_count": 101
  },
  {
   "cell_type": "code",
   "outputs": [],
   "source": [
    "# lob_data= pd.read_csv('../datasets/resampled_lob_min.csv')\n",
    "# lob_data['Datetime'] = pd.to_datetime(lob_data['Datetime'])\n",
    "# \n",
    "# lob_data"
   ],
   "metadata": {
    "collapsed": false,
    "ExecuteTime": {
     "end_time": "2024-03-10T11:31:30.950735Z",
     "start_time": "2024-03-10T11:31:30.944725Z"
    }
   },
   "id": "6a9ecd58bf15b475",
   "execution_count": 67
  },
  {
   "cell_type": "markdown",
   "source": [
    "### Labels\n",
    "#### 1. Simple Price Change\n",
    "Price goes up: 1\n",
    "Price goes down: 0\n",
    "Only consider the next minute's price change."
   ],
   "metadata": {
    "collapsed": false
   },
   "id": "5770f4a1c953b3f3"
  },
  {
   "cell_type": "code",
   "outputs": [
    {
     "data": {
      "text/plain": "                 Datetime  Min Ask Price  Max Bid Price  Total Bid Quantity  \\\n0     2025-01-02 00:00:00     271.841538     260.186154             22881.0   \n1     2025-01-02 00:01:00     262.803138     258.206847             24821.0   \n2     2025-01-02 00:02:00     267.596615     262.929478             33966.0   \n3     2025-01-02 00:03:00     267.066274     262.751105             30396.0   \n4     2025-01-02 00:04:00     268.358289     263.077540             28408.0   \n...                   ...            ...            ...                 ...   \n62853 2025-07-01 08:13:00     151.230132      96.942053             18271.0   \n62854 2025-07-01 08:14:00     200.771852     107.148148             16849.0   \n62855 2025-07-01 08:15:00     174.894172     107.539877             29053.0   \n62856 2025-07-01 08:16:00     174.897866     108.716463             33890.0   \n62857 2025-07-01 08:17:00     177.532095     104.167230             17823.0   \n\n       Total Ask Quantity  Min Ask Quantity  Max Bid Quantity  ask_label  \\\n0                 16799.0                 3                 5          0   \n1                 12978.0                 2                 3          1   \n2                 11786.0                 2                 3          0   \n3                 15613.0                 3                 2          1   \n4                 16458.0                 3                 4          0   \n...                   ...               ...               ...        ...   \n62853             10399.0                 3                 4          1   \n62854             10211.0                 2                 3          0   \n62855              9511.0                 2                 4          1   \n62856              9471.0                 2                 6          1   \n62857              8545.0                 2                 3          0   \n\n       bid_label  \n0              0  \n1              1  \n2              0  \n3              1  \n4              0  \n...          ...  \n62853          1  \n62854          1  \n62855          1  \n62856          0  \n62857          0  \n\n[62858 rows x 9 columns]",
      "text/html": "<div>\n<style scoped>\n    .dataframe tbody tr th:only-of-type {\n        vertical-align: middle;\n    }\n\n    .dataframe tbody tr th {\n        vertical-align: top;\n    }\n\n    .dataframe thead th {\n        text-align: right;\n    }\n</style>\n<table border=\"1\" class=\"dataframe\">\n  <thead>\n    <tr style=\"text-align: right;\">\n      <th></th>\n      <th>Datetime</th>\n      <th>Min Ask Price</th>\n      <th>Max Bid Price</th>\n      <th>Total Bid Quantity</th>\n      <th>Total Ask Quantity</th>\n      <th>Min Ask Quantity</th>\n      <th>Max Bid Quantity</th>\n      <th>ask_label</th>\n      <th>bid_label</th>\n    </tr>\n  </thead>\n  <tbody>\n    <tr>\n      <th>0</th>\n      <td>2025-01-02 00:00:00</td>\n      <td>271.841538</td>\n      <td>260.186154</td>\n      <td>22881.0</td>\n      <td>16799.0</td>\n      <td>3</td>\n      <td>5</td>\n      <td>0</td>\n      <td>0</td>\n    </tr>\n    <tr>\n      <th>1</th>\n      <td>2025-01-02 00:01:00</td>\n      <td>262.803138</td>\n      <td>258.206847</td>\n      <td>24821.0</td>\n      <td>12978.0</td>\n      <td>2</td>\n      <td>3</td>\n      <td>1</td>\n      <td>1</td>\n    </tr>\n    <tr>\n      <th>2</th>\n      <td>2025-01-02 00:02:00</td>\n      <td>267.596615</td>\n      <td>262.929478</td>\n      <td>33966.0</td>\n      <td>11786.0</td>\n      <td>2</td>\n      <td>3</td>\n      <td>0</td>\n      <td>0</td>\n    </tr>\n    <tr>\n      <th>3</th>\n      <td>2025-01-02 00:03:00</td>\n      <td>267.066274</td>\n      <td>262.751105</td>\n      <td>30396.0</td>\n      <td>15613.0</td>\n      <td>3</td>\n      <td>2</td>\n      <td>1</td>\n      <td>1</td>\n    </tr>\n    <tr>\n      <th>4</th>\n      <td>2025-01-02 00:04:00</td>\n      <td>268.358289</td>\n      <td>263.077540</td>\n      <td>28408.0</td>\n      <td>16458.0</td>\n      <td>3</td>\n      <td>4</td>\n      <td>0</td>\n      <td>0</td>\n    </tr>\n    <tr>\n      <th>...</th>\n      <td>...</td>\n      <td>...</td>\n      <td>...</td>\n      <td>...</td>\n      <td>...</td>\n      <td>...</td>\n      <td>...</td>\n      <td>...</td>\n      <td>...</td>\n    </tr>\n    <tr>\n      <th>62853</th>\n      <td>2025-07-01 08:13:00</td>\n      <td>151.230132</td>\n      <td>96.942053</td>\n      <td>18271.0</td>\n      <td>10399.0</td>\n      <td>3</td>\n      <td>4</td>\n      <td>1</td>\n      <td>1</td>\n    </tr>\n    <tr>\n      <th>62854</th>\n      <td>2025-07-01 08:14:00</td>\n      <td>200.771852</td>\n      <td>107.148148</td>\n      <td>16849.0</td>\n      <td>10211.0</td>\n      <td>2</td>\n      <td>3</td>\n      <td>0</td>\n      <td>1</td>\n    </tr>\n    <tr>\n      <th>62855</th>\n      <td>2025-07-01 08:15:00</td>\n      <td>174.894172</td>\n      <td>107.539877</td>\n      <td>29053.0</td>\n      <td>9511.0</td>\n      <td>2</td>\n      <td>4</td>\n      <td>1</td>\n      <td>1</td>\n    </tr>\n    <tr>\n      <th>62856</th>\n      <td>2025-07-01 08:16:00</td>\n      <td>174.897866</td>\n      <td>108.716463</td>\n      <td>33890.0</td>\n      <td>9471.0</td>\n      <td>2</td>\n      <td>6</td>\n      <td>1</td>\n      <td>0</td>\n    </tr>\n    <tr>\n      <th>62857</th>\n      <td>2025-07-01 08:17:00</td>\n      <td>177.532095</td>\n      <td>104.167230</td>\n      <td>17823.0</td>\n      <td>8545.0</td>\n      <td>2</td>\n      <td>3</td>\n      <td>0</td>\n      <td>0</td>\n    </tr>\n  </tbody>\n</table>\n<p>62858 rows × 9 columns</p>\n</div>"
     },
     "execution_count": 102,
     "metadata": {},
     "output_type": "execute_result"
    }
   ],
   "source": [
    "# Create the target variable,use the min ask price to calculate the price change\n",
    "# when the next minute's min ask price is higher than the current minute's min ask price, the label is 1, otherwise, the label is 0.\n",
    "\n",
    "# ask label\n",
    "lob_data['ask_label'] = np.where(lob_data['Min Ask Price'].shift(-1) > lob_data['Min Ask Price'], 1, 0)\n",
    "# bid label\n",
    "lob_data['bid_label'] = np.where(lob_data['Max Bid Price'].shift(-1) > lob_data['Max Bid Price'], 1, 0)\n",
    "lob_data"
   ],
   "metadata": {
    "collapsed": false,
    "ExecuteTime": {
     "end_time": "2024-03-10T12:05:20.391703Z",
     "start_time": "2024-03-10T12:05:20.373695Z"
    }
   },
   "id": "acfcb3ed37c65778",
   "execution_count": 102
  },
  {
   "cell_type": "markdown",
   "source": [
    "#### 2. Price Change Percentage\n"
   ],
   "metadata": {
    "collapsed": false
   },
   "id": "252992320918501e"
  },
  {
   "cell_type": "code",
   "outputs": [
    {
     "ename": "NameError",
     "evalue": "name 'data_clean' is not defined",
     "output_type": "error",
     "traceback": [
      "\u001B[1;31m---------------------------------------------------------------------------\u001B[0m",
      "\u001B[1;31mNameError\u001B[0m                                 Traceback (most recent call last)",
      "Cell \u001B[1;32mIn[32], line 28\u001B[0m\n\u001B[0;32m     25\u001B[0m     \u001B[38;5;28;01mreturn\u001B[39;00m data\u001B[38;5;241m.\u001B[39mdropna()\n\u001B[0;32m     27\u001B[0m \u001B[38;5;66;03m# 应用函数生成标签\u001B[39;00m\n\u001B[1;32m---> 28\u001B[0m data_labeled \u001B[38;5;241m=\u001B[39m generate_multiclass_labels(\u001B[43mdata_clean\u001B[49m)\n\u001B[0;32m     30\u001B[0m \u001B[38;5;66;03m# 查看标签分布情况\u001B[39;00m\n\u001B[0;32m     31\u001B[0m label_distribution \u001B[38;5;241m=\u001B[39m data_labeled[\u001B[38;5;124m'\u001B[39m\u001B[38;5;124mLabel\u001B[39m\u001B[38;5;124m'\u001B[39m]\u001B[38;5;241m.\u001B[39mvalue_counts()\n",
      "\u001B[1;31mNameError\u001B[0m: name 'data_clean' is not defined"
     ]
    }
   ],
   "source": [
    "# # 定义一个函数来生成多分类标签\n",
    "# def generate_multiclass_labels(data, future_window=5, small_change_thresh=0.01):\n",
    "#     \"\"\"\n",
    "#     生成多分类标签：\n",
    "#     - 大幅上升: 2\n",
    "#     - 小幅上升: 1\n",
    "#     - 持平: 0\n",
    "#     - 小幅下降: -1\n",
    "#     - 大幅下降: -2\n",
    "#     \"\"\"\n",
    "#     # 计算未来一段时间的平均价格\n",
    "#     future_prices = data['Avg Price'].rolling(window=future_window, min_periods=1).mean().shift(-future_window)\n",
    "#     \n",
    "#     # 计算价格变化百分比\n",
    "#     price_change_percentage = (future_prices - data['Avg Price']) / data['Avg Price']\n",
    "#     \n",
    "#     # 生成多分类标签\n",
    "#     data['Label'] = 0  # 默认持平\n",
    "#     data.loc[price_change_percentage > small_change_thresh, 'Label'] = 2  # 大幅上升\n",
    "#     data.loc[(price_change_percentage > 0) & (price_change_percentage <= small_change_thresh), 'Label'] = 1  # 小幅上升\n",
    "#     data.loc[(price_change_percentage < 0) & (price_change_percentage >= -small_change_thresh), 'Label'] = -1  # 小幅下降\n",
    "#     data.loc[price_change_percentage < -small_change_thresh, 'Label'] = -2  # 大幅下降\n",
    "#     \n",
    "#     # 移除因为滚动计算而产生的NaN值\n",
    "#     return data.dropna()\n",
    "# \n",
    "# # 应用函数生成标签\n",
    "# data_labeled = generate_multiclass_labels(data_clean)\n",
    "# \n",
    "# # 查看标签分布情况\n",
    "# label_distribution = data_labeled['Label'].value_counts()\n",
    "# \n",
    "# label_distribution\n"
   ],
   "metadata": {
    "collapsed": false,
    "ExecuteTime": {
     "end_time": "2024-03-09T19:20:38.216099Z",
     "start_time": "2024-03-09T19:20:38.179089Z"
    }
   },
   "id": "7175204adb136f51",
   "execution_count": 32
  },
  {
   "cell_type": "markdown",
   "source": [
    "## 2. Feature Engineering\n",
    "### 2.1 OFI: Order Flow Imbalance\n",
    "使用复杂的OFI计算方式（如您的代码所示）相比简单差值有以下优点：\n",
    "1. **价格敏感性**：考虑了价格的变动，可以更敏感地捕捉市场中的流动性变化。\n",
    "2. **方向性信息**：不仅仅是数量的差异，还包括了价格变动的方向性，这可以揭示市场的买卖力量的动态。\n",
    "3. **时间序列分析**：这种方法产生的是时间序列数据，适合进行进一步的时间序列分析，比如用来预测未来的市场走势。\n",
    "\n",
    "OFI的意义：\n",
    "\n",
    "1. **价格动力**：如果在一个时间点上OFI为正值，这意味着在那个特定时间段内买单的活动（价格上升或数量增加）超过了卖单的活动，这可能表明买方较为强势，可能会对价格产生上行压力。相反，如果OFI为负值，这可能表明卖方较为强势，可能会对价格产生下行压力。\n",
    "\n",
    "2. **流动性指标**：OFI还可以反映市场的流动性状态。一个高的正OFI值可能表明流动性被迅速吸收，可能导致价格波动加剧。一个高的负OFI值可能表明流动性充足，但也可能伴随着价格的下跌。\n",
    "\n",
    "3. **交易决策**：交易员和算法交易策略可以使用OFI来判断是否是进入或退出市场的好时机。比如，在一个OFI持续为正的时段进入市场，可能是基于买方强势的假设。\n",
    "\n",
    "\n",
    "\n",
    "reference: [Order Flow Imbalance](https://github.com/nicolezattarin/LOB-feature-analysis)\n",
    "\n",
    "<img src=\"../imgs/img.png\">\n",
    "\n",
    "where b_m(t) and a_m(t) are respectively bid and ask prices at level m at time t and r_m(t) and q_m(t) are the corresponding volumes.\n",
    "The OFI is calculated as follows:\n",
    "$$\\( e^m(t_n) = \\Delta W^m(t_n) - \\Delta V^m(t_n) \\)$$\n"
   ],
   "metadata": {
    "collapsed": false
   },
   "id": "b8925519d3984fe5"
  },
  {
   "cell_type": "code",
   "outputs": [
    {
     "data": {
      "text/plain": "                 Datetime  Min Ask Price  Max Bid Price  Total Bid Quantity  \\\n1     2025-01-02 00:01:00     262.803138     258.206847             24821.0   \n2     2025-01-02 00:02:00     267.596615     262.929478             33966.0   \n3     2025-01-02 00:03:00     267.066274     262.751105             30396.0   \n4     2025-01-02 00:04:00     268.358289     263.077540             28408.0   \n5     2025-01-02 00:05:00     265.378682     260.562412             28895.0   \n...                   ...            ...            ...                 ...   \n62853 2025-07-01 08:13:00     151.230132      96.942053             18271.0   \n62854 2025-07-01 08:14:00     200.771852     107.148148             16849.0   \n62855 2025-07-01 08:15:00     174.894172     107.539877             29053.0   \n62856 2025-07-01 08:16:00     174.897866     108.716463             33890.0   \n62857 2025-07-01 08:17:00     177.532095     104.167230             17823.0   \n\n       Total Ask Quantity  Min Ask Quantity  Max Bid Quantity  ofi  ask_label  \\\n1                 12978.0                 2                 3   -1          1   \n2                 11786.0                 2                 3    1          0   \n3                 15613.0                 3                 2    1          1   \n4                 16458.0                 3                 4    1          0   \n5                 12759.0                 2                 4   -2          1   \n...                   ...               ...               ...  ...        ...   \n62853             10399.0                 3                 4   -1          1   \n62854             10211.0                 2                 3    1          0   \n62855              9511.0                 2                 4    6          1   \n62856              9471.0                 2                 6    4          1   \n62857              8545.0                 2                 3   -5          0   \n\n       bid_label  \n1              1  \n2              0  \n3              1  \n4              0  \n5              0  \n...          ...  \n62853          1  \n62854          1  \n62855          1  \n62856          0  \n62857          0  \n\n[62857 rows x 10 columns]",
      "text/html": "<div>\n<style scoped>\n    .dataframe tbody tr th:only-of-type {\n        vertical-align: middle;\n    }\n\n    .dataframe tbody tr th {\n        vertical-align: top;\n    }\n\n    .dataframe thead th {\n        text-align: right;\n    }\n</style>\n<table border=\"1\" class=\"dataframe\">\n  <thead>\n    <tr style=\"text-align: right;\">\n      <th></th>\n      <th>Datetime</th>\n      <th>Min Ask Price</th>\n      <th>Max Bid Price</th>\n      <th>Total Bid Quantity</th>\n      <th>Total Ask Quantity</th>\n      <th>Min Ask Quantity</th>\n      <th>Max Bid Quantity</th>\n      <th>ofi</th>\n      <th>ask_label</th>\n      <th>bid_label</th>\n    </tr>\n  </thead>\n  <tbody>\n    <tr>\n      <th>1</th>\n      <td>2025-01-02 00:01:00</td>\n      <td>262.803138</td>\n      <td>258.206847</td>\n      <td>24821.0</td>\n      <td>12978.0</td>\n      <td>2</td>\n      <td>3</td>\n      <td>-1</td>\n      <td>1</td>\n      <td>1</td>\n    </tr>\n    <tr>\n      <th>2</th>\n      <td>2025-01-02 00:02:00</td>\n      <td>267.596615</td>\n      <td>262.929478</td>\n      <td>33966.0</td>\n      <td>11786.0</td>\n      <td>2</td>\n      <td>3</td>\n      <td>1</td>\n      <td>0</td>\n      <td>0</td>\n    </tr>\n    <tr>\n      <th>3</th>\n      <td>2025-01-02 00:03:00</td>\n      <td>267.066274</td>\n      <td>262.751105</td>\n      <td>30396.0</td>\n      <td>15613.0</td>\n      <td>3</td>\n      <td>2</td>\n      <td>1</td>\n      <td>1</td>\n      <td>1</td>\n    </tr>\n    <tr>\n      <th>4</th>\n      <td>2025-01-02 00:04:00</td>\n      <td>268.358289</td>\n      <td>263.077540</td>\n      <td>28408.0</td>\n      <td>16458.0</td>\n      <td>3</td>\n      <td>4</td>\n      <td>1</td>\n      <td>0</td>\n      <td>0</td>\n    </tr>\n    <tr>\n      <th>5</th>\n      <td>2025-01-02 00:05:00</td>\n      <td>265.378682</td>\n      <td>260.562412</td>\n      <td>28895.0</td>\n      <td>12759.0</td>\n      <td>2</td>\n      <td>4</td>\n      <td>-2</td>\n      <td>1</td>\n      <td>0</td>\n    </tr>\n    <tr>\n      <th>...</th>\n      <td>...</td>\n      <td>...</td>\n      <td>...</td>\n      <td>...</td>\n      <td>...</td>\n      <td>...</td>\n      <td>...</td>\n      <td>...</td>\n      <td>...</td>\n      <td>...</td>\n    </tr>\n    <tr>\n      <th>62853</th>\n      <td>2025-07-01 08:13:00</td>\n      <td>151.230132</td>\n      <td>96.942053</td>\n      <td>18271.0</td>\n      <td>10399.0</td>\n      <td>3</td>\n      <td>4</td>\n      <td>-1</td>\n      <td>1</td>\n      <td>1</td>\n    </tr>\n    <tr>\n      <th>62854</th>\n      <td>2025-07-01 08:14:00</td>\n      <td>200.771852</td>\n      <td>107.148148</td>\n      <td>16849.0</td>\n      <td>10211.0</td>\n      <td>2</td>\n      <td>3</td>\n      <td>1</td>\n      <td>0</td>\n      <td>1</td>\n    </tr>\n    <tr>\n      <th>62855</th>\n      <td>2025-07-01 08:15:00</td>\n      <td>174.894172</td>\n      <td>107.539877</td>\n      <td>29053.0</td>\n      <td>9511.0</td>\n      <td>2</td>\n      <td>4</td>\n      <td>6</td>\n      <td>1</td>\n      <td>1</td>\n    </tr>\n    <tr>\n      <th>62856</th>\n      <td>2025-07-01 08:16:00</td>\n      <td>174.897866</td>\n      <td>108.716463</td>\n      <td>33890.0</td>\n      <td>9471.0</td>\n      <td>2</td>\n      <td>6</td>\n      <td>4</td>\n      <td>1</td>\n      <td>0</td>\n    </tr>\n    <tr>\n      <th>62857</th>\n      <td>2025-07-01 08:17:00</td>\n      <td>177.532095</td>\n      <td>104.167230</td>\n      <td>17823.0</td>\n      <td>8545.0</td>\n      <td>2</td>\n      <td>3</td>\n      <td>-5</td>\n      <td>0</td>\n      <td>0</td>\n    </tr>\n  </tbody>\n</table>\n<p>62857 rows × 10 columns</p>\n</div>"
     },
     "execution_count": 103,
     "metadata": {},
     "output_type": "execute_result"
    }
   ],
   "source": [
    "def calculate_ofi(df):\n",
    "    df['delta_bid'] = df['Max Bid Price'].diff().fillna(0)\n",
    "    df['delta_ask'] = df['Min Ask Price'].diff().fillna(0)\n",
    "    \n",
    "        # 计算 ΔW^m(t_n)\n",
    "    df['delta_w'] = df.apply(\n",
    "        lambda row: row['Max Bid Quantity'] if row['delta_bid'] > 0 else\n",
    "                   (-row['Max Bid Quantity'] if row['delta_bid'] < 0 else\n",
    "                    row['Max Bid Quantity'] - df.loc[df.index[df.index.get_loc(row.name)-1], 'Max Bid Quantity']\n",
    "                    if row.name > 0 else 0),\n",
    "        axis=1)\n",
    "    \n",
    "    # 计算 ΔV^m(t_n)\n",
    "    df['delta_v'] = df.apply(\n",
    "        lambda row: -row['Min Ask Quantity'] if row['delta_ask'] > 0 else\n",
    "                   (row['Min Ask Quantity'] if row['delta_ask'] < 0 else\n",
    "                    row['Min Ask Quantity'] - df.loc[df.index[df.index.get_loc(row.name)-1], 'Min Ask Quantity']\n",
    "                    if row.name > 0 else 0),\n",
    "        axis=1)\n",
    "    \n",
    "    # 计算 OFI\n",
    "    df['ofi'] = df['delta_w'] + df['delta_v']\n",
    "    \n",
    "    return df['ofi']\n",
    "\n",
    "calculate_ofi(lob_data)\n",
    "lob_data=lob_data[['Datetime','Min Ask Price','Max Bid Price','Total Bid Quantity','Total Ask Quantity','Min Ask Quantity','Max Bid Quantity','ofi','ask_label','bid_label']]\n",
    "# drop the first row (ofi is 0)\n",
    "lob_data = lob_data.iloc[1:]\n",
    "lob_data"
   ],
   "metadata": {
    "collapsed": false,
    "ExecuteTime": {
     "end_time": "2024-03-10T12:05:25.315906Z",
     "start_time": "2024-03-10T12:05:24.551567Z"
    }
   },
   "id": "54bd17a734063c",
   "execution_count": 103
  },
  {
   "cell_type": "markdown",
   "source": [
    "\n",
    "### 2.2 Time Features\n",
    "We can get some features from Datetime, such as hour, day of week, etc."
   ],
   "metadata": {
    "collapsed": false
   },
   "id": "340f3544b518e91"
  },
  {
   "cell_type": "code",
   "outputs": [],
   "source": [
    "lob_data['Datetime'] = pd.to_datetime(lob_data['Datetime'])\n",
    "lob_data['Hour'] = lob_data['Datetime'].dt.hour\n",
    "lob_data['Dayofweek'] = lob_data['Datetime'].dt.dayofweek\n",
    "lob_data['Day'] = lob_data['Datetime'].dt.day\n",
    "lob_data['Month'] = lob_data['Datetime'].dt.month"
   ],
   "metadata": {
    "collapsed": false,
    "ExecuteTime": {
     "end_time": "2024-03-10T12:05:27.440975Z",
     "start_time": "2024-03-10T12:05:27.415975Z"
    }
   },
   "id": "d8db625a611288a",
   "execution_count": 104
  },
  {
   "cell_type": "markdown",
   "source": [
    "### 2.3 RSI: Relative Strength Index\n",
    "RSI is a momentum oscillator that measures the speed and change of price movements. The RSI oscillates between zero and 100. Traditionally the RSI is considered overbought when above 70 and oversold when below 30."
   ],
   "metadata": {
    "collapsed": false
   },
   "id": "8d94f3e690f040d0"
  },
  {
   "cell_type": "code",
   "outputs": [],
   "source": [
    "def calculate_rsi(data, window=14):\n",
    "    \"\"\"\n",
    "    计算给定数据的相对强弱指数（RSI）。\n",
    "    \n",
    "    :param data: 包含价格数据的Pandas Series。\n",
    "    :param window: 用于计算RSI的窗口大小，默认为14。\n",
    "    :return: 包含RSI值的Pandas Series。\n",
    "    \"\"\"\n",
    "    delta = data.diff()\n",
    "    gain = (delta.where(delta > 0, 0)).rolling(window=window).mean()\n",
    "    loss = (-delta.where(delta < 0, 0)).rolling(window=window).mean()\n",
    "\n",
    "    rs = gain / loss\n",
    "    rsi = 100 - (100 / (1 + rs))\n",
    "    return rsi\n",
    "\n",
    "# 计算Min Ask Price的RSI\n",
    "lob_data['RSI'] = calculate_rsi(lob_data['Min Ask Price'], window=14)"
   ],
   "metadata": {
    "collapsed": false,
    "ExecuteTime": {
     "end_time": "2024-03-10T12:05:29.165515Z",
     "start_time": "2024-03-10T12:05:29.151513Z"
    }
   },
   "id": "14c532c41b87b456",
   "execution_count": 105
  },
  {
   "cell_type": "markdown",
   "source": [
    "### 2.4 Volatility\n",
    "1. 动态调整交易量\n",
    "根据波动率的大小来调整每次交易的股票数量或资金比例。波动率越高，市场风险越大，可以减少交易量以降低风险；反之，波动率低时可以增加交易量。\n",
    "\n",
    "2. 止损和止盈点的调整\n",
    "使用波动率来动态调整止损点和止盈点。在波动性较大的市场，将止损点设置得更远一些，以避免被市场的正常波动所淘汰；在波动性较小的市场，可以相应地将止损点设置得更近一些。\n",
    "\n",
    "3. 信号强度和波动率的结合\n",
    "将波动率作为衡量交易信号强度的一个因素。例如，如果波动率较低而买入信号很强，可能表明一个稳健的上涨趋势；反之，高波动性环境下的交易信号可能需要更谨慎地处理。\n",
    "\n",
    "4. 滚动窗口大小\n",
    "选择合适的滚动窗口大小很重要，因为它直接影响波动率的计算。太小的窗口可能无法充分捕捉到市场的波动性，而太大的窗口则可能使波动率反应不够敏感。\n",
    "\n",
    "Use the `risk_tolerance` to adjust the trade quantity based on the volatility. If the `risk_tolerance` is high, we have more risk tolerance, so we can trade more.\n",
    "Use the `scaler_factor` to adjust the volatility. The volatility is calculated by the log return, so we need to scale it to get a reasonable trade quantity.\n",
    "\n",
    "使用对数收益率计算波动率是金融数据分析中的一个常见且合理的做法，尤其是在股票、外汇和其他金融市场的价格波动性分析中。这种方法有几个优点：\n",
    "\n",
    "1. **对称性**：对数收益率使得价格上涨和下跌具有相对对称的性质，这在分析和比较波动性时很有用。\n",
    "2. **时间加总性**：多个时段的对数收益率可以简单相加，以得到这些时段总体的收益率。这对于计算长期收益率非常方便。\n",
    "3. **处理大范围价格变化**：对数转换可以有效处理大范围的价格变动，使得分析更加稳健。"
   ],
   "metadata": {
    "collapsed": false
   },
   "id": "73bf6223f9c40b1b"
  },
  {
   "cell_type": "code",
   "outputs": [],
   "source": [
    "# # 设置一个时间窗口\n",
    "rolling_window = 5  # 例如，我们使用过去5个时间点的数据来计算波动率\n",
    "\n",
    "# 计算对数收益率\n",
    "lob_data['Log Return Max Bid'] = np.log(lob_data['Max Bid Price'] / lob_data['Max Bid Price'].shift(1))\n",
    "lob_data['Log Return Min Ask'] = np.log(lob_data['Min Ask Price'] / lob_data['Min Ask Price'].shift(1))\n",
    "\n",
    "# 计算滚动标准差作为波动率的度量\n",
    "lob_data['Volatility Max Bid'] = lob_data['Log Return Max Bid'].rolling(window=rolling_window).std()\n",
    "lob_data['Volatility Min Ask'] = lob_data['Log Return Min Ask'].rolling(window=rolling_window).std()\n",
    "\n",
    "# 由于滚动计算会产生缺失值，我们通常会删除这些值\n",
    "lob_data.dropna(inplace=True)"
   ],
   "metadata": {
    "collapsed": false,
    "ExecuteTime": {
     "end_time": "2024-03-10T17:59:45.046635Z",
     "start_time": "2024-03-10T17:59:45.019346Z"
    }
   },
   "id": "7a09029c65cb3b30",
   "execution_count": 202
  },
  {
   "cell_type": "code",
   "outputs": [],
   "source": [
    "# Trading volume\n",
    "def adjust_trade_quantity(volatility, max_tradeable_quantity, base_quantity=1, risk_tolerance=0.5, scaler_fator=10):\n",
    "    \"\"\"\n",
    "    根据波动率和最大可交易量调整交易量。\n",
    "    volatility: 当前波动率\n",
    "    max_tradeable_quantity: 该时间点的最大可交易量（对于买入操作，是Min Ask Quantity；对于卖出操作，是Max Bid Quantity）\n",
    "    base_quantity: 基础交易量\n",
    "    risk_tolerance: 风险容忍度，取值范围为[0, 1]，数值越大表示越愿意承担风险，交易量越大\n",
    "    \"\"\"\n",
    "    # 基于波动率调整的交易量\n",
    "    adjusted_quantity = (base_quantity*risk_tolerance) / (volatility*scaler_fator)\n",
    "    adjusted_quantity = max(1, int(adjusted_quantity))  # 确保至少交易1单位，并且是整数\n",
    "\n",
    "    # 确保交易量不超过最大可交易量 make sure the trade quantity is no more than the max tradeable quantity\n",
    "    final_trade_quantity = min(adjusted_quantity, max_tradeable_quantity)\n",
    "\n",
    "    return final_trade_quantity"
   ],
   "metadata": {
    "collapsed": false,
    "ExecuteTime": {
     "end_time": "2024-03-10T17:58:22.351787Z",
     "start_time": "2024-03-10T17:58:22.333787Z"
    }
   },
   "id": "161ca1cb23a89d11",
   "execution_count": 198
  },
  {
   "cell_type": "markdown",
   "source": [
    "## 3. Classification Model\n",
    "### 3.1 Logistic Classifier\n",
    "I tested the logistic regression model and I found that if I don't use the ofi feature, the accuracy is only 0.55. But if I use the ofi feature, the accuracy can reach 0.66. So I think the ofi feature is very important for the classification model."
   ],
   "metadata": {
    "collapsed": false
   },
   "id": "e80add52076aeeac"
  },
  {
   "cell_type": "code",
   "outputs": [
    {
     "name": "stdout",
     "output_type": "stream",
     "text": [
      "Train classification report: \n",
      "               precision    recall  f1-score   support\n",
      "\n",
      "           0       0.69      0.67      0.68     25717\n",
      "           1       0.66      0.68      0.67     24543\n",
      "\n",
      "    accuracy                           0.67     50260\n",
      "   macro avg       0.67      0.67      0.67     50260\n",
      "weighted avg       0.67      0.67      0.67     50260\n",
      "\n",
      "Test classification report: \n",
      "               precision    recall  f1-score   support\n",
      "\n",
      "           0       0.81      0.59      0.68      6306\n",
      "           1       0.67      0.86      0.76      6260\n",
      "\n",
      "    accuracy                           0.72     12566\n",
      "   macro avg       0.74      0.72      0.72     12566\n",
      "weighted avg       0.74      0.72      0.72     12566\n"
     ]
    }
   ],
   "source": [
    "# predict the ask label\n",
    "# Split the data into train and test\n",
    "lob_data = lob_data.dropna()\n",
    "X = lob_data[['Max Bid Price','Min Ask Price','Total Bid Quantity','Total Ask Quantity','Min Ask Quantity','Max Bid Quantity','ofi','RSI','Hour','Dayofweek','Day','Month']]\n",
    "y = lob_data['ask_label']\n",
    "# use the last 20% data as test set\n",
    "split_index = int(len(X)*0.8)\n",
    "X_train, X_test = X[:split_index], X[split_index:] # [50285, 8],[12572, 8]\n",
    "y_train, y_test = y[:split_index], y[split_index:]\n",
    "\n",
    "# Standardize the features\n",
    "scaler = StandardScaler()\n",
    "X_train_scaled = scaler.fit_transform(X_train)\n",
    "X_test_scaled = scaler.transform(X_test)\n",
    "\n",
    "# Train the model\n",
    "model_buy = LogisticRegression()\n",
    "model_buy.fit(X_train_scaled, y_train)\n",
    "\n",
    "# Predict the test set\n",
    "y_pred = model_buy.predict(X_test_scaled)\n",
    "\n",
    "print('Train classification report: \\n',classification_report(y_train, model_buy.predict(X_train_scaled)))\n",
    "print('Test classification report: \\n',classification_report(y_test, y_pred))"
   ],
   "metadata": {
    "collapsed": false,
    "ExecuteTime": {
     "end_time": "2024-03-10T18:00:03.907Z",
     "start_time": "2024-03-10T18:00:03.787986Z"
    }
   },
   "id": "eb545ea7a6bf2d26",
   "execution_count": 204
  },
  {
   "cell_type": "code",
   "outputs": [
    {
     "name": "stdout",
     "output_type": "stream",
     "text": [
      "Train classification report: \n",
      "               precision    recall  f1-score   support\n",
      "\n",
      "           0       0.66      0.65      0.66     25317\n",
      "           1       0.65      0.66      0.66     24943\n",
      "\n",
      "    accuracy                           0.66     50260\n",
      "   macro avg       0.66      0.66      0.66     50260\n",
      "weighted avg       0.66      0.66      0.66     50260\n",
      "\n",
      "Test classification report: \n",
      "               precision    recall  f1-score   support\n",
      "\n",
      "           0       0.66      0.71      0.68      6328\n",
      "           1       0.68      0.63      0.65      6238\n",
      "\n",
      "    accuracy                           0.67     12566\n",
      "   macro avg       0.67      0.67      0.67     12566\n",
      "weighted avg       0.67      0.67      0.67     12566\n"
     ]
    }
   ],
   "source": [
    "# predict the bid label\n",
    "X = lob_data[['Min Ask Price','Max Bid Price','Total Bid Quantity','Total Ask Quantity','Min Ask Quantity','Max Bid Quantity','ofi','RSI','Hour','Dayofweek','Day','Month']]\n",
    "y = lob_data['bid_label']\n",
    "# use the last 20% data as test set\n",
    "split_index = int(len(X)*0.8)\n",
    "X_train, X_test = X[:split_index], X[split_index:] # [50285, 8],[12572, 8]\n",
    "y_train, y_test = y[:split_index], y[split_index:]\n",
    "\n",
    "# Standardize the features\n",
    "scaler = StandardScaler()\n",
    "X_train_scaled = scaler.fit_transform(X_train)\n",
    "X_test_scaled = scaler.transform(X_test)\n",
    "\n",
    "# Train the model\n",
    "model_sell = LogisticRegression()\n",
    "model_sell.fit(X_train_scaled, y_train)\n",
    "\n",
    "# Predict the test set\n",
    "y_pred =model_sell.predict(X_test_scaled)\n",
    "\n",
    "print('Train classification report: \\n',classification_report(y_train, model_sell.predict(X_train_scaled)))\n",
    "print('Test classification report: \\n',classification_report(y_test, y_pred))"
   ],
   "metadata": {
    "collapsed": false,
    "ExecuteTime": {
     "end_time": "2024-03-10T18:00:05.995020Z",
     "start_time": "2024-03-10T18:00:05.876705Z"
    }
   },
   "id": "ddbefc802e903568",
   "execution_count": 205
  },
  {
   "cell_type": "markdown",
   "source": [
    "## 4. Trading Simulator\n",
    "### 4.1 Baseline Strategy\n",
    "\n",
    "#### Strategy\n",
    "- Use the bid/ask label to trade. If the model predicts the ask price will go up, then buy. If the model predicts the bid price will go down, then sell.\n",
    "- Add `has_position` to record the current position. If the current has no position, then buy. If the current has position, then sell. \n",
    "- Use the volatility to adjust the trade quantity. Reduce the trade quantity when the volatility is high, and increase the trade quantity when the volatility is low.\n",
    "\n",
    "The bid/aks label come from the bid/ask price. If the next bid/ask price goes up, then the label is 1, otherwise, the label is 0.\n",
    "\n",
    "We can use logistic classifier or other models to predict the bid/ask label. Need more try to find the best model.\n",
    "\n",
    "When trading, if we buy, we use the current Min ask price; if we sell, we use the current Max bid price.\n",
    "\n",
    "About trading quantity, we can use the volatility to adjust the trade quantity. When the volatility is high, we reduce the trade quantity.\n",
    "There is a parameter called \"risk_tolerance\". If we can tolerate more risk, set it to a higher value, then we will trade more. \n",
    "However, we should consider the max trading quantity, we can't trade more than `Max Bid Quantity` or `Max Ask Quantity`.\n",
    "And when selling, we can't sell more than the current holdings.\n",
    "\n",
    "#### Improvement\n",
    "动态调整：考虑实现一种机制，根据市场条件或策略表现动态调整您的交易参数（如风险容忍度、交易量等）。这可以增加策略的灵活性和适应性。\n",
    "\n",
    "Dynamic adjustment: Consider implementing a mechanism to dynamically adjust your trading parameters (such as risk tolerance, trading volume, etc.) based on market conditions or strategy performance. This can increase the flexibility and adaptability of the strategy."
   ],
   "metadata": {
    "collapsed": false
   },
   "id": "655b12d757994494"
  },
  {
   "cell_type": "code",
   "outputs": [
    {
     "name": "stdout",
     "output_type": "stream",
     "text": [
      "Final capital:  -138019.36\n",
      "Profit:  -238019.36\n",
      "Final return:  -238.02 %\n",
      "Number of trades:  6463\n"
     ]
    }
   ],
   "source": [
    "initial_capital = 100000\n",
    "capital = initial_capital\n",
    "has_position = False\n",
    "trade_log = []\n",
    "# capital_history = [initial_capital]\n",
    "current_holdings = 0\n",
    "transaction_cost = 0.01\n",
    "# trade_quantity = 1\n",
    "\n",
    "for i in range(len(X_test_scaled)):\n",
    "    current_features = X_test_scaled[i]\n",
    "    \n",
    "    # use logistic models to predict the next minute's price change(both ask and bid)\n",
    "    buy_prediction = model_buy.predict([current_features])[0]  # 预测下一时刻最小卖出价是否上涨\n",
    "    sell_prediction = model_sell.predict([current_features])[0]  # 预测下一时刻最大买入价是否上涨\n",
    "     \n",
    "    # adjust the trade quantity based on the volatility. make the trade quantity no more than the max tradeable quantity\n",
    "    current_volatility_buy = lob_data['Volatility Min Ask'].iloc[split_index + i] \n",
    "    current_volatility_sell = lob_data['Volatility Max Bid'].iloc[split_index + i]\n",
    "    \n",
    "    # buy policy: if the model predicts the ask price will go up, and the current has no position, then buy\n",
    "    if buy_prediction and not has_position :\n",
    "\n",
    "        # 如果模型预测价格上涨且当前没有持仓，则买入\n",
    "        buy_price = lob_data['Min Ask Price'].iloc[split_index + i]\n",
    "        buy_quantity = adjust_trade_quantity(current_volatility_buy,lob_data['Min Ask Quantity'].iloc[split_index + i],risk_tolerance=0.5,scaler_fator=10)\n",
    "        capital -= buy_price*buy_quantity*(1+transaction_cost)\n",
    "        current_holdings += buy_quantity\n",
    "        has_position = True\n",
    "        trade_log.append({'action': 'BUY', 'Time':lob_data['Datetime'].iloc[split_index + i],'price': buy_price, 'capital': capital, 'quantity': buy_quantity,'max quantity':lob_data['Min Ask Quantity'].iloc[split_index + i]})\n",
    "        \n",
    "    # sell policy: if the model predicts the bid price will go down, and the current has position, then sell\n",
    "    elif not sell_prediction and has_position :\n",
    "\n",
    "        # 如果模型预测价格不上涨且当前有持仓，则卖出\n",
    "        sell_price = lob_data['Max Bid Price'].iloc[split_index + i]\n",
    "        sell_quantity = min(current_holdings, adjust_trade_quantity(current_volatility_sell,lob_data['Max Bid Quantity'].iloc[split_index + i],risk_tolerance=0.5,scaler_fator=10))\n",
    "        capital += sell_price*sell_quantity*(1-transaction_cost)\n",
    "        current_holdings -= sell_quantity\n",
    "        has_position = False\n",
    "        trade_log.append({'action': 'SELL','Time':lob_data['Datetime'].iloc[split_index + i],'price': sell_price, 'capital': capital, 'quantity': sell_quantity,'max quantity':lob_data['Max Bid Quantity'].iloc[split_index + i]})\n",
    "\n",
    "# 计算最终资本\n",
    "final_capital = capital\n",
    "profit = final_capital - initial_capital\n",
    "number_of_trades = len(trade_log)\n",
    "\n",
    "# 保留两位小数\n",
    "print('Final capital: ', round(final_capital, 2))\n",
    "print('Profit: ', round(profit, 2))\n",
    "print('Final return: ', round(profit / initial_capital * 100, 2), '%')\n",
    "print('Number of trades: ', number_of_trades)"
   ],
   "metadata": {
    "collapsed": false,
    "ExecuteTime": {
     "end_time": "2024-03-10T18:20:43.192775Z",
     "start_time": "2024-03-10T18:20:41.714650Z"
    }
   },
   "id": "7365508f3b7cbeb4",
   "execution_count": 217
  }
 ],
 "metadata": {
  "kernelspec": {
   "display_name": "Python 3",
   "language": "python",
   "name": "python3"
  },
  "language_info": {
   "codemirror_mode": {
    "name": "ipython",
    "version": 2
   },
   "file_extension": ".py",
   "mimetype": "text/x-python",
   "name": "python",
   "nbconvert_exporter": "python",
   "pygments_lexer": "ipython2",
   "version": "2.7.6"
  }
 },
 "nbformat": 4,
 "nbformat_minor": 5
}

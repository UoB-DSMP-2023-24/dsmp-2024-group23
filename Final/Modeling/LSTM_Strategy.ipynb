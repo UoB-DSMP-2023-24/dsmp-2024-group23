{
 "cells": [
  {
   "cell_type": "code",
   "execution_count": null,
   "id": "initial_id",
   "metadata": {
    "collapsed": true
   },
   "outputs": [],
   "source": [
    "import pandas as pd\n",
    "import numpy as np\n",
    "import matplotlib.pyplot as plt\n",
    "import seaborn as sns\n",
    "from Ryan.Models.LSTM_model_Regression.preprocess import preprocess_data\n",
    "from Ryan.Models.LSTM_model_Regression.lstm_models import  LSTMModel, LSTMModel_multi\n",
    "from Ryan.Models.LSTM_model_Regression.run_fn import eval_fn, train_fn\n",
    "from Ryan.Models.LSTM_model_Regression.load_data import load_data, create_sequences\n",
    "from Ryan.Models.LSTM_model_Regression.load_data import load_data2\n",
    "import torch\n",
    "from transformers import get_linear_schedule_with_warmup\n",
    "from sklearn.preprocessing import MinMaxScaler\n",
    "from tqdm import tqdm\n",
    "from torch.utils.data import DataLoader, TensorDataset\n",
    "from sklearn.model_selection import train_test_split\n",
    "\n",
    "%load_ext autoreload\n",
    "%autoreload 2"
   ]
  },
  {
   "cell_type": "markdown",
   "source": [
    "# 1. Load Data\n",
    "use the `resampled_lob_secs2.csv` file as the test data (last 10%)\n",
    "\n",
    "align the test index with the prediction index. The length of both should be the same (376707)\n",
    "\n",
    "set `test_set=test_data[21:-1]` to align the test data with the prediction data"
   ],
   "metadata": {
    "collapsed": false
   },
   "id": "ef0739d9b18a88a5"
  },
  {
   "cell_type": "code",
   "outputs": [],
   "source": [
    "lob_data=pd.read_csv('E:\\\\Bristol\\\\mini_project\\\\JPMorgan_Set01\\\\test_datasets\\\\resampled_lob_secs2.csv')\n",
    "\n",
    "loaded_pred=np.load('./saved_models_regression/predictions_new3.npy')\n",
    "loaded_true=np.load('./saved_models_regression/actuals_new3.npy')"
   ],
   "metadata": {
    "collapsed": false
   },
   "id": "1128dc4cf8f3542f",
   "execution_count": null
  },
  {
   "cell_type": "code",
   "outputs": [],
   "source": [
    "split_index=int(0.9*len(lob_data))\n",
    "train_data=lob_data.iloc[:split_index]\n",
    "test_data=lob_data.iloc[split_index:]\n",
    "test_set=test_data[21:-1]\n",
    "\n",
    "test_set.reset_index(drop=True, inplace=True) # drop=True to avoid the old index being added as a column\n",
    "test_set"
   ],
   "metadata": {
    "collapsed": false
   },
   "id": "f695b71d5c5909ab",
   "execution_count": null
  },
  {
   "cell_type": "code",
   "outputs": [],
   "source": [
    "# use the true price in test set and predicted price to plot\n",
    "plt.figure(figsize=(10,6))\n",
    "plt.plot(test_set['price'][300000:300100].values, label='Actuals')\n",
    "plt.plot(loaded_pred[300000:300100], label='Predictions')\n",
    "plt.legend()\n",
    "plt.title('Predictions vs Actuals of LSTM model')\n",
    "plt.ylabel('Price')\n",
    "plt.xlabel('Samples')\n",
    "plt.show()"
   ],
   "metadata": {
    "collapsed": false
   },
   "id": "81cc4af1ed4ba4c4",
   "execution_count": null
  },
  {
   "cell_type": "markdown",
   "source": [
    "# 2. Trading Strategy"
   ],
   "metadata": {
    "collapsed": false
   },
   "id": "c22fe635ccafc328"
  },
  {
   "cell_type": "code",
   "outputs": [],
   "source": [
    "df=pd.DataFrame()\n",
    "df['ori_price']=test_set['price']\n",
    "df['pred']=loaded_pred\n",
    "df"
   ],
   "metadata": {
    "collapsed": false
   },
   "id": "d7202a7e62b266d6",
   "execution_count": null
  },
  {
   "cell_type": "code",
   "outputs": [],
   "source": [
    "# This is only for trading volume, not for modeling\n",
    "# # 设置一个时间窗口\n",
    "rolling_window = 5  # 例如，我们使用过去5个时间点的数据来计算波动率\n",
    "\n",
    "# 计算对数收益率 shift(1)是为了计算相对于前一分钟的收益率\n",
    "test_set['Log Return Max Bid'] = np.log(test_set['Max Bid Price'] / test_set['Max Bid Price'].shift(1))\n",
    "test_set['Log Return Min Ask'] = np.log(test_set['Min Ask Price'] / test_set['Min Ask Price'].shift(1))\n",
    "\n",
    "# 计算滚动标准差作为波动率的度量\n",
    "test_set['Volatility Max Bid'] = test_set['Log Return Max Bid'].rolling(window=rolling_window).std()\n",
    "test_set['Volatility Min Ask'] = test_set['Log Return Min Ask'].rolling(window=rolling_window).std()\n",
    "\n",
    "# 由于滚动计算会产生缺失值，我们通常会删除这些值\n",
    "# lob_data.dropna(inplace=True)\n",
    "\n",
    "# Trading volume\n",
    "def adjust_trade_quantity(volatility, max_tradeable_quantity, base_quantity=1, risk_tolerance=0.5, scaler_factor=10):\n",
    "    \"\"\"\n",
    "    根据波动率和最大可交易量调整交易量。\n",
    "    volatility: 当前波动率\n",
    "    max_tradeable_quantity: 该时间点的最大可交易量（对于买入操作，是Min Ask Quantity；对于卖出操作，是Max Bid Quantity）\n",
    "    base_quantity: 基础交易量\n",
    "    risk_tolerance: 风险容忍度，取值范围为[0, 1]，数值越小表风险承受越大，交易量越大\n",
    "    scaler_factor: 缩放因子，用于进一步调整基于波动率的交易量\n",
    "    \"\"\"\n",
    "    # 确保风险容忍度和波动率不会导致除以0\n",
    "    if volatility <= 0.0001:\n",
    "        volatility = 0.0001\n",
    "    if risk_tolerance <= 0:\n",
    "        risk_tolerance = 0.1  # 设置一个默认的风险容忍度，避免除以0\n",
    "\n",
    "    # 基于波动率调整的交易量\n",
    "    adjusted_quantity = base_quantity / (volatility * risk_tolerance * scaler_factor)\n",
    "    adjusted_quantity = max(1, round(adjusted_quantity))  # 确保至少交易1单位，并且是整数\n",
    "\n",
    "    # 确保交易量不超过最大可交易量\n",
    "    final_trade_quantity = min(adjusted_quantity, max_tradeable_quantity)\n",
    "\n",
    "    return final_trade_quantity"
   ],
   "metadata": {
    "collapsed": false
   },
   "id": "19729e7a89853fd9",
   "execution_count": null
  },
  {
   "cell_type": "code",
   "outputs": [
    {
     "name": "stdout",
     "output_type": "stream",
     "text": [
      "Profit:  7208478\n",
      "Number of buys:  139302\n",
      "Number of sells:  126278\n"
     ]
    }
   ],
   "source": [
    "initial_capital = 100000\n",
    "capital = initial_capital\n",
    "has_position = False\n",
    "trade_log = []\n",
    "# capital_history = [initial_capital]\n",
    "current_holdings = 0\n",
    "transaction_cost = 0.01\n",
    "# trade_quantity = 1\n",
    "\n",
    "count=0\n",
    "\n",
    "\n",
    "for i in range(len(test_set)-1):\n",
    "    # skip the iteration if there is any missing value\n",
    "    count+=1\n",
    "    if test_set.iloc[i].isna().any():\n",
    "        continue\n",
    "\n",
    "    current_predict = loaded_pred[i]\n",
    "    next_predict = loaded_pred[i+1]\n",
    "    current_true = test_set['price'][i]\n",
    "    # predict_price = y_pred_rf[i + 1]\n",
    "    # current_price = y_pred_rf[i]\n",
    "    \n",
    "    # adjust the trade quantity based on the volatility. make the trade quantity no more than the max tradeable quantity\n",
    "    current_volatility_buy = test_set['Volatility Min Ask'].iloc[i ]\n",
    "    current_volatility_sell = test_set['Volatility Max Bid'].iloc[i ]\n",
    "    ofi = test_set['ofi'].iloc[i]\n",
    "    rsi = test_set['RSI'].iloc[i]\n",
    "\n",
    "    # buy policy: 当下一个点预测价格比当前点预测价格上升大于0.5%时，买入\n",
    "    if not has_position and next_predict > current_predict * 1.005:\n",
    "        # if not has_position and rsi>60:\n",
    "\n",
    "        # buy_price=X_test['price'].iloc[i]\n",
    "        # buy_price = lob_data['price'].iloc[i + split_index]\n",
    "        buy_price = current_true\n",
    "        buy_quantity = adjust_trade_quantity(current_volatility_buy, test_set['Min Ask Quantity'].iloc[i],\n",
    "                                             scaler_factor=10)\n",
    "        capital -= buy_price * buy_quantity * (1 + transaction_cost)\n",
    "        current_holdings += buy_quantity\n",
    "        has_position = True\n",
    "        trade_log.append({'action': 'BUY1', 'Time': test_set['Datetime'].iloc[i], 'price': buy_price,\n",
    "                          'capital': capital, 'quantity': buy_quantity,\n",
    "                          'max quantity': test_set['Min Ask Quantity'].iloc[i]})\n",
    "     \n",
    "    # buy 2: when has position but next price is much higher than current price, buy more (5% increase)   \n",
    "    if has_position and next_predict> current_predict*1.05: \n",
    "        buy_price = current_true\n",
    "        buy_quantity = adjust_trade_quantity(current_volatility_buy, test_set['Min Ask Quantity'].iloc[i],\n",
    "                                             scaler_factor=10)\n",
    "        capital -= buy_price * buy_quantity * (1 + transaction_cost)\n",
    "        current_holdings += buy_quantity\n",
    "        has_position = True\n",
    "        trade_log.append({'action': 'BUY2', 'Time': test_set['Datetime'].iloc[i], 'price': buy_price,\n",
    "                          'capital': capital, 'quantity': buy_quantity,\n",
    "                          'max quantity': test_set['Min Ask Quantity'].iloc[i]})\n",
    "\n",
    "    # sell policy: 当下一个点预测价格比当前点预测价格下降大于0.5%时，卖出\n",
    "    elif has_position and next_predict < current_predict * 0.995:\n",
    "        # elif has_position and rsi<40:\n",
    "\n",
    "        # sell_price=X_test['price'].iloc[i]\n",
    "        # sell_price = lob_data['price'].iloc[i + split_index]\n",
    "        sell_price = current_true\n",
    "        sell_quantity = min(current_holdings, adjust_trade_quantity(current_volatility_sell,\n",
    "                                                                    test_set['Max Bid Quantity'].iloc[i],\n",
    "                                                                    scaler_factor=20))\n",
    "        capital += sell_price * sell_quantity * (1 - transaction_cost)\n",
    "        current_holdings -= sell_quantity\n",
    "        \n",
    "        if current_holdings == 0:\n",
    "            has_position = False\n",
    "        \n",
    "        trade_log.append({'action': 'SELL', 'Time': test_set['Datetime'].iloc[i], 'price': sell_price,\n",
    "                          'capital': capital, 'quantity': sell_quantity,\n",
    "                          'max quantity': test_set['Max Bid Quantity'].iloc[i]})\n",
    "\n",
    "    # hold policy: 当下一个点预测价格比当前点预测价格波动小于0.5%时，继续持有\n",
    "    elif has_position and current_predict * 0.995 <= next_predict <= current_predict * 1.005:\n",
    "        trade_log.append({'action': 'HOLD', 'Time': test_set['Datetime'].iloc[i],\n",
    "                          'price': test_set['price'].iloc[i], 'capital': capital,\n",
    "                          'quantity': current_holdings})\n",
    "\n",
    "# 计算最终资本\n",
    "final_capital = capital\n",
    "profit = final_capital - initial_capital\n",
    "# 只计算buy和sell的次数\n",
    "number_of_buy = len([trade for trade in trade_log if trade['action'] in ['BUY1','BUY2']])\n",
    "number_of_sell = len([trade for trade in trade_log if trade['action'] == 'SELL'])\n",
    "# number_of_trades = len(trade_log)\n",
    "\n",
    "# 保留两位小数\n",
    "# print('Final capital: ', round(final_capital))\n",
    "print('Profit: ', round(profit))\n",
    "# print('Final return: ', round(profit / initial_capital * 100, 2), '%')\n",
    "print('Number of buys: ', number_of_buy)\n",
    "print('Number of sells: ', number_of_sell)"
   ],
   "metadata": {
    "collapsed": false,
    "ExecuteTime": {
     "end_time": "2024-04-20T15:08:23.205610Z",
     "start_time": "2024-04-20T15:07:43.997866Z"
    }
   },
   "id": "58f320a1e2417703",
   "execution_count": 37
  },
  {
   "cell_type": "markdown",
   "source": [
    "### EXP1\n",
    "buy: next_predict > current_predict * 1.005\n",
    "sell: next_predict < current_predict * 0.995\n",
    "hold: current_predict * 0.995 <= next_predict <= current_predict * 1.005\n",
    "\n",
    "Profit:  3794389\n",
    "Number of trades:  181696\n",
    "\n",
    "### EXP2\n",
    "buy1: next_predict > current_predict * 1.005 (0.5% increase)\n",
    "buy2: has_position and next_predict> current_predict*1.05 (5% increase)\n",
    "sell: next_predict < current_predict * 0.995\n",
    "hold: current_predict * 0.995 <= next_predict <= current_predict * 1.005\n",
    "\n",
    "Profit:  7208478\n",
    "Number of buys:  139302\n",
    "Number of sells:  126278"
   ],
   "metadata": {
    "collapsed": false
   },
   "id": "ca1174a487f4ac61"
  }
 ],
 "metadata": {
  "kernelspec": {
   "display_name": "Python 3",
   "language": "python",
   "name": "python3"
  },
  "language_info": {
   "codemirror_mode": {
    "name": "ipython",
    "version": 2
   },
   "file_extension": ".py",
   "mimetype": "text/x-python",
   "name": "python",
   "nbconvert_exporter": "python",
   "pygments_lexer": "ipython2",
   "version": "2.7.6"
  }
 },
 "nbformat": 4,
 "nbformat_minor": 5
}
